{
 "cells": [
  {
   "cell_type": "code",
   "execution_count": 65,
   "metadata": {},
   "outputs": [],
   "source": [
    "import pandas as pd\n",
    "import matplotlib.pyplot as plt\n",
    "import numpy as np\n",
    "import plotly.graph_objects as go"
   ]
  },
  {
   "cell_type": "code",
   "execution_count": 364,
   "metadata": {},
   "outputs": [],
   "source": [
    "import statsmodels.api as sm\n",
    "from pypfopt import CLA\n",
    "from pypfopt.expected_returns import mean_historical_return\n",
    "from pypfopt.risk_models import CovarianceShrinkage\n",
    "from scipy.stats import norm\n",
    "from scipy.stats import norm,anderson\n",
    "from scipy.stats import skewnorm, skewtest"
   ]
  },
  {
   "cell_type": "markdown",
   "metadata": {},
   "source": [
    "### Uploading data containing daily stock prices of 4 major banks(Morgan Stanley, Citi, JPMorgan Chase, Goldman Sachs) during period before, during and after Financial Crisis of 2008"
   ]
  },
  {
   "cell_type": "code",
   "execution_count": 281,
   "metadata": {},
   "outputs": [],
   "source": [
    "df1 = pd.read_csv(\"Financial_Stocks.csv\")"
   ]
  },
  {
   "cell_type": "code",
   "execution_count": 282,
   "metadata": {},
   "outputs": [],
   "source": [
    "df = df1.copy()"
   ]
  },
  {
   "cell_type": "markdown",
   "metadata": {},
   "source": [
    "### Data Preprocessing"
   ]
  },
  {
   "cell_type": "code",
   "execution_count": 283,
   "metadata": {
    "scrolled": true
   },
   "outputs": [
    {
     "data": {
      "text/html": [
       "<div>\n",
       "<style scoped>\n",
       "    .dataframe tbody tr th:only-of-type {\n",
       "        vertical-align: middle;\n",
       "    }\n",
       "\n",
       "    .dataframe tbody tr th {\n",
       "        vertical-align: top;\n",
       "    }\n",
       "\n",
       "    .dataframe thead th {\n",
       "        text-align: right;\n",
       "    }\n",
       "</style>\n",
       "<table border=\"1\" class=\"dataframe\">\n",
       "  <thead>\n",
       "    <tr style=\"text-align: right;\">\n",
       "      <th></th>\n",
       "      <th>Date</th>\n",
       "      <th>Close_MS</th>\n",
       "      <th>Close_Citi</th>\n",
       "      <th>JPM_Close</th>\n",
       "      <th>GS_Close</th>\n",
       "    </tr>\n",
       "  </thead>\n",
       "  <tbody>\n",
       "    <tr>\n",
       "      <th>0</th>\n",
       "      <td>03-01-2007</td>\n",
       "      <td>81.620003</td>\n",
       "      <td>552.500000</td>\n",
       "      <td>48.070000</td>\n",
       "      <td>200.720001</td>\n",
       "    </tr>\n",
       "    <tr>\n",
       "      <th>1</th>\n",
       "      <td>04-01-2007</td>\n",
       "      <td>81.910004</td>\n",
       "      <td>550.599976</td>\n",
       "      <td>48.189999</td>\n",
       "      <td>198.850006</td>\n",
       "    </tr>\n",
       "    <tr>\n",
       "      <th>2</th>\n",
       "      <td>05-01-2007</td>\n",
       "      <td>80.860001</td>\n",
       "      <td>547.700012</td>\n",
       "      <td>47.790001</td>\n",
       "      <td>199.050003</td>\n",
       "    </tr>\n",
       "    <tr>\n",
       "      <th>3</th>\n",
       "      <td>08-01-2007</td>\n",
       "      <td>81.349998</td>\n",
       "      <td>550.500000</td>\n",
       "      <td>47.950001</td>\n",
       "      <td>203.729996</td>\n",
       "    </tr>\n",
       "    <tr>\n",
       "      <th>4</th>\n",
       "      <td>09-01-2007</td>\n",
       "      <td>81.160004</td>\n",
       "      <td>545.700012</td>\n",
       "      <td>47.750000</td>\n",
       "      <td>204.080002</td>\n",
       "    </tr>\n",
       "    <tr>\n",
       "      <th>5</th>\n",
       "      <td>10-01-2007</td>\n",
       "      <td>81.570000</td>\n",
       "      <td>541.299988</td>\n",
       "      <td>48.099998</td>\n",
       "      <td>208.110001</td>\n",
       "    </tr>\n",
       "    <tr>\n",
       "      <th>6</th>\n",
       "      <td>11-01-2007</td>\n",
       "      <td>82.370003</td>\n",
       "      <td>541.700012</td>\n",
       "      <td>48.310001</td>\n",
       "      <td>211.880005</td>\n",
       "    </tr>\n",
       "    <tr>\n",
       "      <th>7</th>\n",
       "      <td>12-01-2007</td>\n",
       "      <td>82.860001</td>\n",
       "      <td>543.799988</td>\n",
       "      <td>47.990002</td>\n",
       "      <td>213.990005</td>\n",
       "    </tr>\n",
       "    <tr>\n",
       "      <th>8</th>\n",
       "      <td>16-01-2007</td>\n",
       "      <td>82.610001</td>\n",
       "      <td>547.700012</td>\n",
       "      <td>48.389999</td>\n",
       "      <td>213.589996</td>\n",
       "    </tr>\n",
       "    <tr>\n",
       "      <th>9</th>\n",
       "      <td>17-01-2007</td>\n",
       "      <td>82.379997</td>\n",
       "      <td>543.900024</td>\n",
       "      <td>48.430000</td>\n",
       "      <td>213.229996</td>\n",
       "    </tr>\n",
       "  </tbody>\n",
       "</table>\n",
       "</div>"
      ],
      "text/plain": [
       "         Date   Close_MS  Close_Citi  JPM_Close    GS_Close\n",
       "0  03-01-2007  81.620003  552.500000  48.070000  200.720001\n",
       "1  04-01-2007  81.910004  550.599976  48.189999  198.850006\n",
       "2  05-01-2007  80.860001  547.700012  47.790001  199.050003\n",
       "3  08-01-2007  81.349998  550.500000  47.950001  203.729996\n",
       "4  09-01-2007  81.160004  545.700012  47.750000  204.080002\n",
       "5  10-01-2007  81.570000  541.299988  48.099998  208.110001\n",
       "6  11-01-2007  82.370003  541.700012  48.310001  211.880005\n",
       "7  12-01-2007  82.860001  543.799988  47.990002  213.990005\n",
       "8  16-01-2007  82.610001  547.700012  48.389999  213.589996\n",
       "9  17-01-2007  82.379997  543.900024  48.430000  213.229996"
      ]
     },
     "execution_count": 283,
     "metadata": {},
     "output_type": "execute_result"
    }
   ],
   "source": [
    "df.head(10)"
   ]
  },
  {
   "cell_type": "code",
   "execution_count": 284,
   "metadata": {},
   "outputs": [
    {
     "data": {
      "text/plain": [
       "Date          0\n",
       "Close_MS      0\n",
       "Close_Citi    0\n",
       "JPM_Close     0\n",
       "GS_Close      0\n",
       "dtype: int64"
      ]
     },
     "execution_count": 284,
     "metadata": {},
     "output_type": "execute_result"
    }
   ],
   "source": [
    "df.isna().sum()"
   ]
  },
  {
   "cell_type": "code",
   "execution_count": 285,
   "metadata": {},
   "outputs": [],
   "source": [
    "df['Date'] = pd.to_datetime(df['Date'])"
   ]
  },
  {
   "cell_type": "code",
   "execution_count": 286,
   "metadata": {},
   "outputs": [],
   "source": [
    "df = df.set_index('Date')"
   ]
  },
  {
   "cell_type": "code",
   "execution_count": 287,
   "metadata": {},
   "outputs": [],
   "source": [
    "df4 = df.copy()"
   ]
  },
  {
   "cell_type": "code",
   "execution_count": 288,
   "metadata": {},
   "outputs": [
    {
     "data": {
      "text/html": [
       "<div>\n",
       "<style scoped>\n",
       "    .dataframe tbody tr th:only-of-type {\n",
       "        vertical-align: middle;\n",
       "    }\n",
       "\n",
       "    .dataframe tbody tr th {\n",
       "        vertical-align: top;\n",
       "    }\n",
       "\n",
       "    .dataframe thead th {\n",
       "        text-align: right;\n",
       "    }\n",
       "</style>\n",
       "<table border=\"1\" class=\"dataframe\">\n",
       "  <thead>\n",
       "    <tr style=\"text-align: right;\">\n",
       "      <th></th>\n",
       "      <th>Close_MS</th>\n",
       "      <th>Close_Citi</th>\n",
       "      <th>JPM_Close</th>\n",
       "      <th>GS_Close</th>\n",
       "    </tr>\n",
       "    <tr>\n",
       "      <th>Date</th>\n",
       "      <th></th>\n",
       "      <th></th>\n",
       "      <th></th>\n",
       "      <th></th>\n",
       "    </tr>\n",
       "  </thead>\n",
       "  <tbody>\n",
       "    <tr>\n",
       "      <th>2007-03-01</th>\n",
       "      <td>81.620003</td>\n",
       "      <td>552.500000</td>\n",
       "      <td>48.070000</td>\n",
       "      <td>200.720001</td>\n",
       "    </tr>\n",
       "    <tr>\n",
       "      <th>2007-04-01</th>\n",
       "      <td>81.910004</td>\n",
       "      <td>550.599976</td>\n",
       "      <td>48.189999</td>\n",
       "      <td>198.850006</td>\n",
       "    </tr>\n",
       "    <tr>\n",
       "      <th>2007-05-01</th>\n",
       "      <td>80.860001</td>\n",
       "      <td>547.700012</td>\n",
       "      <td>47.790001</td>\n",
       "      <td>199.050003</td>\n",
       "    </tr>\n",
       "  </tbody>\n",
       "</table>\n",
       "</div>"
      ],
      "text/plain": [
       "             Close_MS  Close_Citi  JPM_Close    GS_Close\n",
       "Date                                                    \n",
       "2007-03-01  81.620003  552.500000  48.070000  200.720001\n",
       "2007-04-01  81.910004  550.599976  48.189999  198.850006\n",
       "2007-05-01  80.860001  547.700012  47.790001  199.050003"
      ]
     },
     "execution_count": 288,
     "metadata": {},
     "output_type": "execute_result"
    }
   ],
   "source": [
    "df.head(3)"
   ]
  },
  {
   "cell_type": "code",
   "execution_count": 289,
   "metadata": {},
   "outputs": [
    {
     "data": {
      "text/html": [
       "<div>\n",
       "<style scoped>\n",
       "    .dataframe tbody tr th:only-of-type {\n",
       "        vertical-align: middle;\n",
       "    }\n",
       "\n",
       "    .dataframe tbody tr th {\n",
       "        vertical-align: top;\n",
       "    }\n",
       "\n",
       "    .dataframe thead th {\n",
       "        text-align: right;\n",
       "    }\n",
       "</style>\n",
       "<table border=\"1\" class=\"dataframe\">\n",
       "  <thead>\n",
       "    <tr style=\"text-align: right;\">\n",
       "      <th></th>\n",
       "      <th>Close_MS</th>\n",
       "      <th>Close_Citi</th>\n",
       "      <th>JPM_Close</th>\n",
       "      <th>GS_Close</th>\n",
       "    </tr>\n",
       "  </thead>\n",
       "  <tbody>\n",
       "    <tr>\n",
       "      <th>count</th>\n",
       "      <td>1007.000000</td>\n",
       "      <td>1007.000000</td>\n",
       "      <td>1007.000000</td>\n",
       "      <td>1007.000000</td>\n",
       "    </tr>\n",
       "    <tr>\n",
       "      <th>mean</th>\n",
       "      <td>40.228898</td>\n",
       "      <td>186.092056</td>\n",
       "      <td>40.848590</td>\n",
       "      <td>164.917607</td>\n",
       "    </tr>\n",
       "    <tr>\n",
       "      <th>std</th>\n",
       "      <td>20.498821</td>\n",
       "      <td>185.851510</td>\n",
       "      <td>6.746547</td>\n",
       "      <td>40.236383</td>\n",
       "    </tr>\n",
       "    <tr>\n",
       "      <th>min</th>\n",
       "      <td>9.200000</td>\n",
       "      <td>10.200000</td>\n",
       "      <td>15.900000</td>\n",
       "      <td>52.000000</td>\n",
       "    </tr>\n",
       "    <tr>\n",
       "      <th>25%</th>\n",
       "      <td>26.000000</td>\n",
       "      <td>39.099998</td>\n",
       "      <td>37.730002</td>\n",
       "      <td>144.930001</td>\n",
       "    </tr>\n",
       "    <tr>\n",
       "      <th>50%</th>\n",
       "      <td>30.790001</td>\n",
       "      <td>65.199997</td>\n",
       "      <td>41.529999</td>\n",
       "      <td>166.750000</td>\n",
       "    </tr>\n",
       "    <tr>\n",
       "      <th>75%</th>\n",
       "      <td>49.979999</td>\n",
       "      <td>292.550003</td>\n",
       "      <td>45.330000</td>\n",
       "      <td>190.285004</td>\n",
       "    </tr>\n",
       "    <tr>\n",
       "      <th>max</th>\n",
       "      <td>89.300003</td>\n",
       "      <td>552.500000</td>\n",
       "      <td>53.200001</td>\n",
       "      <td>247.919998</td>\n",
       "    </tr>\n",
       "  </tbody>\n",
       "</table>\n",
       "</div>"
      ],
      "text/plain": [
       "          Close_MS   Close_Citi    JPM_Close     GS_Close\n",
       "count  1007.000000  1007.000000  1007.000000  1007.000000\n",
       "mean     40.228898   186.092056    40.848590   164.917607\n",
       "std      20.498821   185.851510     6.746547    40.236383\n",
       "min       9.200000    10.200000    15.900000    52.000000\n",
       "25%      26.000000    39.099998    37.730002   144.930001\n",
       "50%      30.790001    65.199997    41.529999   166.750000\n",
       "75%      49.979999   292.550003    45.330000   190.285004\n",
       "max      89.300003   552.500000    53.200001   247.919998"
      ]
     },
     "execution_count": 289,
     "metadata": {},
     "output_type": "execute_result"
    }
   ],
   "source": [
    "df.describe()"
   ]
  },
  {
   "cell_type": "code",
   "execution_count": 290,
   "metadata": {},
   "outputs": [
    {
     "data": {
      "text/plain": [
       "Text(0.5, 1.0, 'Close Price of 4 major price during financial crisis')"
      ]
     },
     "execution_count": 290,
     "metadata": {},
     "output_type": "execute_result"
    },
    {
     "data": {
      "image/png": "[encoded data removed]",
      "text/plain": [
       "<Figure size 936x576 with 1 Axes>"
      ]
     },
     "metadata": {
      "needs_background": "light"
     },
     "output_type": "display_data"
    }
   ],
   "source": [
    "# from 2007 - 2010\n",
    "df.plot(legend = 'MS',figsize=(13,8))\n",
    "plt.ylabel(\"Close Price\")\n",
    "plt.title('Close Price of 4 major price during financial crisis')"
   ]
  },
  {
   "cell_type": "markdown",
   "metadata": {},
   "source": [
    "### Quantifying Return (Taking log returns in place of close prices due to high autocorrelation in prices)"
   ]
  },
  {
   "cell_type": "code",
   "execution_count": 291,
   "metadata": {},
   "outputs": [],
   "source": [
    "df['Lag_MS'] = df['Close_MS'].shift(1)\n",
    "df['Return_MS'] = (np.log(df['Close_MS']/df['Lag_MS']))*100\n",
    "df['Lag_Citi'] = df['Close_Citi'].shift(1)\n",
    "df['Return_Citi'] = (np.log(df['Close_Citi']/df['Lag_Citi']))*100\n",
    "df['Lag_JPM'] = df['JPM_Close'].shift(1)\n",
    "df['Return_JPM'] = (np.log(df['JPM_Close']/df['Lag_JPM']))*100\n",
    "df['Lag_GS'] = df['GS_Close'].shift(1)\n",
    "df['Return_GS'] = (np.log(df['GS_Close']/df['Lag_GS']))*100"
   ]
  },
  {
   "cell_type": "code",
   "execution_count": 292,
   "metadata": {},
   "outputs": [
    {
     "data": {
      "text/html": [
       "<div>\n",
       "<style scoped>\n",
       "    .dataframe tbody tr th:only-of-type {\n",
       "        vertical-align: middle;\n",
       "    }\n",
       "\n",
       "    .dataframe tbody tr th {\n",
       "        vertical-align: top;\n",
       "    }\n",
       "\n",
       "    .dataframe thead th {\n",
       "        text-align: right;\n",
       "    }\n",
       "</style>\n",
       "<table border=\"1\" class=\"dataframe\">\n",
       "  <thead>\n",
       "    <tr style=\"text-align: right;\">\n",
       "      <th></th>\n",
       "      <th>Close_MS</th>\n",
       "      <th>Close_Citi</th>\n",
       "      <th>JPM_Close</th>\n",
       "      <th>GS_Close</th>\n",
       "      <th>Lag_MS</th>\n",
       "      <th>Return_MS</th>\n",
       "      <th>Lag_Citi</th>\n",
       "      <th>Return_Citi</th>\n",
       "      <th>Lag_JPM</th>\n",
       "      <th>Return_JPM</th>\n",
       "      <th>Lag_GS</th>\n",
       "      <th>Return_GS</th>\n",
       "    </tr>\n",
       "    <tr>\n",
       "      <th>Date</th>\n",
       "      <th></th>\n",
       "      <th></th>\n",
       "      <th></th>\n",
       "      <th></th>\n",
       "      <th></th>\n",
       "      <th></th>\n",
       "      <th></th>\n",
       "      <th></th>\n",
       "      <th></th>\n",
       "      <th></th>\n",
       "      <th></th>\n",
       "      <th></th>\n",
       "    </tr>\n",
       "  </thead>\n",
       "  <tbody>\n",
       "    <tr>\n",
       "      <th>2007-03-01</th>\n",
       "      <td>81.620003</td>\n",
       "      <td>552.500000</td>\n",
       "      <td>48.070000</td>\n",
       "      <td>200.720001</td>\n",
       "      <td>NaN</td>\n",
       "      <td>NaN</td>\n",
       "      <td>NaN</td>\n",
       "      <td>NaN</td>\n",
       "      <td>NaN</td>\n",
       "      <td>NaN</td>\n",
       "      <td>NaN</td>\n",
       "      <td>NaN</td>\n",
       "    </tr>\n",
       "    <tr>\n",
       "      <th>2007-04-01</th>\n",
       "      <td>81.910004</td>\n",
       "      <td>550.599976</td>\n",
       "      <td>48.189999</td>\n",
       "      <td>198.850006</td>\n",
       "      <td>81.620003</td>\n",
       "      <td>0.354677</td>\n",
       "      <td>552.500000</td>\n",
       "      <td>-0.344488</td>\n",
       "      <td>48.070000</td>\n",
       "      <td>0.249323</td>\n",
       "      <td>200.720001</td>\n",
       "      <td>-0.936011</td>\n",
       "    </tr>\n",
       "    <tr>\n",
       "      <th>2007-05-01</th>\n",
       "      <td>80.860001</td>\n",
       "      <td>547.700012</td>\n",
       "      <td>47.790001</td>\n",
       "      <td>199.050003</td>\n",
       "      <td>81.910004</td>\n",
       "      <td>-1.290186</td>\n",
       "      <td>550.599976</td>\n",
       "      <td>-0.528084</td>\n",
       "      <td>48.189999</td>\n",
       "      <td>-0.833508</td>\n",
       "      <td>198.850006</td>\n",
       "      <td>0.100526</td>\n",
       "    </tr>\n",
       "    <tr>\n",
       "      <th>2007-08-01</th>\n",
       "      <td>81.349998</td>\n",
       "      <td>550.500000</td>\n",
       "      <td>47.950001</td>\n",
       "      <td>203.729996</td>\n",
       "      <td>80.860001</td>\n",
       "      <td>0.604153</td>\n",
       "      <td>547.700012</td>\n",
       "      <td>0.509924</td>\n",
       "      <td>47.790001</td>\n",
       "      <td>0.334239</td>\n",
       "      <td>199.050003</td>\n",
       "      <td>2.323950</td>\n",
       "    </tr>\n",
       "    <tr>\n",
       "      <th>2007-09-01</th>\n",
       "      <td>81.160004</td>\n",
       "      <td>545.700012</td>\n",
       "      <td>47.750000</td>\n",
       "      <td>204.080002</td>\n",
       "      <td>81.349998</td>\n",
       "      <td>-0.233824</td>\n",
       "      <td>550.500000</td>\n",
       "      <td>-0.875756</td>\n",
       "      <td>47.950001</td>\n",
       "      <td>-0.417976</td>\n",
       "      <td>203.729996</td>\n",
       "      <td>0.171652</td>\n",
       "    </tr>\n",
       "    <tr>\n",
       "      <th>2007-10-01</th>\n",
       "      <td>81.570000</td>\n",
       "      <td>541.299988</td>\n",
       "      <td>48.099998</td>\n",
       "      <td>208.110001</td>\n",
       "      <td>81.160004</td>\n",
       "      <td>0.503898</td>\n",
       "      <td>545.700012</td>\n",
       "      <td>-0.809576</td>\n",
       "      <td>47.750000</td>\n",
       "      <td>0.730307</td>\n",
       "      <td>204.080002</td>\n",
       "      <td>1.955471</td>\n",
       "    </tr>\n",
       "    <tr>\n",
       "      <th>2007-11-01</th>\n",
       "      <td>82.370003</td>\n",
       "      <td>541.700012</td>\n",
       "      <td>48.310001</td>\n",
       "      <td>211.880005</td>\n",
       "      <td>81.570000</td>\n",
       "      <td>0.975978</td>\n",
       "      <td>541.299988</td>\n",
       "      <td>0.073873</td>\n",
       "      <td>48.099998</td>\n",
       "      <td>0.435646</td>\n",
       "      <td>208.110001</td>\n",
       "      <td>1.795331</td>\n",
       "    </tr>\n",
       "    <tr>\n",
       "      <th>2007-12-01</th>\n",
       "      <td>82.860001</td>\n",
       "      <td>543.799988</td>\n",
       "      <td>47.990002</td>\n",
       "      <td>213.990005</td>\n",
       "      <td>82.370003</td>\n",
       "      <td>0.593112</td>\n",
       "      <td>541.700012</td>\n",
       "      <td>0.386915</td>\n",
       "      <td>48.310001</td>\n",
       "      <td>-0.664590</td>\n",
       "      <td>211.880005</td>\n",
       "      <td>0.990921</td>\n",
       "    </tr>\n",
       "    <tr>\n",
       "      <th>2007-01-16</th>\n",
       "      <td>82.610001</td>\n",
       "      <td>547.700012</td>\n",
       "      <td>48.389999</td>\n",
       "      <td>213.589996</td>\n",
       "      <td>82.860001</td>\n",
       "      <td>-0.302170</td>\n",
       "      <td>543.799988</td>\n",
       "      <td>0.714620</td>\n",
       "      <td>47.990002</td>\n",
       "      <td>0.830046</td>\n",
       "      <td>213.990005</td>\n",
       "      <td>-0.187104</td>\n",
       "    </tr>\n",
       "    <tr>\n",
       "      <th>2007-01-17</th>\n",
       "      <td>82.379997</td>\n",
       "      <td>543.900024</td>\n",
       "      <td>48.430000</td>\n",
       "      <td>213.229996</td>\n",
       "      <td>82.610001</td>\n",
       "      <td>-0.278810</td>\n",
       "      <td>547.700012</td>\n",
       "      <td>-0.696226</td>\n",
       "      <td>48.389999</td>\n",
       "      <td>0.082630</td>\n",
       "      <td>213.589996</td>\n",
       "      <td>-0.168689</td>\n",
       "    </tr>\n",
       "  </tbody>\n",
       "</table>\n",
       "</div>"
      ],
      "text/plain": [
       "             Close_MS  Close_Citi  JPM_Close    GS_Close     Lag_MS  \\\n",
       "Date                                                                  \n",
       "2007-03-01  81.620003  552.500000  48.070000  200.720001        NaN   \n",
       "2007-04-01  81.910004  550.599976  48.189999  198.850006  81.620003   \n",
       "2007-05-01  80.860001  547.700012  47.790001  199.050003  81.910004   \n",
       "2007-08-01  81.349998  550.500000  47.950001  203.729996  80.860001   \n",
       "2007-09-01  81.160004  545.700012  47.750000  204.080002  81.349998   \n",
       "2007-10-01  81.570000  541.299988  48.099998  208.110001  81.160004   \n",
       "2007-11-01  82.370003  541.700012  48.310001  211.880005  81.570000   \n",
       "2007-12-01  82.860001  543.799988  47.990002  213.990005  82.370003   \n",
       "2007-01-16  82.610001  547.700012  48.389999  213.589996  82.860001   \n",
       "2007-01-17  82.379997  543.900024  48.430000  213.229996  82.610001   \n",
       "\n",
       "            Return_MS    Lag_Citi  Return_Citi    Lag_JPM  Return_JPM  \\\n",
       "Date                                                                    \n",
       "2007-03-01        NaN         NaN          NaN        NaN         NaN   \n",
       "2007-04-01   0.354677  552.500000    -0.344488  48.070000    0.249323   \n",
       "2007-05-01  -1.290186  550.599976    -0.528084  48.189999   -0.833508   \n",
       "2007-08-01   0.604153  547.700012     0.509924  47.790001    0.334239   \n",
       "2007-09-01  -0.233824  550.500000    -0.875756  47.950001   -0.417976   \n",
       "2007-10-01   0.503898  545.700012    -0.809576  47.750000    0.730307   \n",
       "2007-11-01   0.975978  541.299988     0.073873  48.099998    0.435646   \n",
       "2007-12-01   0.593112  541.700012     0.386915  48.310001   -0.664590   \n",
       "2007-01-16  -0.302170  543.799988     0.714620  47.990002    0.830046   \n",
       "2007-01-17  -0.278810  547.700012    -0.696226  48.389999    0.082630   \n",
       "\n",
       "                Lag_GS  Return_GS  \n",
       "Date                               \n",
       "2007-03-01         NaN        NaN  \n",
       "2007-04-01  200.720001  -0.936011  \n",
       "2007-05-01  198.850006   0.100526  \n",
       "2007-08-01  199.050003   2.323950  \n",
       "2007-09-01  203.729996   0.171652  \n",
       "2007-10-01  204.080002   1.955471  \n",
       "2007-11-01  208.110001   1.795331  \n",
       "2007-12-01  211.880005   0.990921  \n",
       "2007-01-16  213.990005  -0.187104  \n",
       "2007-01-17  213.589996  -0.168689  "
      ]
     },
     "execution_count": 292,
     "metadata": {},
     "output_type": "execute_result"
    }
   ],
   "source": [
    "df.head(10)"
   ]
  },
  {
   "cell_type": "code",
   "execution_count": 293,
   "metadata": {},
   "outputs": [],
   "source": [
    "df1 = df.drop(['Lag_Citi','Lag_MS','Lag_JPM','Lag_GS'],axis=1)"
   ]
  },
  {
   "cell_type": "code",
   "execution_count": 294,
   "metadata": {},
   "outputs": [
    {
     "data": {
      "text/html": [
       "<div>\n",
       "<style scoped>\n",
       "    .dataframe tbody tr th:only-of-type {\n",
       "        vertical-align: middle;\n",
       "    }\n",
       "\n",
       "    .dataframe tbody tr th {\n",
       "        vertical-align: top;\n",
       "    }\n",
       "\n",
       "    .dataframe thead th {\n",
       "        text-align: right;\n",
       "    }\n",
       "</style>\n",
       "<table border=\"1\" class=\"dataframe\">\n",
       "  <thead>\n",
       "    <tr style=\"text-align: right;\">\n",
       "      <th></th>\n",
       "      <th>Close_MS</th>\n",
       "      <th>Close_Citi</th>\n",
       "      <th>JPM_Close</th>\n",
       "      <th>GS_Close</th>\n",
       "      <th>Return_MS</th>\n",
       "      <th>Return_Citi</th>\n",
       "      <th>Return_JPM</th>\n",
       "      <th>Return_GS</th>\n",
       "    </tr>\n",
       "    <tr>\n",
       "      <th>Date</th>\n",
       "      <th></th>\n",
       "      <th></th>\n",
       "      <th></th>\n",
       "      <th></th>\n",
       "      <th></th>\n",
       "      <th></th>\n",
       "      <th></th>\n",
       "      <th></th>\n",
       "    </tr>\n",
       "  </thead>\n",
       "  <tbody>\n",
       "    <tr>\n",
       "      <th>2007-03-01</th>\n",
       "      <td>81.620003</td>\n",
       "      <td>552.500000</td>\n",
       "      <td>48.070000</td>\n",
       "      <td>200.720001</td>\n",
       "      <td>NaN</td>\n",
       "      <td>NaN</td>\n",
       "      <td>NaN</td>\n",
       "      <td>NaN</td>\n",
       "    </tr>\n",
       "    <tr>\n",
       "      <th>2007-04-01</th>\n",
       "      <td>81.910004</td>\n",
       "      <td>550.599976</td>\n",
       "      <td>48.189999</td>\n",
       "      <td>198.850006</td>\n",
       "      <td>0.354677</td>\n",
       "      <td>-0.344488</td>\n",
       "      <td>0.249323</td>\n",
       "      <td>-0.936011</td>\n",
       "    </tr>\n",
       "    <tr>\n",
       "      <th>2007-05-01</th>\n",
       "      <td>80.860001</td>\n",
       "      <td>547.700012</td>\n",
       "      <td>47.790001</td>\n",
       "      <td>199.050003</td>\n",
       "      <td>-1.290186</td>\n",
       "      <td>-0.528084</td>\n",
       "      <td>-0.833508</td>\n",
       "      <td>0.100526</td>\n",
       "    </tr>\n",
       "    <tr>\n",
       "      <th>2007-08-01</th>\n",
       "      <td>81.349998</td>\n",
       "      <td>550.500000</td>\n",
       "      <td>47.950001</td>\n",
       "      <td>203.729996</td>\n",
       "      <td>0.604153</td>\n",
       "      <td>0.509924</td>\n",
       "      <td>0.334239</td>\n",
       "      <td>2.323950</td>\n",
       "    </tr>\n",
       "    <tr>\n",
       "      <th>2007-09-01</th>\n",
       "      <td>81.160004</td>\n",
       "      <td>545.700012</td>\n",
       "      <td>47.750000</td>\n",
       "      <td>204.080002</td>\n",
       "      <td>-0.233824</td>\n",
       "      <td>-0.875756</td>\n",
       "      <td>-0.417976</td>\n",
       "      <td>0.171652</td>\n",
       "    </tr>\n",
       "    <tr>\n",
       "      <th>2007-10-01</th>\n",
       "      <td>81.570000</td>\n",
       "      <td>541.299988</td>\n",
       "      <td>48.099998</td>\n",
       "      <td>208.110001</td>\n",
       "      <td>0.503898</td>\n",
       "      <td>-0.809576</td>\n",
       "      <td>0.730307</td>\n",
       "      <td>1.955471</td>\n",
       "    </tr>\n",
       "    <tr>\n",
       "      <th>2007-11-01</th>\n",
       "      <td>82.370003</td>\n",
       "      <td>541.700012</td>\n",
       "      <td>48.310001</td>\n",
       "      <td>211.880005</td>\n",
       "      <td>0.975978</td>\n",
       "      <td>0.073873</td>\n",
       "      <td>0.435646</td>\n",
       "      <td>1.795331</td>\n",
       "    </tr>\n",
       "    <tr>\n",
       "      <th>2007-12-01</th>\n",
       "      <td>82.860001</td>\n",
       "      <td>543.799988</td>\n",
       "      <td>47.990002</td>\n",
       "      <td>213.990005</td>\n",
       "      <td>0.593112</td>\n",
       "      <td>0.386915</td>\n",
       "      <td>-0.664590</td>\n",
       "      <td>0.990921</td>\n",
       "    </tr>\n",
       "    <tr>\n",
       "      <th>2007-01-16</th>\n",
       "      <td>82.610001</td>\n",
       "      <td>547.700012</td>\n",
       "      <td>48.389999</td>\n",
       "      <td>213.589996</td>\n",
       "      <td>-0.302170</td>\n",
       "      <td>0.714620</td>\n",
       "      <td>0.830046</td>\n",
       "      <td>-0.187104</td>\n",
       "    </tr>\n",
       "    <tr>\n",
       "      <th>2007-01-17</th>\n",
       "      <td>82.379997</td>\n",
       "      <td>543.900024</td>\n",
       "      <td>48.430000</td>\n",
       "      <td>213.229996</td>\n",
       "      <td>-0.278810</td>\n",
       "      <td>-0.696226</td>\n",
       "      <td>0.082630</td>\n",
       "      <td>-0.168689</td>\n",
       "    </tr>\n",
       "  </tbody>\n",
       "</table>\n",
       "</div>"
      ],
      "text/plain": [
       "             Close_MS  Close_Citi  JPM_Close    GS_Close  Return_MS  \\\n",
       "Date                                                                  \n",
       "2007-03-01  81.620003  552.500000  48.070000  200.720001        NaN   \n",
       "2007-04-01  81.910004  550.599976  48.189999  198.850006   0.354677   \n",
       "2007-05-01  80.860001  547.700012  47.790001  199.050003  -1.290186   \n",
       "2007-08-01  81.349998  550.500000  47.950001  203.729996   0.604153   \n",
       "2007-09-01  81.160004  545.700012  47.750000  204.080002  -0.233824   \n",
       "2007-10-01  81.570000  541.299988  48.099998  208.110001   0.503898   \n",
       "2007-11-01  82.370003  541.700012  48.310001  211.880005   0.975978   \n",
       "2007-12-01  82.860001  543.799988  47.990002  213.990005   0.593112   \n",
       "2007-01-16  82.610001  547.700012  48.389999  213.589996  -0.302170   \n",
       "2007-01-17  82.379997  543.900024  48.430000  213.229996  -0.278810   \n",
       "\n",
       "            Return_Citi  Return_JPM  Return_GS  \n",
       "Date                                            \n",
       "2007-03-01          NaN         NaN        NaN  \n",
       "2007-04-01    -0.344488    0.249323  -0.936011  \n",
       "2007-05-01    -0.528084   -0.833508   0.100526  \n",
       "2007-08-01     0.509924    0.334239   2.323950  \n",
       "2007-09-01    -0.875756   -0.417976   0.171652  \n",
       "2007-10-01    -0.809576    0.730307   1.955471  \n",
       "2007-11-01     0.073873    0.435646   1.795331  \n",
       "2007-12-01     0.386915   -0.664590   0.990921  \n",
       "2007-01-16     0.714620    0.830046  -0.187104  \n",
       "2007-01-17    -0.696226    0.082630  -0.168689  "
      ]
     },
     "execution_count": 294,
     "metadata": {},
     "output_type": "execute_result"
    }
   ],
   "source": [
    "df1.head(10)"
   ]
  },
  {
   "cell_type": "code",
   "execution_count": 295,
   "metadata": {},
   "outputs": [],
   "source": [
    "df2 = df1.drop(['Close_MS','Close_Citi','GS_Close','JPM_Close'],axis=1)"
   ]
  },
  {
   "cell_type": "code",
   "execution_count": 296,
   "metadata": {},
   "outputs": [
    {
     "data": {
      "text/html": [
       "<div>\n",
       "<style scoped>\n",
       "    .dataframe tbody tr th:only-of-type {\n",
       "        vertical-align: middle;\n",
       "    }\n",
       "\n",
       "    .dataframe tbody tr th {\n",
       "        vertical-align: top;\n",
       "    }\n",
       "\n",
       "    .dataframe thead th {\n",
       "        text-align: right;\n",
       "    }\n",
       "</style>\n",
       "<table border=\"1\" class=\"dataframe\">\n",
       "  <thead>\n",
       "    <tr style=\"text-align: right;\">\n",
       "      <th></th>\n",
       "      <th>Return_MS</th>\n",
       "      <th>Return_Citi</th>\n",
       "      <th>Return_JPM</th>\n",
       "      <th>Return_GS</th>\n",
       "    </tr>\n",
       "    <tr>\n",
       "      <th>Date</th>\n",
       "      <th></th>\n",
       "      <th></th>\n",
       "      <th></th>\n",
       "      <th></th>\n",
       "    </tr>\n",
       "  </thead>\n",
       "  <tbody>\n",
       "    <tr>\n",
       "      <th>2007-03-01</th>\n",
       "      <td>NaN</td>\n",
       "      <td>NaN</td>\n",
       "      <td>NaN</td>\n",
       "      <td>NaN</td>\n",
       "    </tr>\n",
       "    <tr>\n",
       "      <th>2007-04-01</th>\n",
       "      <td>0.354677</td>\n",
       "      <td>-0.344488</td>\n",
       "      <td>0.249323</td>\n",
       "      <td>-0.936011</td>\n",
       "    </tr>\n",
       "    <tr>\n",
       "      <th>2007-05-01</th>\n",
       "      <td>-1.290186</td>\n",
       "      <td>-0.528084</td>\n",
       "      <td>-0.833508</td>\n",
       "      <td>0.100526</td>\n",
       "    </tr>\n",
       "  </tbody>\n",
       "</table>\n",
       "</div>"
      ],
      "text/plain": [
       "            Return_MS  Return_Citi  Return_JPM  Return_GS\n",
       "Date                                                     \n",
       "2007-03-01        NaN          NaN         NaN        NaN\n",
       "2007-04-01   0.354677    -0.344488    0.249323  -0.936011\n",
       "2007-05-01  -1.290186    -0.528084   -0.833508   0.100526"
      ]
     },
     "execution_count": 296,
     "metadata": {},
     "output_type": "execute_result"
    }
   ],
   "source": [
    "df2.head(3)"
   ]
  },
  {
   "cell_type": "code",
   "execution_count": 297,
   "metadata": {},
   "outputs": [],
   "source": [
    "df3 = df2.copy()"
   ]
  },
  {
   "cell_type": "code",
   "execution_count": 353,
   "metadata": {},
   "outputs": [
    {
     "data": {
      "text/html": [
       "<div>\n",
       "<style scoped>\n",
       "    .dataframe tbody tr th:only-of-type {\n",
       "        vertical-align: middle;\n",
       "    }\n",
       "\n",
       "    .dataframe tbody tr th {\n",
       "        vertical-align: top;\n",
       "    }\n",
       "\n",
       "    .dataframe thead th {\n",
       "        text-align: right;\n",
       "    }\n",
       "</style>\n",
       "<table border=\"1\" class=\"dataframe\">\n",
       "  <thead>\n",
       "    <tr style=\"text-align: right;\">\n",
       "      <th></th>\n",
       "      <th>Return_MS</th>\n",
       "      <th>Return_Citi</th>\n",
       "      <th>Return_JPM</th>\n",
       "      <th>Return_GS</th>\n",
       "    </tr>\n",
       "    <tr>\n",
       "      <th>Date</th>\n",
       "      <th></th>\n",
       "      <th></th>\n",
       "      <th></th>\n",
       "      <th></th>\n",
       "    </tr>\n",
       "  </thead>\n",
       "  <tbody>\n",
       "    <tr>\n",
       "      <th>2007-03-01</th>\n",
       "      <td>NaN</td>\n",
       "      <td>NaN</td>\n",
       "      <td>NaN</td>\n",
       "      <td>NaN</td>\n",
       "    </tr>\n",
       "    <tr>\n",
       "      <th>2007-04-01</th>\n",
       "      <td>0.354677</td>\n",
       "      <td>-0.344488</td>\n",
       "      <td>0.249323</td>\n",
       "      <td>-0.936011</td>\n",
       "    </tr>\n",
       "    <tr>\n",
       "      <th>2007-05-01</th>\n",
       "      <td>-1.290186</td>\n",
       "      <td>-0.528084</td>\n",
       "      <td>-0.833508</td>\n",
       "      <td>0.100526</td>\n",
       "    </tr>\n",
       "    <tr>\n",
       "      <th>2007-08-01</th>\n",
       "      <td>0.604153</td>\n",
       "      <td>0.509924</td>\n",
       "      <td>0.334239</td>\n",
       "      <td>2.323950</td>\n",
       "    </tr>\n",
       "    <tr>\n",
       "      <th>2007-09-01</th>\n",
       "      <td>-0.233824</td>\n",
       "      <td>-0.875756</td>\n",
       "      <td>-0.417976</td>\n",
       "      <td>0.171652</td>\n",
       "    </tr>\n",
       "    <tr>\n",
       "      <th>2007-10-01</th>\n",
       "      <td>0.503898</td>\n",
       "      <td>-0.809576</td>\n",
       "      <td>0.730307</td>\n",
       "      <td>1.955471</td>\n",
       "    </tr>\n",
       "    <tr>\n",
       "      <th>2007-11-01</th>\n",
       "      <td>0.975978</td>\n",
       "      <td>0.073873</td>\n",
       "      <td>0.435646</td>\n",
       "      <td>1.795331</td>\n",
       "    </tr>\n",
       "    <tr>\n",
       "      <th>2007-12-01</th>\n",
       "      <td>0.593112</td>\n",
       "      <td>0.386915</td>\n",
       "      <td>-0.664590</td>\n",
       "      <td>0.990921</td>\n",
       "    </tr>\n",
       "    <tr>\n",
       "      <th>2007-01-16</th>\n",
       "      <td>-0.302170</td>\n",
       "      <td>0.714620</td>\n",
       "      <td>0.830046</td>\n",
       "      <td>-0.187104</td>\n",
       "    </tr>\n",
       "    <tr>\n",
       "      <th>2007-01-17</th>\n",
       "      <td>-0.278810</td>\n",
       "      <td>-0.696226</td>\n",
       "      <td>0.082630</td>\n",
       "      <td>-0.168689</td>\n",
       "    </tr>\n",
       "  </tbody>\n",
       "</table>\n",
       "</div>"
      ],
      "text/plain": [
       "            Return_MS  Return_Citi  Return_JPM  Return_GS\n",
       "Date                                                     \n",
       "2007-03-01        NaN          NaN         NaN        NaN\n",
       "2007-04-01   0.354677    -0.344488    0.249323  -0.936011\n",
       "2007-05-01  -1.290186    -0.528084   -0.833508   0.100526\n",
       "2007-08-01   0.604153     0.509924    0.334239   2.323950\n",
       "2007-09-01  -0.233824    -0.875756   -0.417976   0.171652\n",
       "2007-10-01   0.503898    -0.809576    0.730307   1.955471\n",
       "2007-11-01   0.975978     0.073873    0.435646   1.795331\n",
       "2007-12-01   0.593112     0.386915   -0.664590   0.990921\n",
       "2007-01-16  -0.302170     0.714620    0.830046  -0.187104\n",
       "2007-01-17  -0.278810    -0.696226    0.082630  -0.168689"
      ]
     },
     "execution_count": 353,
     "metadata": {},
     "output_type": "execute_result"
    }
   ],
   "source": [
    "df3.head(10)"
   ]
  },
  {
   "cell_type": "code",
   "execution_count": 299,
   "metadata": {},
   "outputs": [
    {
     "data": {
      "text/html": [
       "<div>\n",
       "<style scoped>\n",
       "    .dataframe tbody tr th:only-of-type {\n",
       "        vertical-align: middle;\n",
       "    }\n",
       "\n",
       "    .dataframe tbody tr th {\n",
       "        vertical-align: top;\n",
       "    }\n",
       "\n",
       "    .dataframe thead th {\n",
       "        text-align: right;\n",
       "    }\n",
       "</style>\n",
       "<table border=\"1\" class=\"dataframe\">\n",
       "  <thead>\n",
       "    <tr style=\"text-align: right;\">\n",
       "      <th></th>\n",
       "      <th>Return_MS</th>\n",
       "      <th>Return_Citi</th>\n",
       "      <th>Return_JPM</th>\n",
       "      <th>Return_GS</th>\n",
       "    </tr>\n",
       "  </thead>\n",
       "  <tbody>\n",
       "    <tr>\n",
       "      <th>count</th>\n",
       "      <td>1006.000000</td>\n",
       "      <td>1006.000000</td>\n",
       "      <td>1006.000000</td>\n",
       "      <td>1006.000000</td>\n",
       "    </tr>\n",
       "    <tr>\n",
       "      <th>mean</th>\n",
       "      <td>-0.108756</td>\n",
       "      <td>-0.243700</td>\n",
       "      <td>-0.012875</td>\n",
       "      <td>-0.017902</td>\n",
       "    </tr>\n",
       "    <tr>\n",
       "      <th>std</th>\n",
       "      <td>5.008769</td>\n",
       "      <td>5.580447</td>\n",
       "      <td>3.865965</td>\n",
       "      <td>3.441285</td>\n",
       "    </tr>\n",
       "    <tr>\n",
       "      <th>min</th>\n",
       "      <td>-29.965820</td>\n",
       "      <td>-49.469624</td>\n",
       "      <td>-23.227805</td>\n",
       "      <td>-21.022262</td>\n",
       "    </tr>\n",
       "    <tr>\n",
       "      <th>25%</th>\n",
       "      <td>-1.735934</td>\n",
       "      <td>-1.991310</td>\n",
       "      <td>-1.498332</td>\n",
       "      <td>-1.418094</td>\n",
       "    </tr>\n",
       "    <tr>\n",
       "      <th>50%</th>\n",
       "      <td>-0.043817</td>\n",
       "      <td>-0.203060</td>\n",
       "      <td>-0.072195</td>\n",
       "      <td>-0.054054</td>\n",
       "    </tr>\n",
       "    <tr>\n",
       "      <th>75%</th>\n",
       "      <td>1.598136</td>\n",
       "      <td>1.576655</td>\n",
       "      <td>1.400192</td>\n",
       "      <td>1.556280</td>\n",
       "    </tr>\n",
       "    <tr>\n",
       "      <th>max</th>\n",
       "      <td>62.585004</td>\n",
       "      <td>45.631619</td>\n",
       "      <td>22.391712</td>\n",
       "      <td>23.481773</td>\n",
       "    </tr>\n",
       "  </tbody>\n",
       "</table>\n",
       "</div>"
      ],
      "text/plain": [
       "         Return_MS  Return_Citi   Return_JPM    Return_GS\n",
       "count  1006.000000  1006.000000  1006.000000  1006.000000\n",
       "mean     -0.108756    -0.243700    -0.012875    -0.017902\n",
       "std       5.008769     5.580447     3.865965     3.441285\n",
       "min     -29.965820   -49.469624   -23.227805   -21.022262\n",
       "25%      -1.735934    -1.991310    -1.498332    -1.418094\n",
       "50%      -0.043817    -0.203060    -0.072195    -0.054054\n",
       "75%       1.598136     1.576655     1.400192     1.556280\n",
       "max      62.585004    45.631619    22.391712    23.481773"
      ]
     },
     "execution_count": 299,
     "metadata": {},
     "output_type": "execute_result"
    }
   ],
   "source": [
    "df3.describe()"
   ]
  },
  {
   "cell_type": "markdown",
   "metadata": {},
   "source": [
    "### Considering equal weightage to each asset in a portfolio"
   ]
  },
  {
   "cell_type": "code",
   "execution_count": 354,
   "metadata": {},
   "outputs": [],
   "source": [
    "returns = df3.dropna(axis=0)"
   ]
  },
  {
   "cell_type": "code",
   "execution_count": 355,
   "metadata": {},
   "outputs": [],
   "source": [
    "w = (0.25,0.25,0.25,0.25)"
   ]
  },
  {
   "cell_type": "code",
   "execution_count": 356,
   "metadata": {},
   "outputs": [],
   "source": [
    "# Multilying weight vector with returns vector to calculate portfolio returns\n",
    "portfolio_returns = returns.dot(w)"
   ]
  },
  {
   "cell_type": "code",
   "execution_count": 357,
   "metadata": {},
   "outputs": [
    {
     "data": {
      "text/plain": [
       "Date\n",
       "2007-04-01   -0.169125\n",
       "2007-05-01   -0.637813\n",
       "2007-08-01    0.943067\n",
       "2007-09-01   -0.338976\n",
       "2007-10-01    0.595025\n",
       "2007-11-01    0.820207\n",
       "2007-12-01    0.326589\n",
       "2007-01-16    0.263848\n",
       "2007-01-17   -0.265274\n",
       "2007-01-18   -0.922285\n",
       "dtype: float64"
      ]
     },
     "execution_count": 357,
     "metadata": {},
     "output_type": "execute_result"
    }
   ],
   "source": [
    "portfolio_returns.head(10)"
   ]
  },
  {
   "cell_type": "code",
   "execution_count": 368,
   "metadata": {},
   "outputs": [],
   "source": [
    "losses = -1*portfolio_returns"
   ]
  },
  {
   "cell_type": "code",
   "execution_count": 369,
   "metadata": {},
   "outputs": [
    {
     "data": {
      "text/plain": [
       "Date\n",
       "2007-04-01    0.169125\n",
       "2007-05-01    0.637813\n",
       "2007-08-01   -0.943067\n",
       "2007-09-01    0.338976\n",
       "2007-10-01   -0.595025\n",
       "2007-11-01   -0.820207\n",
       "2007-12-01   -0.326589\n",
       "2007-01-16   -0.263848\n",
       "2007-01-17    0.265274\n",
       "2007-01-18    0.922285\n",
       "dtype: float64"
      ]
     },
     "execution_count": 369,
     "metadata": {},
     "output_type": "execute_result"
    }
   ],
   "source": [
    "losses.head(10)"
   ]
  },
  {
   "cell_type": "code",
   "execution_count": 304,
   "metadata": {},
   "outputs": [],
   "source": [
    "# -ve returns are losses and +ve returns a are profit"
   ]
  },
  {
   "cell_type": "code",
   "execution_count": 305,
   "metadata": {},
   "outputs": [
    {
     "data": {
      "text/plain": [
       "pandas.core.series.Series"
      ]
     },
     "execution_count": 305,
     "metadata": {},
     "output_type": "execute_result"
    }
   ],
   "source": [
    "type(portfolio_returns)"
   ]
  },
  {
   "cell_type": "markdown",
   "metadata": {},
   "source": [
    "### Pandas Series Object to Pandas Dataframe"
   ]
  },
  {
   "cell_type": "code",
   "execution_count": 306,
   "metadata": {},
   "outputs": [
    {
     "name": "stdout",
     "output_type": "stream",
     "text": [
      "Date\n",
      "2007-03-01         NaN\n",
      "2007-04-01   -0.169125\n",
      "2007-05-01   -0.637813\n",
      "2007-08-01    0.943067\n",
      "2007-09-01   -0.338976\n",
      "                ...   \n",
      "2010-12-23   -0.600600\n",
      "2010-12-27    1.245777\n",
      "2010-12-28    0.058732\n",
      "2010-12-29   -0.776881\n",
      "2010-12-30   -0.082041\n",
      "Length: 1007, dtype: float64\n"
     ]
    }
   ],
   "source": [
    "portfolio_returns_new = pd.Series(portfolio_returns)\n",
    "print (portfolio_returns_new)"
   ]
  },
  {
   "cell_type": "code",
   "execution_count": 307,
   "metadata": {},
   "outputs": [],
   "source": [
    "df = portfolio_returns_new.to_frame()"
   ]
  },
  {
   "cell_type": "code",
   "execution_count": 308,
   "metadata": {},
   "outputs": [],
   "source": [
    "df = df.rename(columns={0: \"returns\"})"
   ]
  },
  {
   "cell_type": "code",
   "execution_count": 309,
   "metadata": {},
   "outputs": [
    {
     "data": {
      "text/html": [
       "<div>\n",
       "<style scoped>\n",
       "    .dataframe tbody tr th:only-of-type {\n",
       "        vertical-align: middle;\n",
       "    }\n",
       "\n",
       "    .dataframe tbody tr th {\n",
       "        vertical-align: top;\n",
       "    }\n",
       "\n",
       "    .dataframe thead th {\n",
       "        text-align: right;\n",
       "    }\n",
       "</style>\n",
       "<table border=\"1\" class=\"dataframe\">\n",
       "  <thead>\n",
       "    <tr style=\"text-align: right;\">\n",
       "      <th></th>\n",
       "      <th>returns</th>\n",
       "    </tr>\n",
       "    <tr>\n",
       "      <th>Date</th>\n",
       "      <th></th>\n",
       "    </tr>\n",
       "  </thead>\n",
       "  <tbody>\n",
       "    <tr>\n",
       "      <th>2007-03-01</th>\n",
       "      <td>NaN</td>\n",
       "    </tr>\n",
       "    <tr>\n",
       "      <th>2007-04-01</th>\n",
       "      <td>-0.169125</td>\n",
       "    </tr>\n",
       "    <tr>\n",
       "      <th>2007-05-01</th>\n",
       "      <td>-0.637813</td>\n",
       "    </tr>\n",
       "    <tr>\n",
       "      <th>2007-08-01</th>\n",
       "      <td>0.943067</td>\n",
       "    </tr>\n",
       "    <tr>\n",
       "      <th>2007-09-01</th>\n",
       "      <td>-0.338976</td>\n",
       "    </tr>\n",
       "    <tr>\n",
       "      <th>2007-10-01</th>\n",
       "      <td>0.595025</td>\n",
       "    </tr>\n",
       "    <tr>\n",
       "      <th>2007-11-01</th>\n",
       "      <td>0.820207</td>\n",
       "    </tr>\n",
       "    <tr>\n",
       "      <th>2007-12-01</th>\n",
       "      <td>0.326589</td>\n",
       "    </tr>\n",
       "    <tr>\n",
       "      <th>2007-01-16</th>\n",
       "      <td>0.263848</td>\n",
       "    </tr>\n",
       "    <tr>\n",
       "      <th>2007-01-17</th>\n",
       "      <td>-0.265274</td>\n",
       "    </tr>\n",
       "  </tbody>\n",
       "</table>\n",
       "</div>"
      ],
      "text/plain": [
       "             returns\n",
       "Date                \n",
       "2007-03-01       NaN\n",
       "2007-04-01 -0.169125\n",
       "2007-05-01 -0.637813\n",
       "2007-08-01  0.943067\n",
       "2007-09-01 -0.338976\n",
       "2007-10-01  0.595025\n",
       "2007-11-01  0.820207\n",
       "2007-12-01  0.326589\n",
       "2007-01-16  0.263848\n",
       "2007-01-17 -0.265274"
      ]
     },
     "execution_count": 309,
     "metadata": {},
     "output_type": "execute_result"
    }
   ],
   "source": [
    "df.head(10)"
   ]
  },
  {
   "cell_type": "code",
   "execution_count": 310,
   "metadata": {
    "scrolled": true
   },
   "outputs": [
    {
     "data": {
      "image/png": "[encoded data removed]",
      "text/plain": [
       "<Figure size 432x288 with 1 Axes>"
      ]
     },
     "metadata": {
      "needs_background": "light"
     },
     "output_type": "display_data"
    }
   ],
   "source": [
    "portfolio_returns.plot(color='red').set_ylabel(\"Daily Return, %\")\n",
    "plt.show()"
   ]
  },
  {
   "cell_type": "markdown",
   "metadata": {},
   "source": [
    "Above graph shows very high volatility from July 2008 to July 2009 "
   ]
  },
  {
   "cell_type": "code",
   "execution_count": 311,
   "metadata": {},
   "outputs": [],
   "source": [
    "# The asset prices plot shows how the global financial crisis created a loss in confidence in investment banks from September 2008\n",
    "# There was an event during September that precipitated this decline. The 'spikiness' of portfolio returns indicates how \n",
    "# uncertain and volatile asset returns became."
   ]
  },
  {
   "cell_type": "code",
   "execution_count": 312,
   "metadata": {},
   "outputs": [],
   "source": [
    "portfolio_returns_percent = portfolio_returns*100"
   ]
  },
  {
   "cell_type": "markdown",
   "metadata": {},
   "source": [
    "## VaR using Variance Covariance (Parametric Estimation)"
   ]
  },
  {
   "cell_type": "code",
   "execution_count": 313,
   "metadata": {},
   "outputs": [],
   "source": [
    "covar = df3.cov()"
   ]
  },
  {
   "cell_type": "markdown",
   "metadata": {},
   "source": [
    "#### Correlation in Percentage"
   ]
  },
  {
   "cell_type": "code",
   "execution_count": 314,
   "metadata": {},
   "outputs": [
    {
     "name": "stdout",
     "output_type": "stream",
     "text": [
      "             Return_MS  Return_Citi  Return_JPM  Return_GS\n",
      "Return_MS    25.087771    16.949962   12.411611  13.923230\n",
      "Return_Citi  16.949962    31.141387   15.314959  12.128333\n",
      "Return_JPM   12.411611    15.314959   14.945687   9.666014\n",
      "Return_GS    13.923230    12.128333    9.666014  11.842443\n"
     ]
    }
   ],
   "source": [
    "print(covar)"
   ]
  },
  {
   "cell_type": "code",
   "execution_count": 315,
   "metadata": {},
   "outputs": [],
   "source": [
    "# Annualize the covariance using 252 trading days per year\n",
    "covar_ann = covar*252"
   ]
  },
  {
   "cell_type": "code",
   "execution_count": 316,
   "metadata": {},
   "outputs": [
    {
     "name": "stdout",
     "output_type": "stream",
     "text": [
      "               Return_MS  Return_Citi   Return_JPM    Return_GS\n",
      "Return_MS    6322.118322  4271.390381  3127.726038  3508.654003\n",
      "Return_Citi  4271.390381  7847.629460  3859.369779  3056.339857\n",
      "Return_JPM   3127.726038  3859.369779  3766.313007  2435.835409\n",
      "Return_GS    3508.654003  3056.339857  2435.835409  2984.295634\n"
     ]
    }
   ],
   "source": [
    "print(covar_ann)"
   ]
  },
  {
   "cell_type": "code",
   "execution_count": 317,
   "metadata": {},
   "outputs": [],
   "source": [
    "portfolio_variance = np.transpose(w)@covar_ann@w"
   ]
  },
  {
   "cell_type": "code",
   "execution_count": 318,
   "metadata": {},
   "outputs": [],
   "source": [
    "portfolio_volatility = np.sqrt(portfolio_variance)"
   ]
  },
  {
   "cell_type": "markdown",
   "metadata": {},
   "source": [
    "#### Portfolio Volatliltiy"
   ]
  },
  {
   "cell_type": "code",
   "execution_count": 319,
   "metadata": {},
   "outputs": [
    {
     "name": "stdout",
     "output_type": "stream",
     "text": [
      "61.96722286680826\n"
     ]
    }
   ],
   "source": [
    "print(portfolio_volatility)"
   ]
  },
  {
   "cell_type": "code",
   "execution_count": 320,
   "metadata": {},
   "outputs": [],
   "source": [
    "# Portfolio has 61% volatilily"
   ]
  },
  {
   "cell_type": "code",
   "execution_count": 321,
   "metadata": {},
   "outputs": [],
   "source": [
    "#The volatility of a portfolio of stocks is a measure of how wildly the total value of all the stocks in that portfolio\n",
    "# appreciates or declines."
   ]
  },
  {
   "cell_type": "markdown",
   "metadata": {},
   "source": [
    "# Rolling Volatility"
   ]
  },
  {
   "cell_type": "code",
   "execution_count": 322,
   "metadata": {},
   "outputs": [],
   "source": [
    "windowed = df.rolling(30)"
   ]
  },
  {
   "cell_type": "code",
   "execution_count": 323,
   "metadata": {},
   "outputs": [],
   "source": [
    "volatility = windowed.std()*np.sqrt(252)"
   ]
  },
  {
   "cell_type": "code",
   "execution_count": 257,
   "metadata": {},
   "outputs": [
    {
     "data": {
      "text/plain": [
       "Text(0, 0.5, 'Annualized Volatility, 30-day Window')"
      ]
     },
     "execution_count": 257,
     "metadata": {},
     "output_type": "execute_result"
    },
    {
     "data": {
      "image/png": "[encoded data removed]",
      "text/plain": [
       "<Figure size 432x288 with 1 Axes>"
      ]
     },
     "metadata": {
      "needs_background": "light"
     },
     "output_type": "display_data"
    }
   ],
   "source": [
    "volatility.plot(color = 'green').set_ylabel(\"Annualized Volatility, 30-day Window\")"
   ]
  },
  {
   "cell_type": "code",
   "execution_count": 258,
   "metadata": {},
   "outputs": [
    {
     "data": {
      "text/html": [
       "<div>\n",
       "<style scoped>\n",
       "    .dataframe tbody tr th:only-of-type {\n",
       "        vertical-align: middle;\n",
       "    }\n",
       "\n",
       "    .dataframe tbody tr th {\n",
       "        vertical-align: top;\n",
       "    }\n",
       "\n",
       "    .dataframe thead th {\n",
       "        text-align: right;\n",
       "    }\n",
       "</style>\n",
       "<table border=\"1\" class=\"dataframe\">\n",
       "  <thead>\n",
       "    <tr style=\"text-align: right;\">\n",
       "      <th></th>\n",
       "      <th>returns</th>\n",
       "    </tr>\n",
       "    <tr>\n",
       "      <th>Date</th>\n",
       "      <th></th>\n",
       "    </tr>\n",
       "  </thead>\n",
       "  <tbody>\n",
       "    <tr>\n",
       "      <th>2007-03-01</th>\n",
       "      <td>NaN</td>\n",
       "    </tr>\n",
       "    <tr>\n",
       "      <th>2007-04-01</th>\n",
       "      <td>-0.169125</td>\n",
       "    </tr>\n",
       "    <tr>\n",
       "      <th>2007-05-01</th>\n",
       "      <td>-0.637813</td>\n",
       "    </tr>\n",
       "    <tr>\n",
       "      <th>2007-08-01</th>\n",
       "      <td>0.943067</td>\n",
       "    </tr>\n",
       "    <tr>\n",
       "      <th>2007-09-01</th>\n",
       "      <td>-0.338976</td>\n",
       "    </tr>\n",
       "    <tr>\n",
       "      <th>2007-10-01</th>\n",
       "      <td>0.595025</td>\n",
       "    </tr>\n",
       "    <tr>\n",
       "      <th>2007-11-01</th>\n",
       "      <td>0.820207</td>\n",
       "    </tr>\n",
       "    <tr>\n",
       "      <th>2007-12-01</th>\n",
       "      <td>0.326589</td>\n",
       "    </tr>\n",
       "    <tr>\n",
       "      <th>2007-01-16</th>\n",
       "      <td>0.263848</td>\n",
       "    </tr>\n",
       "    <tr>\n",
       "      <th>2007-01-17</th>\n",
       "      <td>-0.265274</td>\n",
       "    </tr>\n",
       "  </tbody>\n",
       "</table>\n",
       "</div>"
      ],
      "text/plain": [
       "             returns\n",
       "Date                \n",
       "2007-03-01       NaN\n",
       "2007-04-01 -0.169125\n",
       "2007-05-01 -0.637813\n",
       "2007-08-01  0.943067\n",
       "2007-09-01 -0.338976\n",
       "2007-10-01  0.595025\n",
       "2007-11-01  0.820207\n",
       "2007-12-01  0.326589\n",
       "2007-01-16  0.263848\n",
       "2007-01-17 -0.265274"
      ]
     },
     "execution_count": 258,
     "metadata": {},
     "output_type": "execute_result"
    }
   ],
   "source": [
    "df.head(10)"
   ]
  },
  {
   "cell_type": "markdown",
   "metadata": {},
   "source": [
    "# Risk Factors"
   ]
  },
  {
   "cell_type": "markdown",
   "metadata": {},
   "source": [
    "### Variables or events that drive portfolio return and volatility"
   ]
  },
  {
   "cell_type": "markdown",
   "metadata": {},
   "source": [
    "Two types of risk factors are:\n",
    "    1. Systematic Risk\n",
    "    2. Idisyncratic Risk\n",
    "    \n",
    "#### Systematic Risk\n",
    "Systematic risk is inherent to the market as a whole, reflecting the impact of economic, geo-political and financial factors.\n",
    "This type of risk is distinguished from unsystematic risk, which impacts a specific industry or security.\n",
    "Investors can somewhat mitigate the impact of systematic risk by building a diversified portfolio.\n",
    "Ex: interest rate changes, inflation, recessions, and wars, among other major changes.\n",
    "    \n",
    "#### Idiosyncratic Risk\n",
    "Idiosyncratic risk refers to the inherent factors that can negatively impact individual securities or a very specific group of assets.\n",
    "The opposite of Idiosyncratic risk is a systematic risk, which refers to broader trends that impact the overall financial system or a very broad market.\n",
    "Idiosyncratic risk can generally be mitigated in an investment portfolio through the use of diversification\n",
    "Idiosyncratic risk is a type of investment risk that is endemic to an individual asset (like a particular company's stock),\n",
    "or a group of assets (like a particular sector's stocks), or in some cases, a very specific asset class (like collateralized mortgage obligations). \n",
    "\n",
    "#### Idiosyncratic Risk vs. Systematic Risk\n",
    "While idiosyncratic risk is, by definition, irregular and unpredictable, studying a company or industry can help an \n",
    "investor to identify and anticipate—in a general way—its idiosyncratic risks. Idiosyncratic risk is also highly individual, \n",
    "even unique in some cases. It can, therefore, be substantially mitigated or eliminated from a portfolio by using adequate \n",
    "diversification. Proper asset allocation, along with hedging strategies, can minimize its negative impact on an investment \n",
    "portfolio by diversification or hedging.\n",
    "In contrast, systematic risk cannot be mitigated just by adding more assets to an investment portfolio. This market risk \n",
    "cannot be eliminated by adding stocks of various sectors to one's holdings. These broader types of risk reflect the \n",
    "macroeconomic factors that affect not just a single asset but other assets like it and greater markets and economies as well."
   ]
  },
  {
   "cell_type": "markdown",
   "metadata": {},
   "source": [
    "### Factor Models"
   ]
  },
  {
   "cell_type": "markdown",
   "metadata": {},
   "source": [
    "Factor models assess on which risk factors asset returns or volatility are mostly dependent.\n",
    "We can model theses factors using :\n",
    "    1. Ordinary Least Square - Regression Model - \n",
    "       dependent variable - Asset returns/volatility\n",
    "       independent variable - risk factors\n",
    "    2. Fama French Model - combination of market risk and idiosyncratic risk (firm size and value)"
   ]
  },
  {
   "cell_type": "markdown",
   "metadata": {},
   "source": [
    "Considering MBS(Mortgage Backed Security) 90 days mortgage Delinquency as a risk factor which caused the bankcruptcy of\n",
    "Lehman Brothers. Risk factor delinquency rate was highly correlated with the returns."
   ]
  },
  {
   "cell_type": "markdown",
   "metadata": {},
   "source": [
    "Risk factor models often rely upon data that is of different frequencies. A typical example is when using quarterly\n",
    "macroeconomic data, such as prices, unemployment rates.\n",
    "here also delinquency rate is taken for 90 days (1 Q) so sampling returns for quarter"
   ]
  },
  {
   "cell_type": "code",
   "execution_count": 259,
   "metadata": {},
   "outputs": [],
   "source": [
    "returns_avg = df.resample('Q').mean()"
   ]
  },
  {
   "cell_type": "code",
   "execution_count": 115,
   "metadata": {},
   "outputs": [
    {
     "data": {
      "text/html": [
       "<div>\n",
       "<style scoped>\n",
       "    .dataframe tbody tr th:only-of-type {\n",
       "        vertical-align: middle;\n",
       "    }\n",
       "\n",
       "    .dataframe tbody tr th {\n",
       "        vertical-align: top;\n",
       "    }\n",
       "\n",
       "    .dataframe thead th {\n",
       "        text-align: right;\n",
       "    }\n",
       "</style>\n",
       "<table border=\"1\" class=\"dataframe\">\n",
       "  <thead>\n",
       "    <tr style=\"text-align: right;\">\n",
       "      <th></th>\n",
       "      <th>returns</th>\n",
       "    </tr>\n",
       "    <tr>\n",
       "      <th>Date</th>\n",
       "      <th></th>\n",
       "    </tr>\n",
       "  </thead>\n",
       "  <tbody>\n",
       "    <tr>\n",
       "      <th>2009-12-31</th>\n",
       "      <td>-0.000281</td>\n",
       "    </tr>\n",
       "    <tr>\n",
       "      <th>2010-03-31</th>\n",
       "      <td>0.002696</td>\n",
       "    </tr>\n",
       "    <tr>\n",
       "      <th>2010-06-30</th>\n",
       "      <td>-0.001822</td>\n",
       "    </tr>\n",
       "    <tr>\n",
       "      <th>2010-09-30</th>\n",
       "      <td>0.000906</td>\n",
       "    </tr>\n",
       "    <tr>\n",
       "      <th>2010-12-31</th>\n",
       "      <td>-0.000570</td>\n",
       "    </tr>\n",
       "  </tbody>\n",
       "</table>\n",
       "</div>"
      ],
      "text/plain": [
       "             returns\n",
       "Date                \n",
       "2009-12-31 -0.000281\n",
       "2010-03-31  0.002696\n",
       "2010-06-30 -0.001822\n",
       "2010-09-30  0.000906\n",
       "2010-12-31 -0.000570"
      ]
     },
     "execution_count": 115,
     "metadata": {},
     "output_type": "execute_result"
    }
   ],
   "source": [
    "returns_avg.tail()"
   ]
  },
  {
   "cell_type": "code",
   "execution_count": 116,
   "metadata": {},
   "outputs": [
    {
     "data": {
      "text/html": [
       "<div>\n",
       "<style scoped>\n",
       "    .dataframe tbody tr th:only-of-type {\n",
       "        vertical-align: middle;\n",
       "    }\n",
       "\n",
       "    .dataframe tbody tr th {\n",
       "        vertical-align: top;\n",
       "    }\n",
       "\n",
       "    .dataframe thead th {\n",
       "        text-align: right;\n",
       "    }\n",
       "</style>\n",
       "<table border=\"1\" class=\"dataframe\">\n",
       "  <thead>\n",
       "    <tr style=\"text-align: right;\">\n",
       "      <th></th>\n",
       "      <th>returns</th>\n",
       "    </tr>\n",
       "    <tr>\n",
       "      <th>Date</th>\n",
       "      <th></th>\n",
       "    </tr>\n",
       "  </thead>\n",
       "  <tbody>\n",
       "    <tr>\n",
       "      <th>2007-03-31</th>\n",
       "      <td>-0.062338</td>\n",
       "    </tr>\n",
       "    <tr>\n",
       "      <th>2007-06-30</th>\n",
       "      <td>-0.041614</td>\n",
       "    </tr>\n",
       "    <tr>\n",
       "      <th>2007-09-30</th>\n",
       "      <td>-0.055136</td>\n",
       "    </tr>\n",
       "    <tr>\n",
       "      <th>2007-12-31</th>\n",
       "      <td>-0.055454</td>\n",
       "    </tr>\n",
       "    <tr>\n",
       "      <th>2008-03-31</th>\n",
       "      <td>-0.222164</td>\n",
       "    </tr>\n",
       "  </tbody>\n",
       "</table>\n",
       "</div>"
      ],
      "text/plain": [
       "             returns\n",
       "Date                \n",
       "2007-03-31 -0.062338\n",
       "2007-06-30 -0.041614\n",
       "2007-09-30 -0.055136\n",
       "2007-12-31 -0.055454\n",
       "2008-03-31 -0.222164"
      ]
     },
     "execution_count": 116,
     "metadata": {},
     "output_type": "execute_result"
    }
   ],
   "source": [
    "# Now convert daily returns to weekly minimum returns\n",
    "returns_min = df.resample('Q').min()\n",
    "returns_min.head()"
   ]
  },
  {
   "cell_type": "code",
   "execution_count": 117,
   "metadata": {},
   "outputs": [],
   "source": [
    "delin = pd.read_csv(\"Delinq_rate.csv\")"
   ]
  },
  {
   "cell_type": "code",
   "execution_count": 118,
   "metadata": {},
   "outputs": [
    {
     "data": {
      "text/html": [
       "<div>\n",
       "<style scoped>\n",
       "    .dataframe tbody tr th:only-of-type {\n",
       "        vertical-align: middle;\n",
       "    }\n",
       "\n",
       "    .dataframe tbody tr th {\n",
       "        vertical-align: top;\n",
       "    }\n",
       "\n",
       "    .dataframe thead th {\n",
       "        text-align: right;\n",
       "    }\n",
       "</style>\n",
       "<table border=\"1\" class=\"dataframe\">\n",
       "  <thead>\n",
       "    <tr style=\"text-align: right;\">\n",
       "      <th></th>\n",
       "      <th>returns</th>\n",
       "    </tr>\n",
       "  </thead>\n",
       "  <tbody>\n",
       "    <tr>\n",
       "      <th>count</th>\n",
       "      <td>16.000000</td>\n",
       "    </tr>\n",
       "    <tr>\n",
       "      <th>mean</th>\n",
       "      <td>-0.000972</td>\n",
       "    </tr>\n",
       "    <tr>\n",
       "      <th>std</th>\n",
       "      <td>0.003676</td>\n",
       "    </tr>\n",
       "    <tr>\n",
       "      <th>min</th>\n",
       "      <td>-0.007180</td>\n",
       "    </tr>\n",
       "    <tr>\n",
       "      <th>25%</th>\n",
       "      <td>-0.002282</td>\n",
       "    </tr>\n",
       "    <tr>\n",
       "      <th>50%</th>\n",
       "      <td>-0.000641</td>\n",
       "    </tr>\n",
       "    <tr>\n",
       "      <th>75%</th>\n",
       "      <td>0.000821</td>\n",
       "    </tr>\n",
       "    <tr>\n",
       "      <th>max</th>\n",
       "      <td>0.005121</td>\n",
       "    </tr>\n",
       "  </tbody>\n",
       "</table>\n",
       "</div>"
      ],
      "text/plain": [
       "         returns\n",
       "count  16.000000\n",
       "mean   -0.000972\n",
       "std     0.003676\n",
       "min    -0.007180\n",
       "25%    -0.002282\n",
       "50%    -0.000641\n",
       "75%     0.000821\n",
       "max     0.005121"
      ]
     },
     "execution_count": 118,
     "metadata": {},
     "output_type": "execute_result"
    }
   ],
   "source": [
    "returns_avg.describe()"
   ]
  },
  {
   "cell_type": "code",
   "execution_count": 119,
   "metadata": {},
   "outputs": [
    {
     "data": {
      "text/html": [
       "<div>\n",
       "<style scoped>\n",
       "    .dataframe tbody tr th:only-of-type {\n",
       "        vertical-align: middle;\n",
       "    }\n",
       "\n",
       "    .dataframe tbody tr th {\n",
       "        vertical-align: top;\n",
       "    }\n",
       "\n",
       "    .dataframe thead th {\n",
       "        text-align: right;\n",
       "    }\n",
       "</style>\n",
       "<table border=\"1\" class=\"dataframe\">\n",
       "  <thead>\n",
       "    <tr style=\"text-align: right;\">\n",
       "      <th></th>\n",
       "      <th>Delinq_Rate</th>\n",
       "    </tr>\n",
       "  </thead>\n",
       "  <tbody>\n",
       "    <tr>\n",
       "      <th>count</th>\n",
       "      <td>16.000000</td>\n",
       "    </tr>\n",
       "    <tr>\n",
       "      <th>mean</th>\n",
       "      <td>0.073975</td>\n",
       "    </tr>\n",
       "    <tr>\n",
       "      <th>std</th>\n",
       "      <td>0.033431</td>\n",
       "    </tr>\n",
       "    <tr>\n",
       "      <th>min</th>\n",
       "      <td>0.023100</td>\n",
       "    </tr>\n",
       "    <tr>\n",
       "      <th>25%</th>\n",
       "      <td>0.042025</td>\n",
       "    </tr>\n",
       "    <tr>\n",
       "      <th>50%</th>\n",
       "      <td>0.082700</td>\n",
       "    </tr>\n",
       "    <tr>\n",
       "      <th>75%</th>\n",
       "      <td>0.103525</td>\n",
       "    </tr>\n",
       "    <tr>\n",
       "      <th>max</th>\n",
       "      <td>0.115400</td>\n",
       "    </tr>\n",
       "  </tbody>\n",
       "</table>\n",
       "</div>"
      ],
      "text/plain": [
       "       Delinq_Rate\n",
       "count    16.000000\n",
       "mean      0.073975\n",
       "std       0.033431\n",
       "min       0.023100\n",
       "25%       0.042025\n",
       "50%       0.082700\n",
       "75%       0.103525\n",
       "max       0.115400"
      ]
     },
     "execution_count": 119,
     "metadata": {},
     "output_type": "execute_result"
    }
   ],
   "source": [
    "delin.describe()"
   ]
  },
  {
   "cell_type": "code",
   "execution_count": 120,
   "metadata": {},
   "outputs": [
    {
     "data": {
      "text/plain": [
       "Text(0, 0.5, 'Delinquency rate, decimal %')"
      ]
     },
     "execution_count": 120,
     "metadata": {},
     "output_type": "execute_result"
    },
    {
     "data": {
      "image/png": "[encoded data removed]",
      "text/plain": [
       "<Figure size 432x288 with 1 Axes>"
      ]
     },
     "metadata": {
      "needs_background": "light"
     },
     "output_type": "display_data"
    }
   ],
   "source": [
    "plt.scatter(returns_avg,delin['Delinq_Rate'])\n",
    "plt.xlabel(\"Quarterly Average Return\")\n",
    "plt.ylabel(\"Delinquency rate, decimal %\")"
   ]
  },
  {
   "cell_type": "code",
   "execution_count": 121,
   "metadata": {},
   "outputs": [
    {
     "data": {
      "text/plain": [
       "Text(0, 0.5, 'Delinquency rate, decimal %')"
      ]
     },
     "execution_count": 121,
     "metadata": {},
     "output_type": "execute_result"
    },
    {
     "data": {
      "image/png": "[encoded data removed]",
      "text/plain": [
       "<Figure size 432x288 with 1 Axes>"
      ]
     },
     "metadata": {
      "needs_background": "light"
     },
     "output_type": "display_data"
    }
   ],
   "source": [
    "plt.scatter(returns_min,delin['Delinq_Rate'])\n",
    "plt.xlabel(\"Quarterly Min Return\")\n",
    "plt.ylabel(\"Delinquency rate, decimal %\")"
   ]
  },
  {
   "cell_type": "code",
   "execution_count": 122,
   "metadata": {},
   "outputs": [],
   "source": [
    "# # Initial assessment indicates that there is little correlation between average returns and mortgage delinquencies, \n",
    "# but a stronger negative correlation exists between minimum returns and delinquency. In the following exercises we'll\n",
    "# quantify this using least-squares regression."
   ]
  },
  {
   "cell_type": "code",
   "execution_count": 123,
   "metadata": {},
   "outputs": [
    {
     "data": {
      "text/html": [
       "<div>\n",
       "<style scoped>\n",
       "    .dataframe tbody tr th:only-of-type {\n",
       "        vertical-align: middle;\n",
       "    }\n",
       "\n",
       "    .dataframe tbody tr th {\n",
       "        vertical-align: top;\n",
       "    }\n",
       "\n",
       "    .dataframe thead th {\n",
       "        text-align: right;\n",
       "    }\n",
       "</style>\n",
       "<table border=\"1\" class=\"dataframe\">\n",
       "  <thead>\n",
       "    <tr style=\"text-align: right;\">\n",
       "      <th></th>\n",
       "      <th>Date</th>\n",
       "      <th>Delinq_Rate</th>\n",
       "    </tr>\n",
       "  </thead>\n",
       "  <tbody>\n",
       "    <tr>\n",
       "      <th>0</th>\n",
       "      <td>31-03-2007</td>\n",
       "      <td>0.0231</td>\n",
       "    </tr>\n",
       "    <tr>\n",
       "      <th>1</th>\n",
       "      <td>30-06-2007</td>\n",
       "      <td>0.0271</td>\n",
       "    </tr>\n",
       "    <tr>\n",
       "      <th>2</th>\n",
       "      <td>30-09-2007</td>\n",
       "      <td>0.0309</td>\n",
       "    </tr>\n",
       "    <tr>\n",
       "      <th>3</th>\n",
       "      <td>31-12-2007</td>\n",
       "      <td>0.0367</td>\n",
       "    </tr>\n",
       "    <tr>\n",
       "      <th>4</th>\n",
       "      <td>31-03-2008</td>\n",
       "      <td>0.0438</td>\n",
       "    </tr>\n",
       "  </tbody>\n",
       "</table>\n",
       "</div>"
      ],
      "text/plain": [
       "         Date  Delinq_Rate\n",
       "0  31-03-2007       0.0231\n",
       "1  30-06-2007       0.0271\n",
       "2  30-09-2007       0.0309\n",
       "3  31-12-2007       0.0367\n",
       "4  31-03-2008       0.0438"
      ]
     },
     "execution_count": 123,
     "metadata": {},
     "output_type": "execute_result"
    }
   ],
   "source": [
    "delin.head()"
   ]
  },
  {
   "cell_type": "code",
   "execution_count": 124,
   "metadata": {},
   "outputs": [],
   "source": [
    "delin['Date'] = pd.to_datetime(delin['Date'])\n",
    "delin = delin.set_index('Date')"
   ]
  },
  {
   "cell_type": "code",
   "execution_count": 125,
   "metadata": {},
   "outputs": [
    {
     "data": {
      "text/html": [
       "<div>\n",
       "<style scoped>\n",
       "    .dataframe tbody tr th:only-of-type {\n",
       "        vertical-align: middle;\n",
       "    }\n",
       "\n",
       "    .dataframe tbody tr th {\n",
       "        vertical-align: top;\n",
       "    }\n",
       "\n",
       "    .dataframe thead th {\n",
       "        text-align: right;\n",
       "    }\n",
       "</style>\n",
       "<table border=\"1\" class=\"dataframe\">\n",
       "  <thead>\n",
       "    <tr style=\"text-align: right;\">\n",
       "      <th></th>\n",
       "      <th>Delinq_Rate</th>\n",
       "    </tr>\n",
       "    <tr>\n",
       "      <th>Date</th>\n",
       "      <th></th>\n",
       "    </tr>\n",
       "  </thead>\n",
       "  <tbody>\n",
       "    <tr>\n",
       "      <th>2007-03-31</th>\n",
       "      <td>0.0231</td>\n",
       "    </tr>\n",
       "    <tr>\n",
       "      <th>2007-06-30</th>\n",
       "      <td>0.0271</td>\n",
       "    </tr>\n",
       "    <tr>\n",
       "      <th>2007-09-30</th>\n",
       "      <td>0.0309</td>\n",
       "    </tr>\n",
       "    <tr>\n",
       "      <th>2007-12-31</th>\n",
       "      <td>0.0367</td>\n",
       "    </tr>\n",
       "    <tr>\n",
       "      <th>2008-03-31</th>\n",
       "      <td>0.0438</td>\n",
       "    </tr>\n",
       "  </tbody>\n",
       "</table>\n",
       "</div>"
      ],
      "text/plain": [
       "            Delinq_Rate\n",
       "Date                   \n",
       "2007-03-31       0.0231\n",
       "2007-06-30       0.0271\n",
       "2007-09-30       0.0309\n",
       "2007-12-31       0.0367\n",
       "2008-03-31       0.0438"
      ]
     },
     "execution_count": 125,
     "metadata": {},
     "output_type": "execute_result"
    }
   ],
   "source": [
    "delin.head()"
   ]
  },
  {
   "cell_type": "code",
   "execution_count": 127,
   "metadata": {},
   "outputs": [],
   "source": [
    "# Crisis Factor Model (OLS) LEFT to study"
   ]
  },
  {
   "cell_type": "code",
   "execution_count": 64,
   "metadata": {},
   "outputs": [],
   "source": [
    "regression = sm.OLS(returns_avg,delin['Delinq_Rate']).fit()"
   ]
  },
  {
   "cell_type": "code",
   "execution_count": 65,
   "metadata": {},
   "outputs": [
    {
     "name": "stdout",
     "output_type": "stream",
     "text": [
      "                                 OLS Regression Results                                \n",
      "=======================================================================================\n",
      "Dep. Variable:                returns   R-squared (uncentered):                   0.015\n",
      "Model:                            OLS   Adj. R-squared (uncentered):             -0.051\n",
      "Method:                 Least Squares   F-statistic:                             0.2271\n",
      "Date:                Thu, 04 Jun 2020   Prob (F-statistic):                       0.641\n",
      "Time:                        12:06:03   Log-Likelihood:                          67.052\n",
      "No. Observations:                  16   AIC:                                     -132.1\n",
      "Df Residuals:                      15   BIC:                                     -131.3\n",
      "Df Model:                           1                                                  \n",
      "Covariance Type:            nonrobust                                                  \n",
      "===============================================================================\n",
      "                  coef    std err          t      P>|t|      [0.025      0.975]\n",
      "-------------------------------------------------------------------------------\n",
      "Delinq_Rate    -0.0056      0.012     -0.476      0.641      -0.031       0.019\n",
      "==============================================================================\n",
      "Omnibus:                        0.056   Durbin-Watson:                   1.468\n",
      "Prob(Omnibus):                  0.973   Jarque-Bera (JB):                0.252\n",
      "Skew:                          -0.099   Prob(JB):                        0.882\n",
      "Kurtosis:                       2.417   Cond. No.                         1.00\n",
      "==============================================================================\n",
      "\n",
      "Warnings:\n",
      "[1] Standard Errors assume that the covariance matrix of the errors is correctly specified.\n"
     ]
    },
    {
     "name": "stderr",
     "output_type": "stream",
     "text": [
      "C:\\Users\\TAN\\Anaconda3\\lib\\site-packages\\scipy\\stats\\stats.py:1535: UserWarning:\n",
      "\n",
      "kurtosistest only valid for n>=20 ... continuing anyway, n=16\n",
      "\n"
     ]
    }
   ],
   "source": [
    "print(regression.summary())"
   ]
  },
  {
   "cell_type": "code",
   "execution_count": 66,
   "metadata": {},
   "outputs": [],
   "source": [
    "regression_qmin = sm.OLS(returns_min,delin['Delinq_Rate']).fit()"
   ]
  },
  {
   "cell_type": "code",
   "execution_count": 67,
   "metadata": {},
   "outputs": [
    {
     "name": "stdout",
     "output_type": "stream",
     "text": [
      "                                 OLS Regression Results                                \n",
      "=======================================================================================\n",
      "Dep. Variable:                returns   R-squared (uncentered):                   0.594\n",
      "Model:                            OLS   Adj. R-squared (uncentered):              0.567\n",
      "Method:                 Least Squares   F-statistic:                              21.92\n",
      "Date:                Thu, 04 Jun 2020   Prob (F-statistic):                    0.000295\n",
      "Time:                        12:06:03   Log-Likelihood:                          19.097\n",
      "No. Observations:                  16   AIC:                                     -36.19\n",
      "Df Residuals:                      15   BIC:                                     -35.42\n",
      "Df Model:                           1                                                  \n",
      "Covariance Type:            nonrobust                                                  \n",
      "===============================================================================\n",
      "                  coef    std err          t      P>|t|      [0.025      0.975]\n",
      "-------------------------------------------------------------------------------\n",
      "Delinq_Rate    -1.0982      0.235     -4.682      0.000      -1.598      -0.598\n",
      "==============================================================================\n",
      "Omnibus:                        0.853   Durbin-Watson:                   0.828\n",
      "Prob(Omnibus):                  0.653   Jarque-Bera (JB):                0.718\n",
      "Skew:                          -0.452   Prob(JB):                        0.698\n",
      "Kurtosis:                       2.489   Cond. No.                         1.00\n",
      "==============================================================================\n",
      "\n",
      "Warnings:\n",
      "[1] Standard Errors assume that the covariance matrix of the errors is correctly specified.\n"
     ]
    }
   ],
   "source": [
    "print(regression_qmin.summary())"
   ]
  },
  {
   "cell_type": "code",
   "execution_count": 68,
   "metadata": {},
   "outputs": [
    {
     "data": {
      "text/html": [
       "<div>\n",
       "<style scoped>\n",
       "    .dataframe tbody tr th:only-of-type {\n",
       "        vertical-align: middle;\n",
       "    }\n",
       "\n",
       "    .dataframe tbody tr th {\n",
       "        vertical-align: top;\n",
       "    }\n",
       "\n",
       "    .dataframe thead th {\n",
       "        text-align: right;\n",
       "    }\n",
       "</style>\n",
       "<table border=\"1\" class=\"dataframe\">\n",
       "  <thead>\n",
       "    <tr style=\"text-align: right;\">\n",
       "      <th></th>\n",
       "      <th>returns</th>\n",
       "    </tr>\n",
       "    <tr>\n",
       "      <th>Date</th>\n",
       "      <th></th>\n",
       "    </tr>\n",
       "  </thead>\n",
       "  <tbody>\n",
       "    <tr>\n",
       "      <th>2007-03-31</th>\n",
       "      <td>0.017870</td>\n",
       "    </tr>\n",
       "    <tr>\n",
       "      <th>2007-06-30</th>\n",
       "      <td>0.014345</td>\n",
       "    </tr>\n",
       "    <tr>\n",
       "      <th>2007-09-30</th>\n",
       "      <td>0.019091</td>\n",
       "    </tr>\n",
       "    <tr>\n",
       "      <th>2007-12-31</th>\n",
       "      <td>0.021575</td>\n",
       "    </tr>\n",
       "    <tr>\n",
       "      <th>2008-03-31</th>\n",
       "      <td>0.046946</td>\n",
       "    </tr>\n",
       "  </tbody>\n",
       "</table>\n",
       "</div>"
      ],
      "text/plain": [
       "             returns\n",
       "Date                \n",
       "2007-03-31  0.017870\n",
       "2007-06-30  0.014345\n",
       "2007-09-30  0.019091\n",
       "2007-12-31  0.021575\n",
       "2008-03-31  0.046946"
      ]
     },
     "execution_count": 68,
     "metadata": {},
     "output_type": "execute_result"
    }
   ],
   "source": [
    "# Now convert daily returns to weekly minimum returns\n",
    "returns_vol = df.resample('Q').std()\n",
    "returns_vol.head()"
   ]
  },
  {
   "cell_type": "code",
   "execution_count": 69,
   "metadata": {},
   "outputs": [],
   "source": [
    "regression_vol = sm.OLS(returns_vol,delin['Delinq_Rate']).fit()"
   ]
  },
  {
   "cell_type": "code",
   "execution_count": 70,
   "metadata": {},
   "outputs": [
    {
     "name": "stdout",
     "output_type": "stream",
     "text": [
      "                                 OLS Regression Results                                \n",
      "=======================================================================================\n",
      "Dep. Variable:                returns   R-squared (uncentered):                   0.657\n",
      "Model:                            OLS   Adj. R-squared (uncentered):              0.634\n",
      "Method:                 Least Squares   F-statistic:                              28.68\n",
      "Date:                Thu, 04 Jun 2020   Prob (F-statistic):                    8.01e-05\n",
      "Time:                        12:06:08   Log-Likelihood:                          37.712\n",
      "No. Observations:                  16   AIC:                                     -73.42\n",
      "Df Residuals:                      15   BIC:                                     -72.65\n",
      "Df Model:                           1                                                  \n",
      "Covariance Type:            nonrobust                                                  \n",
      "===============================================================================\n",
      "                  coef    std err          t      P>|t|      [0.025      0.975]\n",
      "-------------------------------------------------------------------------------\n",
      "Delinq_Rate     0.3925      0.073      5.356      0.000       0.236       0.549\n",
      "==============================================================================\n",
      "Omnibus:                        1.168   Durbin-Watson:                   0.517\n",
      "Prob(Omnibus):                  0.558   Jarque-Bera (JB):                0.832\n",
      "Skew:                           0.215   Prob(JB):                        0.660\n",
      "Kurtosis:                       1.969   Cond. No.                         1.00\n",
      "==============================================================================\n",
      "\n",
      "Warnings:\n",
      "[1] Standard Errors assume that the covariance matrix of the errors is correctly specified.\n"
     ]
    }
   ],
   "source": [
    "print(regression_vol.summary())"
   ]
  },
  {
   "cell_type": "markdown",
   "metadata": {},
   "source": [
    "### As seen from the regressions, mortgage delinquencies are acting as a systematic risk factor for both minimum quarterly returns and average volatility of returns, but not for average quarterly returns. The R-squared goodness of fit isn't high in any case, but a model with more factors would likely generate greater explanatory power."
   ]
  },
  {
   "cell_type": "code",
   "execution_count": 71,
   "metadata": {},
   "outputs": [],
   "source": [
    "##R-Squared is a statistical measure of fit that indicates how much variation of a dependent variable is explained by the \n",
    "##independent variable(s) in a regression model."
   ]
  },
  {
   "cell_type": "markdown",
   "metadata": {},
   "source": [
    "# Modern Portfolio Theory"
   ]
  },
  {
   "cell_type": "markdown",
   "metadata": {},
   "source": [
    "What maximum return an investor can expect as per given risk apetite calculated from the portfolio volatility \n",
    "\n",
    "#### Eficient Portfolio\n",
    "portfolio with weights generating highest expected return for given level of risk\n",
    "\n",
    "#### Efficient Frontier\n",
    "Locus of (risk,return) pairs created by efficient portfolio"
   ]
  },
  {
   "cell_type": "code",
   "execution_count": 64,
   "metadata": {},
   "outputs": [],
   "source": [
    "# pip install pyportfolioopt"
   ]
  },
  {
   "cell_type": "code",
   "execution_count": 73,
   "metadata": {},
   "outputs": [
    {
     "data": {
      "image/png": "[encoded data removed]",
      "text/plain": [
       "<Figure size 432x288 with 1 Axes>"
      ]
     },
     "metadata": {
      "needs_background": "light"
     },
     "output_type": "display_data"
    }
   ],
   "source": [
    "\n",
    "# Compute the annualized average historical return\n",
    "mean_returns = mean_historical_return(df4, frequency = 252)\n",
    "\n",
    "# Plot the annualized average historical return\n",
    "plt.plot(mean_returns, linestyle = 'None', marker = 'o')\n",
    "plt.show()"
   ]
  },
  {
   "cell_type": "code",
   "execution_count": 74,
   "metadata": {},
   "outputs": [
    {
     "data": {
      "text/plain": [
       "Close_MS      0.051932\n",
       "Close_Citi   -0.222364\n",
       "JPM_Close     0.156725\n",
       "GS_Close      0.104710\n",
       "dtype: float64"
      ]
     },
     "execution_count": 74,
     "metadata": {},
     "output_type": "execute_result"
    }
   ],
   "source": [
    "mean_returns.head()"
   ]
  },
  {
   "cell_type": "code",
   "execution_count": 75,
   "metadata": {},
   "outputs": [],
   "source": [
    "# The average historical return is usually available as a proxy for expected returns, but is not always accurate--a more \n",
    "# thorough estimate of expected returns requires an assumption about the return distribution, which we'll discuss in the context\n",
    "# of Loss Distributions later in the course."
   ]
  },
  {
   "cell_type": "code",
   "execution_count": 76,
   "metadata": {},
   "outputs": [
    {
     "data": {
      "text/html": [
       "<div>\n",
       "<style scoped>\n",
       "    .dataframe tbody tr th:only-of-type {\n",
       "        vertical-align: middle;\n",
       "    }\n",
       "\n",
       "    .dataframe tbody tr th {\n",
       "        vertical-align: top;\n",
       "    }\n",
       "\n",
       "    .dataframe thead th {\n",
       "        text-align: right;\n",
       "    }\n",
       "</style>\n",
       "<table border=\"1\" class=\"dataframe\">\n",
       "  <thead>\n",
       "    <tr style=\"text-align: right;\">\n",
       "      <th></th>\n",
       "      <th>Close_MS</th>\n",
       "      <th>Close_Citi</th>\n",
       "      <th>JPM_Close</th>\n",
       "      <th>GS_Close</th>\n",
       "    </tr>\n",
       "    <tr>\n",
       "      <th>Date</th>\n",
       "      <th></th>\n",
       "      <th></th>\n",
       "      <th></th>\n",
       "      <th></th>\n",
       "    </tr>\n",
       "  </thead>\n",
       "  <tbody>\n",
       "    <tr>\n",
       "      <th>2007-03-01</th>\n",
       "      <td>81.620003</td>\n",
       "      <td>552.500000</td>\n",
       "      <td>48.070000</td>\n",
       "      <td>200.720001</td>\n",
       "    </tr>\n",
       "    <tr>\n",
       "      <th>2007-04-01</th>\n",
       "      <td>81.910004</td>\n",
       "      <td>550.599976</td>\n",
       "      <td>48.189999</td>\n",
       "      <td>198.850006</td>\n",
       "    </tr>\n",
       "    <tr>\n",
       "      <th>2007-05-01</th>\n",
       "      <td>80.860001</td>\n",
       "      <td>547.700012</td>\n",
       "      <td>47.790001</td>\n",
       "      <td>199.050003</td>\n",
       "    </tr>\n",
       "    <tr>\n",
       "      <th>2007-08-01</th>\n",
       "      <td>81.349998</td>\n",
       "      <td>550.500000</td>\n",
       "      <td>47.950001</td>\n",
       "      <td>203.729996</td>\n",
       "    </tr>\n",
       "    <tr>\n",
       "      <th>2007-09-01</th>\n",
       "      <td>81.160004</td>\n",
       "      <td>545.700012</td>\n",
       "      <td>47.750000</td>\n",
       "      <td>204.080002</td>\n",
       "    </tr>\n",
       "    <tr>\n",
       "      <th>2007-10-01</th>\n",
       "      <td>81.570000</td>\n",
       "      <td>541.299988</td>\n",
       "      <td>48.099998</td>\n",
       "      <td>208.110001</td>\n",
       "    </tr>\n",
       "    <tr>\n",
       "      <th>2007-11-01</th>\n",
       "      <td>82.370003</td>\n",
       "      <td>541.700012</td>\n",
       "      <td>48.310001</td>\n",
       "      <td>211.880005</td>\n",
       "    </tr>\n",
       "    <tr>\n",
       "      <th>2007-12-01</th>\n",
       "      <td>82.860001</td>\n",
       "      <td>543.799988</td>\n",
       "      <td>47.990002</td>\n",
       "      <td>213.990005</td>\n",
       "    </tr>\n",
       "    <tr>\n",
       "      <th>2007-01-16</th>\n",
       "      <td>82.610001</td>\n",
       "      <td>547.700012</td>\n",
       "      <td>48.389999</td>\n",
       "      <td>213.589996</td>\n",
       "    </tr>\n",
       "    <tr>\n",
       "      <th>2007-01-17</th>\n",
       "      <td>82.379997</td>\n",
       "      <td>543.900024</td>\n",
       "      <td>48.430000</td>\n",
       "      <td>213.229996</td>\n",
       "    </tr>\n",
       "  </tbody>\n",
       "</table>\n",
       "</div>"
      ],
      "text/plain": [
       "             Close_MS  Close_Citi  JPM_Close    GS_Close\n",
       "Date                                                    \n",
       "2007-03-01  81.620003  552.500000  48.070000  200.720001\n",
       "2007-04-01  81.910004  550.599976  48.189999  198.850006\n",
       "2007-05-01  80.860001  547.700012  47.790001  199.050003\n",
       "2007-08-01  81.349998  550.500000  47.950001  203.729996\n",
       "2007-09-01  81.160004  545.700012  47.750000  204.080002\n",
       "2007-10-01  81.570000  541.299988  48.099998  208.110001\n",
       "2007-11-01  82.370003  541.700012  48.310001  211.880005\n",
       "2007-12-01  82.860001  543.799988  47.990002  213.990005\n",
       "2007-01-16  82.610001  547.700012  48.389999  213.589996\n",
       "2007-01-17  82.379997  543.900024  48.430000  213.229996"
      ]
     },
     "execution_count": 76,
     "metadata": {},
     "output_type": "execute_result"
    }
   ],
   "source": [
    "df4.head(10)"
   ]
  },
  {
   "cell_type": "code",
   "execution_count": 77,
   "metadata": {},
   "outputs": [],
   "source": [
    "# Import the CovarianceShrinkage object, it reduces/shrinks the errors/residuals while calculating the covariance matrix\n",
    "\n",
    "# Create the CovarianceShrinkage instance variable\n",
    "cs = CovarianceShrinkage(df4)"
   ]
  },
  {
   "cell_type": "code",
   "execution_count": 78,
   "metadata": {},
   "outputs": [
    {
     "name": "stdout",
     "output_type": "stream",
     "text": [
      "Sample Covariance Matrix\n",
      "             Close_MS  Close_Citi  JPM_Close  GS_Close\n",
      "Close_MS    0.717102    0.450956   0.319404  0.372737\n",
      "Close_Citi  0.450956    0.796039   0.398215  0.320531\n",
      "JPM_Close   0.319404    0.398215   0.384847  0.247412\n",
      "GS_Close    0.372737    0.320531   0.247412  0.304432 \n",
      "\n",
      "Efficient Covariance Matrix\n",
      "             Close_MS  Close_Citi  JPM_Close  GS_Close\n",
      "Close_MS    0.707324    0.425953   0.301695  0.352071\n",
      "Close_Citi  0.425953    0.781884   0.376136  0.302760\n",
      "JPM_Close   0.301695    0.376136   0.393490  0.233695\n",
      "GS_Close    0.352071    0.302760   0.233695  0.317534 \n",
      "\n"
     ]
    }
   ],
   "source": [
    "# Difference in calculating covariance matrix through covariance shrinkage and through sample cov() method\n",
    "# Compute the sample covariance matrix of returns\n",
    "sample_cov = df4.pct_change().cov() * 252\n",
    "\n",
    "# Compute the efficient covariance matrix of returns\n",
    "e_cov = cs.ledoit_wolf()\n",
    "\n",
    "# Display both the sample covariance_matrix and the efficient e_cov estimate\n",
    "print(\"Sample Covariance Matrix\\n\", sample_cov, \"\\n\")\n",
    "print(\"Efficient Covariance Matrix\\n\", e_cov, \"\\n\")"
   ]
  },
  {
   "cell_type": "code",
   "execution_count": 79,
   "metadata": {},
   "outputs": [],
   "source": [
    "# Although the differences between the sample covariance and the efficient covariance (found by shrinking errors) \n",
    "# may seem small, they have a huge impact on estimation of the optimal portfolio weights and the generation of the efficient \n",
    "# frontier. Practitioners generally use some form of efficient covariance for Modern Portfolio Theory."
   ]
  },
  {
   "cell_type": "code",
   "execution_count": 80,
   "metadata": {},
   "outputs": [
    {
     "data": {
      "text/html": [
       "<div>\n",
       "<style scoped>\n",
       "    .dataframe tbody tr th:only-of-type {\n",
       "        vertical-align: middle;\n",
       "    }\n",
       "\n",
       "    .dataframe tbody tr th {\n",
       "        vertical-align: top;\n",
       "    }\n",
       "\n",
       "    .dataframe thead th {\n",
       "        text-align: right;\n",
       "    }\n",
       "</style>\n",
       "<table border=\"1\" class=\"dataframe\">\n",
       "  <thead>\n",
       "    <tr style=\"text-align: right;\">\n",
       "      <th></th>\n",
       "      <th>Close_MS</th>\n",
       "      <th>Close_Citi</th>\n",
       "      <th>JPM_Close</th>\n",
       "      <th>GS_Close</th>\n",
       "    </tr>\n",
       "    <tr>\n",
       "      <th>Date</th>\n",
       "      <th></th>\n",
       "      <th></th>\n",
       "      <th></th>\n",
       "      <th></th>\n",
       "    </tr>\n",
       "  </thead>\n",
       "  <tbody>\n",
       "    <tr>\n",
       "      <th>2007-03-01</th>\n",
       "      <td>81.620003</td>\n",
       "      <td>552.500000</td>\n",
       "      <td>48.070000</td>\n",
       "      <td>200.720001</td>\n",
       "    </tr>\n",
       "    <tr>\n",
       "      <th>2007-04-01</th>\n",
       "      <td>81.910004</td>\n",
       "      <td>550.599976</td>\n",
       "      <td>48.189999</td>\n",
       "      <td>198.850006</td>\n",
       "    </tr>\n",
       "    <tr>\n",
       "      <th>2007-05-01</th>\n",
       "      <td>80.860001</td>\n",
       "      <td>547.700012</td>\n",
       "      <td>47.790001</td>\n",
       "      <td>199.050003</td>\n",
       "    </tr>\n",
       "    <tr>\n",
       "      <th>2007-08-01</th>\n",
       "      <td>81.349998</td>\n",
       "      <td>550.500000</td>\n",
       "      <td>47.950001</td>\n",
       "      <td>203.729996</td>\n",
       "    </tr>\n",
       "    <tr>\n",
       "      <th>2007-09-01</th>\n",
       "      <td>81.160004</td>\n",
       "      <td>545.700012</td>\n",
       "      <td>47.750000</td>\n",
       "      <td>204.080002</td>\n",
       "    </tr>\n",
       "  </tbody>\n",
       "</table>\n",
       "</div>"
      ],
      "text/plain": [
       "             Close_MS  Close_Citi  JPM_Close    GS_Close\n",
       "Date                                                    \n",
       "2007-03-01  81.620003  552.500000  48.070000  200.720001\n",
       "2007-04-01  81.910004  550.599976  48.189999  198.850006\n",
       "2007-05-01  80.860001  547.700012  47.790001  199.050003\n",
       "2007-08-01  81.349998  550.500000  47.950001  203.729996\n",
       "2007-09-01  81.160004  545.700012  47.750000  204.080002"
      ]
     },
     "execution_count": 80,
     "metadata": {},
     "output_type": "execute_result"
    }
   ],
   "source": [
    "df4.head()"
   ]
  },
  {
   "cell_type": "code",
   "execution_count": 81,
   "metadata": {},
   "outputs": [
    {
     "name": "stdout",
     "output_type": "stream",
     "text": [
      "Efficient Covariance Matrices\n",
      " {'during':             Close_MS  Close_Citi  JPM_Close  GS_Close\n",
      "Close_MS    0.994390    0.465336   0.298613  0.434874\n",
      "Close_Citi  0.465336    0.713035   0.364848  0.323977\n",
      "JPM_Close   0.298613    0.364848   0.422516  0.224668\n",
      "GS_Close    0.434874    0.323977   0.224668  0.408773, 'after':             Close_MS  Close_Citi  JPM_Close  GS_Close\n",
      "Close_MS    0.388839    0.344939   0.279727  0.231624\n",
      "Close_Citi  0.344939    0.841156   0.356788  0.252684\n",
      "JPM_Close   0.279727    0.356788   0.382494  0.223740\n",
      "GS_Close    0.231624    0.252684   0.223740  0.244539}\n"
     ]
    }
   ],
   "source": [
    "# Create a dictionary of time periods (or 'epochs')\n",
    "epochs = { 'during' : {'start': '1-1-2007', 'end': '31-12-2008'},\n",
    "           'after'  : {'start': '1-1-2009', 'end': '31-12-2010'}\n",
    "         }\n",
    "\n",
    "# Compute the efficient covariance for each epoch\n",
    "e_cov = {}\n",
    "for x in epochs.keys():\n",
    "    sub_price = df4.loc[epochs[x]['start']:epochs[x]['end']]\n",
    "    e_cov[x] = CovarianceShrinkage(sub_price).ledoit_wolf()\n",
    "\n",
    "# Display the efficient covariance matrices for all epochs\n",
    "print(\"Efficient Covariance Matrices\\n\", e_cov)\n"
   ]
  },
  {
   "cell_type": "code",
   "execution_count": 128,
   "metadata": {},
   "outputs": [
    {
     "data": {
      "text/html": [
       "<div>\n",
       "<style scoped>\n",
       "    .dataframe tbody tr th:only-of-type {\n",
       "        vertical-align: middle;\n",
       "    }\n",
       "\n",
       "    .dataframe tbody tr th {\n",
       "        vertical-align: top;\n",
       "    }\n",
       "\n",
       "    .dataframe thead th {\n",
       "        text-align: right;\n",
       "    }\n",
       "</style>\n",
       "<table border=\"1\" class=\"dataframe\">\n",
       "  <thead>\n",
       "    <tr style=\"text-align: right;\">\n",
       "      <th></th>\n",
       "      <th>Return_MS</th>\n",
       "      <th>Return_Citi</th>\n",
       "      <th>Return_JPM</th>\n",
       "      <th>Return_GS</th>\n",
       "    </tr>\n",
       "    <tr>\n",
       "      <th>Date</th>\n",
       "      <th></th>\n",
       "      <th></th>\n",
       "      <th></th>\n",
       "      <th></th>\n",
       "    </tr>\n",
       "  </thead>\n",
       "  <tbody>\n",
       "    <tr>\n",
       "      <th>2007-03-01</th>\n",
       "      <td>NaN</td>\n",
       "      <td>NaN</td>\n",
       "      <td>NaN</td>\n",
       "      <td>NaN</td>\n",
       "    </tr>\n",
       "    <tr>\n",
       "      <th>2007-04-01</th>\n",
       "      <td>0.003547</td>\n",
       "      <td>-0.003445</td>\n",
       "      <td>0.002493</td>\n",
       "      <td>-0.009360</td>\n",
       "    </tr>\n",
       "    <tr>\n",
       "      <th>2007-05-01</th>\n",
       "      <td>-0.012902</td>\n",
       "      <td>-0.005281</td>\n",
       "      <td>-0.008335</td>\n",
       "      <td>0.001005</td>\n",
       "    </tr>\n",
       "    <tr>\n",
       "      <th>2007-08-01</th>\n",
       "      <td>0.006042</td>\n",
       "      <td>0.005099</td>\n",
       "      <td>0.003342</td>\n",
       "      <td>0.023240</td>\n",
       "    </tr>\n",
       "    <tr>\n",
       "      <th>2007-09-01</th>\n",
       "      <td>-0.002338</td>\n",
       "      <td>-0.008758</td>\n",
       "      <td>-0.004180</td>\n",
       "      <td>0.001717</td>\n",
       "    </tr>\n",
       "  </tbody>\n",
       "</table>\n",
       "</div>"
      ],
      "text/plain": [
       "            Return_MS  Return_Citi  Return_JPM  Return_GS\n",
       "Date                                                     \n",
       "2007-03-01        NaN          NaN         NaN        NaN\n",
       "2007-04-01   0.003547    -0.003445    0.002493  -0.009360\n",
       "2007-05-01  -0.012902    -0.005281   -0.008335   0.001005\n",
       "2007-08-01   0.006042     0.005099    0.003342   0.023240\n",
       "2007-09-01  -0.002338    -0.008758   -0.004180   0.001717"
      ]
     },
     "execution_count": 128,
     "metadata": {},
     "output_type": "execute_result"
    }
   ],
   "source": [
    "df3.head()"
   ]
  },
  {
   "cell_type": "code",
   "execution_count": 83,
   "metadata": {},
   "outputs": [],
   "source": [
    "# Great! The breakdown of the 2007 - 2010 period into sub-periods shows how the portfolio's risk increased during the crisis\n",
    "# , and this changed the risk-return trade-off after the crisis. For future reference, also note that although we used a loop\n",
    "# in this exercise, a dictionary comprehension could also have been used to create the efficient covariance matrix."
   ]
  },
  {
   "cell_type": "code",
   "execution_count": 85,
   "metadata": {},
   "outputs": [
    {
     "name": "stdout",
     "output_type": "stream",
     "text": [
      "Efficient Covariance Matrices\n",
      " {'during':             Close_MS  Close_Citi  JPM_Close  GS_Close\n",
      "Close_MS    0.994390    0.465336   0.298613  0.434874\n",
      "Close_Citi  0.465336    0.713035   0.364848  0.323977\n",
      "JPM_Close   0.298613    0.364848   0.422516  0.224668\n",
      "GS_Close    0.434874    0.323977   0.224668  0.408773}\n"
     ]
    }
   ],
   "source": [
    "# Create a dictionary of time periods (or 'epochs')\n",
    "epochs = { 'during' : {'start': '1-1-2007', 'end': '31-12-2008'}}\n",
    "\n",
    "# Compute the efficient covariance for each epoch\n",
    "e_cov_during = {}\n",
    "for x in epochs.keys():\n",
    "    sub_price = df4.loc[epochs[x]['start']:epochs[x]['end']]\n",
    "    e_cov_during[x] = CovarianceShrinkage(sub_price).ledoit_wolf()\n",
    "\n",
    "# Display the efficient covariance matrices for all epochs\n",
    "print(\"Efficient Covariance Matrices\\n\", e_cov_during)\n"
   ]
  },
  {
   "cell_type": "markdown",
   "metadata": {},
   "source": [
    "## Efficient Frontier Using CLA Algorithm"
   ]
  },
  {
   "cell_type": "code",
   "execution_count": 260,
   "metadata": {},
   "outputs": [
    {
     "data": {
      "text/html": [
       "<div>\n",
       "<style scoped>\n",
       "    .dataframe tbody tr th:only-of-type {\n",
       "        vertical-align: middle;\n",
       "    }\n",
       "\n",
       "    .dataframe tbody tr th {\n",
       "        vertical-align: top;\n",
       "    }\n",
       "\n",
       "    .dataframe thead th {\n",
       "        text-align: right;\n",
       "    }\n",
       "</style>\n",
       "<table border=\"1\" class=\"dataframe\">\n",
       "  <thead>\n",
       "    <tr style=\"text-align: right;\">\n",
       "      <th></th>\n",
       "      <th>Close_MS</th>\n",
       "      <th>Close_Citi</th>\n",
       "      <th>JPM_Close</th>\n",
       "      <th>GS_Close</th>\n",
       "    </tr>\n",
       "    <tr>\n",
       "      <th>Date</th>\n",
       "      <th></th>\n",
       "      <th></th>\n",
       "      <th></th>\n",
       "      <th></th>\n",
       "    </tr>\n",
       "  </thead>\n",
       "  <tbody>\n",
       "    <tr>\n",
       "      <th>2007-03-01</th>\n",
       "      <td>81.620003</td>\n",
       "      <td>552.500000</td>\n",
       "      <td>48.070000</td>\n",
       "      <td>200.720001</td>\n",
       "    </tr>\n",
       "    <tr>\n",
       "      <th>2007-04-01</th>\n",
       "      <td>81.910004</td>\n",
       "      <td>550.599976</td>\n",
       "      <td>48.189999</td>\n",
       "      <td>198.850006</td>\n",
       "    </tr>\n",
       "    <tr>\n",
       "      <th>2007-05-01</th>\n",
       "      <td>80.860001</td>\n",
       "      <td>547.700012</td>\n",
       "      <td>47.790001</td>\n",
       "      <td>199.050003</td>\n",
       "    </tr>\n",
       "    <tr>\n",
       "      <th>2007-08-01</th>\n",
       "      <td>81.349998</td>\n",
       "      <td>550.500000</td>\n",
       "      <td>47.950001</td>\n",
       "      <td>203.729996</td>\n",
       "    </tr>\n",
       "    <tr>\n",
       "      <th>2007-09-01</th>\n",
       "      <td>81.160004</td>\n",
       "      <td>545.700012</td>\n",
       "      <td>47.750000</td>\n",
       "      <td>204.080002</td>\n",
       "    </tr>\n",
       "  </tbody>\n",
       "</table>\n",
       "</div>"
      ],
      "text/plain": [
       "             Close_MS  Close_Citi  JPM_Close    GS_Close\n",
       "Date                                                    \n",
       "2007-03-01  81.620003  552.500000  48.070000  200.720001\n",
       "2007-04-01  81.910004  550.599976  48.189999  198.850006\n",
       "2007-05-01  80.860001  547.700012  47.790001  199.050003\n",
       "2007-08-01  81.349998  550.500000  47.950001  203.729996\n",
       "2007-09-01  81.160004  545.700012  47.750000  204.080002"
      ]
     },
     "execution_count": 260,
     "metadata": {},
     "output_type": "execute_result"
    }
   ],
   "source": [
    "df4.head()"
   ]
  },
  {
   "cell_type": "code",
   "execution_count": 261,
   "metadata": {},
   "outputs": [
    {
     "data": {
      "text/html": [
       "<div>\n",
       "<style scoped>\n",
       "    .dataframe tbody tr th:only-of-type {\n",
       "        vertical-align: middle;\n",
       "    }\n",
       "\n",
       "    .dataframe tbody tr th {\n",
       "        vertical-align: top;\n",
       "    }\n",
       "\n",
       "    .dataframe thead th {\n",
       "        text-align: right;\n",
       "    }\n",
       "</style>\n",
       "<table border=\"1\" class=\"dataframe\">\n",
       "  <thead>\n",
       "    <tr style=\"text-align: right;\">\n",
       "      <th></th>\n",
       "      <th>Return_MS</th>\n",
       "      <th>Return_Citi</th>\n",
       "      <th>Return_JPM</th>\n",
       "      <th>Return_GS</th>\n",
       "    </tr>\n",
       "    <tr>\n",
       "      <th>Date</th>\n",
       "      <th></th>\n",
       "      <th></th>\n",
       "      <th></th>\n",
       "      <th></th>\n",
       "    </tr>\n",
       "  </thead>\n",
       "  <tbody>\n",
       "    <tr>\n",
       "      <th>2007-03-01</th>\n",
       "      <td>NaN</td>\n",
       "      <td>NaN</td>\n",
       "      <td>NaN</td>\n",
       "      <td>NaN</td>\n",
       "    </tr>\n",
       "    <tr>\n",
       "      <th>2007-04-01</th>\n",
       "      <td>0.354677</td>\n",
       "      <td>-0.344488</td>\n",
       "      <td>0.249323</td>\n",
       "      <td>-0.936011</td>\n",
       "    </tr>\n",
       "    <tr>\n",
       "      <th>2007-05-01</th>\n",
       "      <td>-1.290186</td>\n",
       "      <td>-0.528084</td>\n",
       "      <td>-0.833508</td>\n",
       "      <td>0.100526</td>\n",
       "    </tr>\n",
       "    <tr>\n",
       "      <th>2007-08-01</th>\n",
       "      <td>0.604153</td>\n",
       "      <td>0.509924</td>\n",
       "      <td>0.334239</td>\n",
       "      <td>2.323950</td>\n",
       "    </tr>\n",
       "    <tr>\n",
       "      <th>2007-09-01</th>\n",
       "      <td>-0.233824</td>\n",
       "      <td>-0.875756</td>\n",
       "      <td>-0.417976</td>\n",
       "      <td>0.171652</td>\n",
       "    </tr>\n",
       "  </tbody>\n",
       "</table>\n",
       "</div>"
      ],
      "text/plain": [
       "            Return_MS  Return_Citi  Return_JPM  Return_GS\n",
       "Date                                                     \n",
       "2007-03-01        NaN          NaN         NaN        NaN\n",
       "2007-04-01   0.354677    -0.344488    0.249323  -0.936011\n",
       "2007-05-01  -1.290186    -0.528084   -0.833508   0.100526\n",
       "2007-08-01   0.604153     0.509924    0.334239   2.323950\n",
       "2007-09-01  -0.233824    -0.875756   -0.417976   0.171652"
      ]
     },
     "execution_count": 261,
     "metadata": {},
     "output_type": "execute_result"
    }
   ],
   "source": [
    "df3.head()"
   ]
  },
  {
   "cell_type": "code",
   "execution_count": 262,
   "metadata": {},
   "outputs": [],
   "source": [
    "df6=df3.loc['2007-03-01':'2008-12-31']"
   ]
  },
  {
   "cell_type": "code",
   "execution_count": 263,
   "metadata": {},
   "outputs": [],
   "source": [
    "df7=df4.loc['2007-03-01':'2008-12-31']"
   ]
  },
  {
   "cell_type": "code",
   "execution_count": 264,
   "metadata": {},
   "outputs": [],
   "source": [
    "e_cov_during = np.array(CovarianceShrinkage(df7).ledoit_wolf())"
   ]
  },
  {
   "cell_type": "code",
   "execution_count": 265,
   "metadata": {},
   "outputs": [
    {
     "data": {
      "text/plain": [
       "numpy.ndarray"
      ]
     },
     "execution_count": 265,
     "metadata": {},
     "output_type": "execute_result"
    }
   ],
   "source": [
    "type(e_cov_during)"
   ]
  },
  {
   "cell_type": "code",
   "execution_count": 266,
   "metadata": {},
   "outputs": [],
   "source": [
    "returns_during = np.array(df6.mean())"
   ]
  },
  {
   "cell_type": "code",
   "execution_count": 267,
   "metadata": {},
   "outputs": [],
   "source": [
    "efficient_portfolio_during = CLA(returns_during, e_cov_during)"
   ]
  },
  {
   "cell_type": "code",
   "execution_count": 268,
   "metadata": {},
   "outputs": [
    {
     "name": "stdout",
     "output_type": "stream",
     "text": [
      "{0: 0.0, 1: 0.0, 2: 0.4814250629859924, 3: 0.5185749370140076}\n"
     ]
    }
   ],
   "source": [
    "print(efficient_portfolio_during.min_volatility())"
   ]
  },
  {
   "cell_type": "code",
   "execution_count": 269,
   "metadata": {},
   "outputs": [],
   "source": [
    "# Compute the efficient frontier\n",
    "(ret, vol, weights) = efficient_portfolio_during.efficient_frontier()"
   ]
  },
  {
   "cell_type": "code",
   "execution_count": 278,
   "metadata": {},
   "outputs": [
    {
     "data": {
      "text/plain": [
       "[<matplotlib.lines.Line2D at 0x23fc7dd1198>]"
      ]
     },
     "execution_count": 278,
     "metadata": {},
     "output_type": "execute_result"
    },
    {
     "data": {
      "image/png": "[encoded data removed]",
      "text/plain": [
       "<Figure size 1440x864 with 1 Axes>"
      ]
     },
     "metadata": {
      "needs_background": "light"
     },
     "output_type": "display_data"
    }
   ],
   "source": [
    "plt.figure(figsize=(20,12))\n",
    "plt.xlabel('Standard Deviation/Volatiltiy/Risk')\n",
    "plt.ylabel('Return for period 2007-2008')\n",
    "plt.title('Efficient Frontier during crisis',size=20)\n",
    "plt.plot(vol,ret,c='r')"
   ]
  },
  {
   "cell_type": "code",
   "execution_count": 271,
   "metadata": {},
   "outputs": [],
   "source": [
    "df9=df4.loc['2009-01-01':'2010-12-31']  # for covariance matrix (prices)\n",
    "df10=df3.loc['2009-01-01':'2010-12-31'] # returns"
   ]
  },
  {
   "cell_type": "code",
   "execution_count": 272,
   "metadata": {},
   "outputs": [
    {
     "name": "stdout",
     "output_type": "stream",
     "text": [
      "[ 0.1059442  -0.06826069  0.05808973  0.13645525]\n"
     ]
    }
   ],
   "source": [
    "returns_after = np.array(df10.mean())\n",
    "print(returns_after)"
   ]
  },
  {
   "cell_type": "code",
   "execution_count": 273,
   "metadata": {},
   "outputs": [],
   "source": [
    "e_cov_after = np.array(CovarianceShrinkage(df9).ledoit_wolf())\n",
    "efficient_portfolio_after = CLA(returns_after, e_cov_after)\n",
    "(ret, vol, weights) = efficient_portfolio_after.efficient_frontier()\n",
    "# Add the frontier to the plot showing the 'before' and 'after' frontiers"
   ]
  },
  {
   "cell_type": "code",
   "execution_count": 279,
   "metadata": {},
   "outputs": [
    {
     "data": {
      "text/plain": [
       "[<matplotlib.lines.Line2D at 0x23fc7e31828>]"
      ]
     },
     "execution_count": 279,
     "metadata": {},
     "output_type": "execute_result"
    },
    {
     "data": {
      "image/png": "[encoded data removed]",
      "text/plain": [
       "<Figure size 1440x864 with 1 Axes>"
      ]
     },
     "metadata": {
      "needs_background": "light"
     },
     "output_type": "display_data"
    }
   ],
   "source": [
    "plt.figure(figsize=(20,12))\n",
    "plt.xlabel('Standard Deviation/Volatiltiy/Risk')\n",
    "plt.ylabel('Return for period 2009-2010')\n",
    "plt.title('Efficient Frontier after crisis',size=20)\n",
    "plt.plot(vol,ret,c='g')"
   ]
  },
  {
   "cell_type": "code",
   "execution_count": 118,
   "metadata": {},
   "outputs": [],
   "source": [
    "## Risk reduced after crisis"
   ]
  },
  {
   "cell_type": "markdown",
   "metadata": {},
   "source": [
    "# Portfolio Optimization"
   ]
  },
  {
   "cell_type": "code",
   "execution_count": 324,
   "metadata": {},
   "outputs": [],
   "source": [
    "df_returns = df1[['Return_MS','Return_Citi','Return_JPM','Return_GS']]"
   ]
  },
  {
   "cell_type": "code",
   "execution_count": 325,
   "metadata": {},
   "outputs": [
    {
     "data": {
      "text/html": [
       "<div>\n",
       "<style scoped>\n",
       "    .dataframe tbody tr th:only-of-type {\n",
       "        vertical-align: middle;\n",
       "    }\n",
       "\n",
       "    .dataframe tbody tr th {\n",
       "        vertical-align: top;\n",
       "    }\n",
       "\n",
       "    .dataframe thead th {\n",
       "        text-align: right;\n",
       "    }\n",
       "</style>\n",
       "<table border=\"1\" class=\"dataframe\">\n",
       "  <thead>\n",
       "    <tr style=\"text-align: right;\">\n",
       "      <th></th>\n",
       "      <th>Return_MS</th>\n",
       "      <th>Return_Citi</th>\n",
       "      <th>Return_JPM</th>\n",
       "      <th>Return_GS</th>\n",
       "    </tr>\n",
       "    <tr>\n",
       "      <th>Date</th>\n",
       "      <th></th>\n",
       "      <th></th>\n",
       "      <th></th>\n",
       "      <th></th>\n",
       "    </tr>\n",
       "  </thead>\n",
       "  <tbody>\n",
       "    <tr>\n",
       "      <th>2007-03-01</th>\n",
       "      <td>NaN</td>\n",
       "      <td>NaN</td>\n",
       "      <td>NaN</td>\n",
       "      <td>NaN</td>\n",
       "    </tr>\n",
       "    <tr>\n",
       "      <th>2007-04-01</th>\n",
       "      <td>0.354677</td>\n",
       "      <td>-0.344488</td>\n",
       "      <td>0.249323</td>\n",
       "      <td>-0.936011</td>\n",
       "    </tr>\n",
       "    <tr>\n",
       "      <th>2007-05-01</th>\n",
       "      <td>-1.290186</td>\n",
       "      <td>-0.528084</td>\n",
       "      <td>-0.833508</td>\n",
       "      <td>0.100526</td>\n",
       "    </tr>\n",
       "    <tr>\n",
       "      <th>2007-08-01</th>\n",
       "      <td>0.604153</td>\n",
       "      <td>0.509924</td>\n",
       "      <td>0.334239</td>\n",
       "      <td>2.323950</td>\n",
       "    </tr>\n",
       "    <tr>\n",
       "      <th>2007-09-01</th>\n",
       "      <td>-0.233824</td>\n",
       "      <td>-0.875756</td>\n",
       "      <td>-0.417976</td>\n",
       "      <td>0.171652</td>\n",
       "    </tr>\n",
       "    <tr>\n",
       "      <th>2007-10-01</th>\n",
       "      <td>0.503898</td>\n",
       "      <td>-0.809576</td>\n",
       "      <td>0.730307</td>\n",
       "      <td>1.955471</td>\n",
       "    </tr>\n",
       "    <tr>\n",
       "      <th>2007-11-01</th>\n",
       "      <td>0.975978</td>\n",
       "      <td>0.073873</td>\n",
       "      <td>0.435646</td>\n",
       "      <td>1.795331</td>\n",
       "    </tr>\n",
       "    <tr>\n",
       "      <th>2007-12-01</th>\n",
       "      <td>0.593112</td>\n",
       "      <td>0.386915</td>\n",
       "      <td>-0.664590</td>\n",
       "      <td>0.990921</td>\n",
       "    </tr>\n",
       "    <tr>\n",
       "      <th>2007-01-16</th>\n",
       "      <td>-0.302170</td>\n",
       "      <td>0.714620</td>\n",
       "      <td>0.830046</td>\n",
       "      <td>-0.187104</td>\n",
       "    </tr>\n",
       "    <tr>\n",
       "      <th>2007-01-17</th>\n",
       "      <td>-0.278810</td>\n",
       "      <td>-0.696226</td>\n",
       "      <td>0.082630</td>\n",
       "      <td>-0.168689</td>\n",
       "    </tr>\n",
       "  </tbody>\n",
       "</table>\n",
       "</div>"
      ],
      "text/plain": [
       "            Return_MS  Return_Citi  Return_JPM  Return_GS\n",
       "Date                                                     \n",
       "2007-03-01        NaN          NaN         NaN        NaN\n",
       "2007-04-01   0.354677    -0.344488    0.249323  -0.936011\n",
       "2007-05-01  -1.290186    -0.528084   -0.833508   0.100526\n",
       "2007-08-01   0.604153     0.509924    0.334239   2.323950\n",
       "2007-09-01  -0.233824    -0.875756   -0.417976   0.171652\n",
       "2007-10-01   0.503898    -0.809576    0.730307   1.955471\n",
       "2007-11-01   0.975978     0.073873    0.435646   1.795331\n",
       "2007-12-01   0.593112     0.386915   -0.664590   0.990921\n",
       "2007-01-16  -0.302170     0.714620    0.830046  -0.187104\n",
       "2007-01-17  -0.278810    -0.696226    0.082630  -0.168689"
      ]
     },
     "execution_count": 325,
     "metadata": {},
     "output_type": "execute_result"
    }
   ],
   "source": [
    "df_returns.head(10)"
   ]
  },
  {
   "cell_type": "code",
   "execution_count": 326,
   "metadata": {},
   "outputs": [
    {
     "data": {
      "image/png": "[encoded data removed]",
      "text/plain": [
       "<Figure size 864x576 with 4 Axes>"
      ]
     },
     "metadata": {
      "needs_background": "light"
     },
     "output_type": "display_data"
    }
   ],
   "source": [
    "df_returns.hist(bins=100,figsize=(12,8))\n",
    "plt.tight_layout()"
   ]
  },
  {
   "cell_type": "code",
   "execution_count": 327,
   "metadata": {},
   "outputs": [
    {
     "data": {
      "text/plain": [
       "Return_MS     -0.108756\n",
       "Return_Citi   -0.243700\n",
       "Return_JPM    -0.012875\n",
       "Return_GS     -0.017902\n",
       "dtype: float64"
      ]
     },
     "execution_count": 327,
     "metadata": {},
     "output_type": "execute_result"
    }
   ],
   "source": [
    "df_returns.mean()"
   ]
  },
  {
   "cell_type": "code",
   "execution_count": 328,
   "metadata": {},
   "outputs": [
    {
     "data": {
      "text/html": [
       "<div>\n",
       "<style scoped>\n",
       "    .dataframe tbody tr th:only-of-type {\n",
       "        vertical-align: middle;\n",
       "    }\n",
       "\n",
       "    .dataframe tbody tr th {\n",
       "        vertical-align: top;\n",
       "    }\n",
       "\n",
       "    .dataframe thead th {\n",
       "        text-align: right;\n",
       "    }\n",
       "</style>\n",
       "<table border=\"1\" class=\"dataframe\">\n",
       "  <thead>\n",
       "    <tr style=\"text-align: right;\">\n",
       "      <th></th>\n",
       "      <th>Return_MS</th>\n",
       "      <th>Return_Citi</th>\n",
       "      <th>Return_JPM</th>\n",
       "      <th>Return_GS</th>\n",
       "    </tr>\n",
       "  </thead>\n",
       "  <tbody>\n",
       "    <tr>\n",
       "      <th>Return_MS</th>\n",
       "      <td>6322.118322</td>\n",
       "      <td>4271.390381</td>\n",
       "      <td>3127.726038</td>\n",
       "      <td>3508.654003</td>\n",
       "    </tr>\n",
       "    <tr>\n",
       "      <th>Return_Citi</th>\n",
       "      <td>4271.390381</td>\n",
       "      <td>7847.629460</td>\n",
       "      <td>3859.369779</td>\n",
       "      <td>3056.339857</td>\n",
       "    </tr>\n",
       "    <tr>\n",
       "      <th>Return_JPM</th>\n",
       "      <td>3127.726038</td>\n",
       "      <td>3859.369779</td>\n",
       "      <td>3766.313007</td>\n",
       "      <td>2435.835409</td>\n",
       "    </tr>\n",
       "    <tr>\n",
       "      <th>Return_GS</th>\n",
       "      <td>3508.654003</td>\n",
       "      <td>3056.339857</td>\n",
       "      <td>2435.835409</td>\n",
       "      <td>2984.295634</td>\n",
       "    </tr>\n",
       "  </tbody>\n",
       "</table>\n",
       "</div>"
      ],
      "text/plain": [
       "               Return_MS  Return_Citi   Return_JPM    Return_GS\n",
       "Return_MS    6322.118322  4271.390381  3127.726038  3508.654003\n",
       "Return_Citi  4271.390381  7847.629460  3859.369779  3056.339857\n",
       "Return_JPM   3127.726038  3859.369779  3766.313007  2435.835409\n",
       "Return_GS    3508.654003  3056.339857  2435.835409  2984.295634"
      ]
     },
     "execution_count": 328,
     "metadata": {},
     "output_type": "execute_result"
    }
   ],
   "source": [
    "df_returns.cov()*252"
   ]
  },
  {
   "cell_type": "markdown",
   "metadata": {},
   "source": [
    "## Portfolio Optimization using Monte Carlo Simulation (Random Weights)"
   ]
  },
  {
   "cell_type": "code",
   "execution_count": 144,
   "metadata": {},
   "outputs": [
    {
     "name": "stdout",
     "output_type": "stream",
     "text": [
      "Index(['Close_MS', 'Close_Citi', 'JPM_Close', 'GS_Close', 'Return_MS',\n",
      "       'Return_Citi', 'Return_JPM', 'Return_GS'],\n",
      "      dtype='object')\n",
      "Random Weights :  [0.51639863 0.57066759 0.02847423 0.17152166]\n",
      "Rebalance\n",
      "[0.40122278 0.44338777 0.02212343 0.13326603]\n"
     ]
    }
   ],
   "source": [
    "np.random.seed(101)\n",
    "print(df1.columns)\n",
    "rand_weights = np.array(np.random.rand(4))\n",
    "print('Random Weights : ',rand_weights)\n",
    "## To make sum of random weights equal to 1 , divide each random generated weight by sum\n",
    "print('Rebalance')\n",
    "weights = rand_weights/np.sum(rand_weights)\n",
    "print(weights)"
   ]
  },
  {
   "cell_type": "code",
   "execution_count": 153,
   "metadata": {},
   "outputs": [
    {
     "data": {
      "text/plain": [
       "-0.3889862858815879"
      ]
     },
     "execution_count": 153,
     "metadata": {},
     "output_type": "execute_result"
    }
   ],
   "source": [
    "## Yearly portfolio expected return\n",
    "exp_ret = np.sum(df_returns.mean()*weights*252)\n",
    "exp_ret"
   ]
  },
  {
   "cell_type": "code",
   "execution_count": 154,
   "metadata": {},
   "outputs": [
    {
     "data": {
      "text/plain": [
       "0.7083152895453855"
      ]
     },
     "execution_count": 154,
     "metadata": {},
     "output_type": "execute_result"
    }
   ],
   "source": [
    "## Portfolio Volatility Yearly\n",
    "exp_vol = np.sqrt(np.dot(weights.T,np.dot(df_returns.cov()*252,weights)))\n",
    "exp_vol"
   ]
  },
  {
   "cell_type": "code",
   "execution_count": 156,
   "metadata": {},
   "outputs": [
    {
     "name": "stdout",
     "output_type": "stream",
     "text": [
      "Sharpe Ratio : -0.549171098835448\n"
     ]
    }
   ],
   "source": [
    "## Sharpe Ratio\n",
    "sr = exp_ret/exp_vol\n",
    "print('Sharpe Ratio :',sr)"
   ]
  },
  {
   "cell_type": "code",
   "execution_count": 158,
   "metadata": {},
   "outputs": [],
   "source": [
    "## Final code for monte carlo\n",
    "np.random.seed(101)\n",
    "num_ports = 10000\n",
    "all_weights = np.zeros((num_ports,len(df_returns.columns)))\n",
    "ret_arr = np.zeros(num_ports)\n",
    "vol_arr = np.zeros(num_ports)\n",
    "sharpe_arr = np.zeros(num_ports)\n",
    "\n",
    "for ind in range(num_ports):\n",
    "    rand_weights = np.array(np.random.rand(4))\n",
    "    ## To make sum of random weights equal to 1 , divide each random generated weight by sum\n",
    "    weights = rand_weights/np.sum(rand_weights)\n",
    "    all_weights[ind,:] = weights\n",
    "    ## Yearly portfolio expected return\n",
    "    ret_arr[ind] = np.sum(df_returns.mean()*weights*252)\n",
    "    ## Portfolio Volatility Yearly\n",
    "    vol_arr[ind] = np.sqrt(np.dot(weights.T,np.dot(df_returns.cov()*252,weights)))\n",
    "    ## Sharpe Ratio\n",
    "    sharpe_arr[ind] = ret_arr[ind]/vol_arr[ind]"
   ]
  },
  {
   "cell_type": "raw",
   "metadata": {},
   "source": [
    "sharpe_arr.max()"
   ]
  },
  {
   "cell_type": "code",
   "execution_count": 160,
   "metadata": {},
   "outputs": [
    {
     "data": {
      "text/plain": [
       "7872"
      ]
     },
     "execution_count": 160,
     "metadata": {},
     "output_type": "execute_result"
    }
   ],
   "source": [
    "sharpe_arr.argmax()"
   ]
  },
  {
   "cell_type": "code",
   "execution_count": 161,
   "metadata": {},
   "outputs": [
    {
     "data": {
      "text/plain": [
       "array([0.01225268, 0.00812669, 0.74934034, 0.2302803 ])"
      ]
     },
     "execution_count": 161,
     "metadata": {},
     "output_type": "execute_result"
    }
   ],
   "source": [
    "all_weights[7872,:]"
   ]
  },
  {
   "cell_type": "code",
   "execution_count": 163,
   "metadata": {},
   "outputs": [],
   "source": [
    "max_sr_ret = ret_arr[7872]\n",
    "max_sr_vol = vol_arr[7872]"
   ]
  },
  {
   "cell_type": "code",
   "execution_count": 165,
   "metadata": {},
   "outputs": [
    {
     "data": {
      "text/plain": [
       "<matplotlib.collections.PathCollection at 0x2004fbe69e8>"
      ]
     },
     "execution_count": 165,
     "metadata": {},
     "output_type": "execute_result"
    },
    {
     "data": {
      "image/png": "[encoded data removed]",
      "text/plain": [
       "<Figure size 864x576 with 2 Axes>"
      ]
     },
     "metadata": {
      "needs_background": "light"
     },
     "output_type": "display_data"
    }
   ],
   "source": [
    "plt.figure(figsize=(12,8))\n",
    "plt.scatter(vol_arr,ret_arr,c=sharpe_arr,cmap='plasma')\n",
    "plt.colorbar(label='Sharpe Ratio')\n",
    "plt.xlabel('Volatility')\n",
    "plt.ylabel('Return')\n",
    "plt.scatter(max_sr_vol,max_sr_ret,c='red',s=50,edgecolors='black')"
   ]
  },
  {
   "cell_type": "markdown",
   "metadata": {},
   "source": [
    "# Var(Value at Risk) of a Normal Distribution"
   ]
  },
  {
   "cell_type": "code",
   "execution_count": 330,
   "metadata": {},
   "outputs": [
    {
     "name": "stdout",
     "output_type": "stream",
     "text": [
      "95% VaR:  1.6448536269514722 ; 99% VaR:  2.306928893526917\n"
     ]
    },
    {
     "data": {
      "image/png": "[encoded data removed]",
      "text/plain": [
       "<Figure size 432x288 with 1 Axes>"
      ]
     },
     "metadata": {
      "needs_background": "light"
     },
     "output_type": "display_data"
    }
   ],
   "source": [
    "# Var of a Normal Distribution\n",
    "# Create the VaR measure at the 95% confidence level using norm.ppf()\n",
    "VaR_95 = norm.ppf(0.95)\n",
    "\n",
    "# Create the VaR meaasure at the 5% significance level using numpy.quantile()\n",
    "draws = norm.rvs(size = 100000)\n",
    "VaR_99 = np.quantile(draws, 0.99)\n",
    "\n",
    "# Compare the 95% and 99% VaR\n",
    "print(\"95% VaR: \", VaR_95, \"; 99% VaR: \", VaR_99)\n",
    "\n",
    "# Plot the normal distribution histogram and 95% VaR measure\n",
    "plt.hist(draws, bins = 100)\n",
    "plt.axvline(x = VaR_95, c='r', label = \"VaR at 95% Confidence Level\")\n",
    "plt.axvline(x = VaR_99, c='g', label = \"VaR at 99% Confidence Level\")\n",
    "\n",
    "plt.legend(); plt.show()"
   ]
  },
  {
   "cell_type": "markdown",
   "metadata": {},
   "source": [
    "## CVAR of a Normal Distribution"
   ]
  },
  {
   "cell_type": "code",
   "execution_count": 405,
   "metadata": {},
   "outputs": [
    {
     "data": {
      "text/plain": [
       "Date\n",
       "2007-04-01    0.169125\n",
       "2007-05-01    0.637813\n",
       "2007-08-01   -0.943067\n",
       "2007-09-01    0.338976\n",
       "2007-10-01   -0.595025\n",
       "2007-11-01   -0.820207\n",
       "2007-12-01   -0.326589\n",
       "2007-01-16   -0.263848\n",
       "2007-01-17    0.265274\n",
       "2007-01-18    0.922285\n",
       "dtype: float64"
      ]
     },
     "execution_count": 405,
     "metadata": {},
     "output_type": "execute_result"
    }
   ],
   "source": [
    "losses.head(10)"
   ]
  },
  {
   "cell_type": "code",
   "execution_count": 406,
   "metadata": {},
   "outputs": [],
   "source": [
    "mean_loss = losses.mean()"
   ]
  },
  {
   "cell_type": "code",
   "execution_count": 407,
   "metadata": {},
   "outputs": [
    {
     "data": {
      "text/plain": [
       "0.09580838926126413"
      ]
     },
     "execution_count": 407,
     "metadata": {},
     "output_type": "execute_result"
    }
   ],
   "source": [
    "mean_loss"
   ]
  },
  {
   "cell_type": "code",
   "execution_count": 408,
   "metadata": {},
   "outputs": [],
   "source": [
    "std_loss = losses.std()"
   ]
  },
  {
   "cell_type": "code",
   "execution_count": 409,
   "metadata": {},
   "outputs": [
    {
     "data": {
      "text/plain": [
       "3.903568122449752"
      ]
     },
     "execution_count": 409,
     "metadata": {},
     "output_type": "execute_result"
    }
   ],
   "source": [
    "std_loss"
   ]
  },
  {
   "cell_type": "code",
   "execution_count": 410,
   "metadata": {},
   "outputs": [
    {
     "data": {
      "image/png": "[encoded data removed]",
      "text/plain": [
       "<Figure size 432x288 with 1 Axes>"
      ]
     },
     "metadata": {
      "needs_background": "light"
     },
     "output_type": "display_data"
    }
   ],
   "source": [
    "# Compute the mean and variance of the portfolio losses\n",
    "pm = mean_loss\n",
    "ps = std_loss\n",
    "\n",
    "# Compute the 95% VaR using the .ppf()\n",
    "VaR_95 = norm.ppf(0.95, loc = pm, scale = ps)\n",
    "# Compute the expected tail loss and the CVaR in the worst 5% of cases\n",
    "tail_loss = norm.expect(lambda x: x, loc = pm, scale = ps, lb = VaR_95)\n",
    "CVaR_95 = (1 / (1 - 0.95)) * tail_loss\n",
    "\n",
    "# Plot the normal distribution histogram and add lines for the VaR and CVaR\n",
    "plt.hist(norm.rvs(size = 100000, loc = pm, scale = ps), bins = 100)\n",
    "plt.axvline(x = VaR_95, c='r', label = \"VaR, 95% confidence level\")\n",
    "plt.axvline(x = CVaR_95, c='g', label = \"CVaR, worst 5% of outcomes\")\n",
    "plt.legend(); plt.show()"
   ]
  },
  {
   "cell_type": "markdown",
   "metadata": {},
   "source": [
    "## VaR of Student's t-distribution"
   ]
  },
  {
   "cell_type": "code",
   "execution_count": 411,
   "metadata": {},
   "outputs": [],
   "source": [
    "from scipy.stats import t"
   ]
  },
  {
   "cell_type": "code",
   "execution_count": 413,
   "metadata": {},
   "outputs": [],
   "source": [
    "mu = losses.rolling(30).mean()\n",
    "sigma = losses.rolling(30).std()"
   ]
  },
  {
   "cell_type": "code",
   "execution_count": 414,
   "metadata": {},
   "outputs": [
    {
     "data": {
      "text/plain": [
       "Date\n",
       "2007-04-01         NaN\n",
       "2007-05-01         NaN\n",
       "2007-08-01         NaN\n",
       "2007-09-01         NaN\n",
       "2007-10-01         NaN\n",
       "                ...   \n",
       "2010-12-23   -0.105515\n",
       "2010-12-27   -0.175961\n",
       "2010-12-28   -0.233157\n",
       "2010-12-29   -0.170770\n",
       "2010-12-30   -0.219959\n",
       "Length: 1006, dtype: float64"
      ]
     },
     "execution_count": 414,
     "metadata": {},
     "output_type": "execute_result"
    }
   ],
   "source": [
    "mu"
   ]
  },
  {
   "cell_type": "code",
   "execution_count": 415,
   "metadata": {},
   "outputs": [
    {
     "data": {
      "text/plain": [
       "Date\n",
       "2007-04-01         NaN\n",
       "2007-05-01         NaN\n",
       "2007-08-01         NaN\n",
       "2007-09-01         NaN\n",
       "2007-10-01         NaN\n",
       "                ...   \n",
       "2010-12-23    1.425831\n",
       "2010-12-27    1.428301\n",
       "2010-12-28    1.386096\n",
       "2010-12-29    1.388099\n",
       "2010-12-30    1.350370\n",
       "Length: 1006, dtype: float64"
      ]
     },
     "execution_count": 415,
     "metadata": {},
     "output_type": "execute_result"
    }
   ],
   "source": [
    "sigma"
   ]
  },
  {
   "cell_type": "code",
   "execution_count": 416,
   "metadata": {},
   "outputs": [],
   "source": [
    "rolling_parameters = [(29, mu[i], s) for i,s in enumerate(sigma)]\n",
    "VaR_99 = np.array( [ t.ppf(0.99, *params) \n",
    "                    for params in rolling_parameters ] )\n",
    "\n",
    "# Plot the minimum risk exposure over the 2005-2010 time period\n",
    "plt.plot(losses.index, 0.01 * VaR_99 * 100000)\n",
    "plt.show()"
   ]
  },
  {
   "cell_type": "code",
   "execution_count": 427,
   "metadata": {},
   "outputs": [
    {
     "name": "stdout",
     "output_type": "stream",
     "text": [
      "26.276295920436993\n"
     ]
    }
   ],
   "source": [
    "# Fit the Student's t distribution to crisis losses\n",
    "p = t.fit(losses)\n",
    "\n",
    "# Compute the VaR_99 for the fitted distribution\n",
    "VaR_99 = t.ppf(0.99, *p)\n",
    "\n",
    "# Use the fitted parameters and VaR_99 to compute CVaR_99\n",
    "tail_loss = t.expect( lambda y: y, args = (p[0],), loc = p[1], scale = p[2], lb = VaR_99 )\n",
    "CVaR_99 = (1 / (1 - 0.99)) * tail_loss\n",
    "print(CVaR_99)"
   ]
  },
  {
   "cell_type": "markdown",
   "metadata": {},
   "source": [
    "26% Loss (CVaR) on a given portfolio investment during financial crisis"
   ]
  },
  {
   "cell_type": "markdown",
   "metadata": {},
   "source": [
    "## Parametric Estimation VaR"
   ]
  },
  {
   "cell_type": "markdown",
   "metadata": {},
   "source": [
    "Parameter estimation is the strongest method of VaR estimation because it assumes that the loss distribution class is known. \n",
    "Parameters are estimated to fit data to this distribution, and statistical inference is then made."
   ]
  },
  {
   "cell_type": "markdown",
   "metadata": {},
   "source": [
    "##### Finding best parameters (Theta - Mean and SD) given portfolio data is called Parametric Estimation"
   ]
  },
  {
   "cell_type": "markdown",
   "metadata": {},
   "source": [
    "In Parameter Estimation VaR, loss distribution is not given, thereby we fit different distribution and with the help of \n",
    "Anderson Darling test we check goodness of fit."
   ]
  },
  {
   "cell_type": "code",
   "execution_count": 339,
   "metadata": {},
   "outputs": [
    {
     "data": {
      "text/html": [
       "<div>\n",
       "<style scoped>\n",
       "    .dataframe tbody tr th:only-of-type {\n",
       "        vertical-align: middle;\n",
       "    }\n",
       "\n",
       "    .dataframe tbody tr th {\n",
       "        vertical-align: top;\n",
       "    }\n",
       "\n",
       "    .dataframe thead th {\n",
       "        text-align: right;\n",
       "    }\n",
       "</style>\n",
       "<table border=\"1\" class=\"dataframe\">\n",
       "  <thead>\n",
       "    <tr style=\"text-align: right;\">\n",
       "      <th></th>\n",
       "      <th>returns</th>\n",
       "    </tr>\n",
       "    <tr>\n",
       "      <th>Date</th>\n",
       "      <th></th>\n",
       "    </tr>\n",
       "  </thead>\n",
       "  <tbody>\n",
       "    <tr>\n",
       "      <th>2007-03-01</th>\n",
       "      <td>NaN</td>\n",
       "    </tr>\n",
       "    <tr>\n",
       "      <th>2007-04-01</th>\n",
       "      <td>-0.169125</td>\n",
       "    </tr>\n",
       "    <tr>\n",
       "      <th>2007-05-01</th>\n",
       "      <td>-0.637813</td>\n",
       "    </tr>\n",
       "    <tr>\n",
       "      <th>2007-08-01</th>\n",
       "      <td>0.943067</td>\n",
       "    </tr>\n",
       "    <tr>\n",
       "      <th>2007-09-01</th>\n",
       "      <td>-0.338976</td>\n",
       "    </tr>\n",
       "    <tr>\n",
       "      <th>2007-10-01</th>\n",
       "      <td>0.595025</td>\n",
       "    </tr>\n",
       "    <tr>\n",
       "      <th>2007-11-01</th>\n",
       "      <td>0.820207</td>\n",
       "    </tr>\n",
       "    <tr>\n",
       "      <th>2007-12-01</th>\n",
       "      <td>0.326589</td>\n",
       "    </tr>\n",
       "    <tr>\n",
       "      <th>2007-01-16</th>\n",
       "      <td>0.263848</td>\n",
       "    </tr>\n",
       "    <tr>\n",
       "      <th>2007-01-17</th>\n",
       "      <td>-0.265274</td>\n",
       "    </tr>\n",
       "  </tbody>\n",
       "</table>\n",
       "</div>"
      ],
      "text/plain": [
       "             returns\n",
       "Date                \n",
       "2007-03-01       NaN\n",
       "2007-04-01 -0.169125\n",
       "2007-05-01 -0.637813\n",
       "2007-08-01  0.943067\n",
       "2007-09-01 -0.338976\n",
       "2007-10-01  0.595025\n",
       "2007-11-01  0.820207\n",
       "2007-12-01  0.326589\n",
       "2007-01-16  0.263848\n",
       "2007-01-17 -0.265274"
      ]
     },
     "execution_count": 339,
     "metadata": {},
     "output_type": "execute_result"
    }
   ],
   "source": [
    "df.head(10)"
   ]
  },
  {
   "cell_type": "code",
   "execution_count": 340,
   "metadata": {},
   "outputs": [],
   "source": [
    "df_returns = df.dropna(axis=0)"
   ]
  },
  {
   "cell_type": "code",
   "execution_count": 341,
   "metadata": {},
   "outputs": [
    {
     "data": {
      "text/html": [
       "<div>\n",
       "<style scoped>\n",
       "    .dataframe tbody tr th:only-of-type {\n",
       "        vertical-align: middle;\n",
       "    }\n",
       "\n",
       "    .dataframe tbody tr th {\n",
       "        vertical-align: top;\n",
       "    }\n",
       "\n",
       "    .dataframe thead th {\n",
       "        text-align: right;\n",
       "    }\n",
       "</style>\n",
       "<table border=\"1\" class=\"dataframe\">\n",
       "  <thead>\n",
       "    <tr style=\"text-align: right;\">\n",
       "      <th></th>\n",
       "      <th>returns</th>\n",
       "    </tr>\n",
       "    <tr>\n",
       "      <th>Date</th>\n",
       "      <th></th>\n",
       "    </tr>\n",
       "  </thead>\n",
       "  <tbody>\n",
       "    <tr>\n",
       "      <th>2007-04-01</th>\n",
       "      <td>-0.169125</td>\n",
       "    </tr>\n",
       "    <tr>\n",
       "      <th>2007-05-01</th>\n",
       "      <td>-0.637813</td>\n",
       "    </tr>\n",
       "    <tr>\n",
       "      <th>2007-08-01</th>\n",
       "      <td>0.943067</td>\n",
       "    </tr>\n",
       "  </tbody>\n",
       "</table>\n",
       "</div>"
      ],
      "text/plain": [
       "             returns\n",
       "Date                \n",
       "2007-04-01 -0.169125\n",
       "2007-05-01 -0.637813\n",
       "2007-08-01  0.943067"
      ]
     },
     "execution_count": 341,
     "metadata": {},
     "output_type": "execute_result"
    }
   ],
   "source": [
    "df_returns.head(3)"
   ]
  },
  {
   "cell_type": "code",
   "execution_count": 348,
   "metadata": {},
   "outputs": [
    {
     "data": {
      "text/html": [
       "<div>\n",
       "<style scoped>\n",
       "    .dataframe tbody tr th:only-of-type {\n",
       "        vertical-align: middle;\n",
       "    }\n",
       "\n",
       "    .dataframe tbody tr th {\n",
       "        vertical-align: top;\n",
       "    }\n",
       "\n",
       "    .dataframe thead th {\n",
       "        text-align: right;\n",
       "    }\n",
       "</style>\n",
       "<table border=\"1\" class=\"dataframe\">\n",
       "  <thead>\n",
       "    <tr style=\"text-align: right;\">\n",
       "      <th></th>\n",
       "      <th>returns</th>\n",
       "    </tr>\n",
       "  </thead>\n",
       "  <tbody>\n",
       "    <tr>\n",
       "      <th>count</th>\n",
       "      <td>1006.000000</td>\n",
       "    </tr>\n",
       "    <tr>\n",
       "      <th>mean</th>\n",
       "      <td>-0.095808</td>\n",
       "    </tr>\n",
       "    <tr>\n",
       "      <th>std</th>\n",
       "      <td>3.903568</td>\n",
       "    </tr>\n",
       "    <tr>\n",
       "      <th>min</th>\n",
       "      <td>-22.216434</td>\n",
       "    </tr>\n",
       "    <tr>\n",
       "      <th>25%</th>\n",
       "      <td>-1.501236</td>\n",
       "    </tr>\n",
       "    <tr>\n",
       "      <th>50%</th>\n",
       "      <td>-0.080673</td>\n",
       "    </tr>\n",
       "    <tr>\n",
       "      <th>75%</th>\n",
       "      <td>1.319224</td>\n",
       "    </tr>\n",
       "    <tr>\n",
       "      <th>max</th>\n",
       "      <td>29.279192</td>\n",
       "    </tr>\n",
       "  </tbody>\n",
       "</table>\n",
       "</div>"
      ],
      "text/plain": [
       "           returns\n",
       "count  1006.000000\n",
       "mean     -0.095808\n",
       "std       3.903568\n",
       "min     -22.216434\n",
       "25%      -1.501236\n",
       "50%      -0.080673\n",
       "75%       1.319224\n",
       "max      29.279192"
      ]
     },
     "execution_count": 348,
     "metadata": {},
     "output_type": "execute_result"
    }
   ],
   "source": [
    "df_returns.describe()"
   ]
  },
  {
   "cell_type": "code",
   "execution_count": 370,
   "metadata": {},
   "outputs": [],
   "source": [
    "params = norm.fit(losses)"
   ]
  },
  {
   "cell_type": "code",
   "execution_count": 371,
   "metadata": {},
   "outputs": [
    {
     "data": {
      "text/plain": [
       "(0.09580838926126402, 3.901627496865014)"
      ]
     },
     "execution_count": 371,
     "metadata": {},
     "output_type": "execute_result"
    }
   ],
   "source": [
    "params"
   ]
  },
  {
   "cell_type": "code",
   "execution_count": 372,
   "metadata": {},
   "outputs": [],
   "source": [
    "VaR_95 = norm.ppf(0.95, *params)"
   ]
  },
  {
   "cell_type": "code",
   "execution_count": 373,
   "metadata": {},
   "outputs": [
    {
     "name": "stdout",
     "output_type": "stream",
     "text": [
      "VaR_95, Normal distribution:  6.513414528493276\n"
     ]
    }
   ],
   "source": [
    "print(\"VaR_95, Normal distribution: \", VaR_95)"
   ]
  },
  {
   "cell_type": "code",
   "execution_count": 374,
   "metadata": {},
   "outputs": [
    {
     "name": "stdout",
     "output_type": "stream",
     "text": [
      "Anderson-Darling test result:  AndersonResult(statistic=38.20183257088229, critical_values=array([0.574, 0.653, 0.784, 0.914, 1.088]), significance_level=array([15. , 10. ,  5. ,  2.5,  1. ]))\n"
     ]
    }
   ],
   "source": [
    "print(\"Anderson-Darling test result: \", anderson(losses))"
   ]
  },
  {
   "cell_type": "markdown",
   "metadata": {},
   "source": [
    "##### The Anderson-Darling test above value of 38.20 exceeds the 99% critical value of 1.088 by a large margin, indicating that the Normal distribution  may be a poor choice to represent portfolio losses"
   ]
  },
  {
   "cell_type": "code",
   "execution_count": null,
   "metadata": {},
   "outputs": [],
   "source": [
    "## Null Hypothesis - No Skewness"
   ]
  },
  {
   "cell_type": "code",
   "execution_count": 375,
   "metadata": {},
   "outputs": [
    {
     "name": "stdout",
     "output_type": "stream",
     "text": [
      "Skewtest result:  SkewtestResult(statistic=-6.655492127945391, pvalue=2.8235366881911988e-11)\n"
     ]
    }
   ],
   "source": [
    "# Test the data for skewness\n",
    "print(\"Skewtest result: \", skewtest(losses))"
   ]
  },
  {
   "cell_type": "code",
   "execution_count": 376,
   "metadata": {},
   "outputs": [],
   "source": [
    "# Fit the portfolio loss data to the skew-normal distribution\n",
    "params = skewnorm.fit(losses)"
   ]
  },
  {
   "cell_type": "code",
   "execution_count": 377,
   "metadata": {},
   "outputs": [
    {
     "name": "stdout",
     "output_type": "stream",
     "text": [
      "VaR_95 from skew-normal:  6.283943890895702\n"
     ]
    }
   ],
   "source": [
    "# Compute the 95% VaR from the fitted distribution, using parameter estimates\n",
    "VaR_95 = skewnorm.ppf(0.95, *params)\n",
    "print(\"VaR_95 from skew-normal: \", VaR_95)"
   ]
  },
  {
   "cell_type": "markdown",
   "metadata": {},
   "source": [
    "Losses are not normally distributed as the critical value exceeeds the 99% conidence interval of test statistic value\n",
    "Losses can be skewed\n",
    "\n",
    "Definition wiki - anderson\n",
    "In many cases (but not all), you can determine a p value for the Anderson-Darling statistic and use that value to help you \n",
    "determine if the test is significant are not. Remember the p (\"probability\") value is the probability of getting a result \n",
    "#that is more extreme if the null hypothesis is true. If the p value is low (e.g., <=0.05), you conclude that the data do \n",
    "not follow the normal distribution. Remember that you chose the significance level even though many people just use 0.05 \n",
    "the vast majority of the time. We will look at two different data sets and apply the Anderson-Darling test to both sets.\n",
    "\n"
   ]
  },
  {
   "cell_type": "markdown",
   "metadata": {},
   "source": [
    "Note that although the VaR estimate for the \n",
    "Normal distribution from the previous exercise is larger than the skewed Normal distribution estimate, the Anderson-Darling \n",
    "and skewtest results show the Normal distribution estimates cannot be relied upon. Skewness matters for loss distributions, \n",
    "and parameter estimation is one way to quantify this important feature of the financial crisis."
   ]
  },
  {
   "cell_type": "markdown",
   "metadata": {},
   "source": [
    "# Historical Simulation\n",
    "# EXAMPLE\n",
    "#weights = [0.25, 0.25, 0.25, 0.25]\n",
    "#portfolio_returns = asset_returns.dot(weights)\n",
    "#losses = - portfolio_returns\n",
    "#VaR_95 = np.quantile(losses, 0.95)"
   ]
  },
  {
   "cell_type": "markdown",
   "metadata": {},
   "source": [
    "Historical simulation: use past to predict future\n",
    "No distributional assumption required\n",
    "Data about previous losses become simulated losses for tomorrow"
   ]
  },
  {
   "cell_type": "code",
   "execution_count": 378,
   "metadata": {},
   "outputs": [],
   "source": [
    "VaR_95_HS = np.quantile(losses,0.95)"
   ]
  },
  {
   "cell_type": "code",
   "execution_count": 379,
   "metadata": {},
   "outputs": [
    {
     "name": "stdout",
     "output_type": "stream",
     "text": [
      "5.245684561193499\n"
     ]
    }
   ],
   "source": [
    "print(VaR_95_HS)"
   ]
  },
  {
   "cell_type": "code",
   "execution_count": 380,
   "metadata": {},
   "outputs": [],
   "source": [
    "## 5 % Loss with 95% confidence interval"
   ]
  },
  {
   "cell_type": "markdown",
   "metadata": {},
   "source": [
    "## Historical with monte carlo simulation VaR "
   ]
  },
  {
   "cell_type": "code",
   "execution_count": 381,
   "metadata": {},
   "outputs": [],
   "source": [
    "# Initialize daily cumulative loss for the 4 assets, across N runs\n",
    "N=10000\n",
    "daily_loss = np.zeros((4,N))"
   ]
  },
  {
   "cell_type": "code",
   "execution_count": 383,
   "metadata": {},
   "outputs": [
    {
     "data": {
      "text/html": [
       "<div>\n",
       "<style scoped>\n",
       "    .dataframe tbody tr th:only-of-type {\n",
       "        vertical-align: middle;\n",
       "    }\n",
       "\n",
       "    .dataframe tbody tr th {\n",
       "        vertical-align: top;\n",
       "    }\n",
       "\n",
       "    .dataframe thead th {\n",
       "        text-align: right;\n",
       "    }\n",
       "</style>\n",
       "<table border=\"1\" class=\"dataframe\">\n",
       "  <thead>\n",
       "    <tr style=\"text-align: right;\">\n",
       "      <th></th>\n",
       "      <th>Return_MS</th>\n",
       "      <th>Return_Citi</th>\n",
       "      <th>Return_JPM</th>\n",
       "      <th>Return_GS</th>\n",
       "    </tr>\n",
       "    <tr>\n",
       "      <th>Date</th>\n",
       "      <th></th>\n",
       "      <th></th>\n",
       "      <th></th>\n",
       "      <th></th>\n",
       "    </tr>\n",
       "  </thead>\n",
       "  <tbody>\n",
       "    <tr>\n",
       "      <th>2007-04-01</th>\n",
       "      <td>0.354677</td>\n",
       "      <td>-0.344488</td>\n",
       "      <td>0.249323</td>\n",
       "      <td>-0.936011</td>\n",
       "    </tr>\n",
       "    <tr>\n",
       "      <th>2007-05-01</th>\n",
       "      <td>-1.290186</td>\n",
       "      <td>-0.528084</td>\n",
       "      <td>-0.833508</td>\n",
       "      <td>0.100526</td>\n",
       "    </tr>\n",
       "    <tr>\n",
       "      <th>2007-08-01</th>\n",
       "      <td>0.604153</td>\n",
       "      <td>0.509924</td>\n",
       "      <td>0.334239</td>\n",
       "      <td>2.323950</td>\n",
       "    </tr>\n",
       "    <tr>\n",
       "      <th>2007-09-01</th>\n",
       "      <td>-0.233824</td>\n",
       "      <td>-0.875756</td>\n",
       "      <td>-0.417976</td>\n",
       "      <td>0.171652</td>\n",
       "    </tr>\n",
       "    <tr>\n",
       "      <th>2007-10-01</th>\n",
       "      <td>0.503898</td>\n",
       "      <td>-0.809576</td>\n",
       "      <td>0.730307</td>\n",
       "      <td>1.955471</td>\n",
       "    </tr>\n",
       "  </tbody>\n",
       "</table>\n",
       "</div>"
      ],
      "text/plain": [
       "            Return_MS  Return_Citi  Return_JPM  Return_GS\n",
       "Date                                                     \n",
       "2007-04-01   0.354677    -0.344488    0.249323  -0.936011\n",
       "2007-05-01  -1.290186    -0.528084   -0.833508   0.100526\n",
       "2007-08-01   0.604153     0.509924    0.334239   2.323950\n",
       "2007-09-01  -0.233824    -0.875756   -0.417976   0.171652\n",
       "2007-10-01   0.503898    -0.809576    0.730307   1.955471"
      ]
     },
     "execution_count": 383,
     "metadata": {},
     "output_type": "execute_result"
    }
   ],
   "source": [
    "returns.head()"
   ]
  },
  {
   "cell_type": "code",
   "execution_count": 394,
   "metadata": {},
   "outputs": [],
   "source": [
    "mu = np.array([returns['Return_MS'].mean(),returns['Return_Citi'].mean(),returns['Return_JPM'].mean(),\n",
    "               returns['Return_GS'].mean()])"
   ]
  },
  {
   "cell_type": "code",
   "execution_count": 395,
   "metadata": {},
   "outputs": [
    {
     "data": {
      "text/plain": [
       "array([-0.1087564 , -0.24369987, -0.01287549, -0.0179018 ])"
      ]
     },
     "execution_count": 395,
     "metadata": {},
     "output_type": "execute_result"
    }
   ],
   "source": [
    "mu"
   ]
  },
  {
   "cell_type": "code",
   "execution_count": 401,
   "metadata": {},
   "outputs": [],
   "source": [
    "mu = np.array([[-0.1087564],\n",
    "      [-0.24369987],\n",
    "      [-0.01287549],\n",
    "      [-0.0179018]])"
   ]
  },
  {
   "cell_type": "code",
   "execution_count": 402,
   "metadata": {},
   "outputs": [
    {
     "data": {
      "text/plain": [
       "numpy.ndarray"
      ]
     },
     "execution_count": 402,
     "metadata": {},
     "output_type": "execute_result"
    }
   ],
   "source": [
    "type(mu)"
   ]
  },
  {
   "cell_type": "code",
   "execution_count": 384,
   "metadata": {},
   "outputs": [],
   "source": [
    "e_cov = returns.cov()"
   ]
  },
  {
   "cell_type": "code",
   "execution_count": 386,
   "metadata": {},
   "outputs": [],
   "source": [
    "e_cov_1 = np.array(e_cov)"
   ]
  },
  {
   "cell_type": "code",
   "execution_count": 387,
   "metadata": {},
   "outputs": [
    {
     "data": {
      "text/plain": [
       "array([[25.08777112, 16.94996183, 12.41161126, 13.92323017],\n",
       "       [16.94996183, 31.14138675, 15.31495944, 12.12833277],\n",
       "       [12.41161126, 15.31495944, 14.94568654,  9.66601353],\n",
       "       [13.92323017, 12.12833277,  9.66601353, 11.84244299]])"
      ]
     },
     "execution_count": 387,
     "metadata": {},
     "output_type": "execute_result"
    }
   ],
   "source": [
    "e_cov_1"
   ]
  },
  {
   "cell_type": "code",
   "execution_count": 389,
   "metadata": {},
   "outputs": [],
   "source": [
    "total_steps = 1440"
   ]
  },
  {
   "cell_type": "code",
   "execution_count": null,
   "metadata": {},
   "outputs": [],
   "source": [
    "# Create the Monte Carlo simulations for N runs\n",
    "for n in range(N):\n",
    "    # Compute simulated path of length total_steps for correlated returns\n",
    "    correlated_randomness = e_cov @ norm.rvs(size = (4,total_steps))\n",
    "    # Adjust simulated path by total_steps and mean of portfolio losses\n",
    "    steps = 1/total_steps\n",
    "    minute_losses = mu * steps + correlated_randomness * np.sqrt(steps)\n",
    "    daily_loss[:, n] = minute_losses.sum(axis=1)"
   ]
  },
  {
   "cell_type": "code",
   "execution_count": null,
   "metadata": {},
   "outputs": [],
   "source": [
    "losses = weights @ daily_loss\n",
    "print(\"Monte Carlo VaR_95 estimate: \", np.quantile(losses, 0.95))"
   ]
  },
  {
   "cell_type": "markdown",
   "metadata": {},
   "source": [
    "Ordinary Least Square\n",
    "Ordinary least squares (OLS) regression is a statistical method of analysis that estimates the relationship between one or more independent variables and a dependent variable; the method estimates the relationship by minimizing the sum of the squares in the difference between the observed and predicted values of the dependent variable configured as a straight line."
   ]
  },
  {
   "cell_type": "markdown",
   "metadata": {},
   "source": [
    "### Structural Breaks - Theory"
   ]
  },
  {
   "cell_type": "markdown",
   "metadata": {},
   "source": [
    "Chow Test = Whether or not a structural break has occured in the data\n",
    "Visualization cannot determine exact structural break in the data\n",
    "Alternative - Time of structural break concides with time of increasing volatility\n",
    "Stochastic Volatility Model : Volatility can be analyzed statistically through the random probability distribution but\n",
    "cannot be predicted precisely\n"
   ]
  },
  {
   "cell_type": "markdown",
   "metadata": {},
   "source": [
    "To check if the volatility is non stationary rolling window volatility is calculated"
   ]
  },
  {
   "cell_type": "markdown",
   "metadata": {},
   "source": [
    "VaR and CVaR estimates that data distribution is same throughout (Stationarity Assumption) but there are structural breaks\n",
    "in between.\n",
    "\n",
    "So Assume specific points in time for change\n",
    "Break up data into sub-periods\n",
    "Within each sub-period, assume stationarity\n",
    "\n",
    "Chow TEST: Test for evidence of structural breaks\n",
    "    1. Null hypothesis - No break\n",
    "    2. Requires three OLS regressions\n",
    "    3. Regression for entire period\n",
    "    4. Two regressions, before and after break\n",
    "    5. Collect sum-of-squared residuals\n",
    "    6. Test statistic is distributed according to \"F\" distribution\n",
    "    \n",
    "Noe sometimes it is not easy to visualize the losses to detect the structural break\n",
    "Sometimes we can use Rolling window volatility to visualize the rolling volatity in the given time period\n",
    "\n",
    "std() calculates a single value of volatility\n",
    "rolling.std calculates rolling volatility and you can plot and see the structural break\n",
    "\n",
    "Backtesting\n",
    "Backtesting is the process of applying a trading strategy or analytical method to historical data to see how accurately\n",
    "the strategy or method would have predicted actual results."
   ]
  },
  {
   "cell_type": "code",
   "execution_count": null,
   "metadata": {},
   "outputs": [],
   "source": []
  }
 ],
 "metadata": {
  "kernelspec": {
   "display_name": "Python 3",
   "language": "python",
   "name": "python3"
  },
  "language_info": {
   "codemirror_mode": {
    "name": "ipython",
    "version": 3
   },
   "file_extension": ".py",
   "mimetype": "text/x-python",
   "name": "python",
   "nbconvert_exporter": "python",
   "pygments_lexer": "ipython3",
   "version": "3.7.1"
  }
 },
 "nbformat": 4,
 "nbformat_minor": 2
}

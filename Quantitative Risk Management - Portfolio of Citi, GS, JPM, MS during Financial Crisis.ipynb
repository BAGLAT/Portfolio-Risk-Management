{
 "cells": [
  {
   "cell_type": "code",
   "execution_count": 1,
   "metadata": {},
   "outputs": [],
   "source": [
    "import pandas as pd\n",
    "import matplotlib.pyplot as plt\n",
    "import numpy as np\n",
    "import plotly.graph_objects as go"
   ]
  },
  {
   "cell_type": "markdown",
   "metadata": {},
   "source": [
    "### Uploading data containing daily stock prices of 4 major banks(Morgan Stanley, Citi, JPMorgan Chase, Goldman Sachs) during period before, during and after Financial Crisis of 2008"
   ]
  },
  {
   "cell_type": "code",
   "execution_count": 2,
   "metadata": {},
   "outputs": [],
   "source": [
    "df1 = pd.read_csv(\"Financial_Stocks.csv\")"
   ]
  },
  {
   "cell_type": "code",
   "execution_count": 3,
   "metadata": {},
   "outputs": [],
   "source": [
    "df = df1.copy()"
   ]
  },
  {
   "cell_type": "markdown",
   "metadata": {},
   "source": [
    "### Data Preprocessing"
   ]
  },
  {
   "cell_type": "code",
   "execution_count": 4,
   "metadata": {
    "scrolled": true
   },
   "outputs": [
    {
     "data": {
      "text/html": [
       "<div>\n",
       "<style scoped>\n",
       "    .dataframe tbody tr th:only-of-type {\n",
       "        vertical-align: middle;\n",
       "    }\n",
       "\n",
       "    .dataframe tbody tr th {\n",
       "        vertical-align: top;\n",
       "    }\n",
       "\n",
       "    .dataframe thead th {\n",
       "        text-align: right;\n",
       "    }\n",
       "</style>\n",
       "<table border=\"1\" class=\"dataframe\">\n",
       "  <thead>\n",
       "    <tr style=\"text-align: right;\">\n",
       "      <th></th>\n",
       "      <th>Date</th>\n",
       "      <th>Close_MS</th>\n",
       "      <th>Close_Citi</th>\n",
       "      <th>JPM_Close</th>\n",
       "      <th>GS_Close</th>\n",
       "    </tr>\n",
       "  </thead>\n",
       "  <tbody>\n",
       "    <tr>\n",
       "      <th>0</th>\n",
       "      <td>03-01-2007</td>\n",
       "      <td>81.620003</td>\n",
       "      <td>552.500000</td>\n",
       "      <td>48.070000</td>\n",
       "      <td>200.720001</td>\n",
       "    </tr>\n",
       "    <tr>\n",
       "      <th>1</th>\n",
       "      <td>04-01-2007</td>\n",
       "      <td>81.910004</td>\n",
       "      <td>550.599976</td>\n",
       "      <td>48.189999</td>\n",
       "      <td>198.850006</td>\n",
       "    </tr>\n",
       "    <tr>\n",
       "      <th>2</th>\n",
       "      <td>05-01-2007</td>\n",
       "      <td>80.860001</td>\n",
       "      <td>547.700012</td>\n",
       "      <td>47.790001</td>\n",
       "      <td>199.050003</td>\n",
       "    </tr>\n",
       "    <tr>\n",
       "      <th>3</th>\n",
       "      <td>08-01-2007</td>\n",
       "      <td>81.349998</td>\n",
       "      <td>550.500000</td>\n",
       "      <td>47.950001</td>\n",
       "      <td>203.729996</td>\n",
       "    </tr>\n",
       "    <tr>\n",
       "      <th>4</th>\n",
       "      <td>09-01-2007</td>\n",
       "      <td>81.160004</td>\n",
       "      <td>545.700012</td>\n",
       "      <td>47.750000</td>\n",
       "      <td>204.080002</td>\n",
       "    </tr>\n",
       "    <tr>\n",
       "      <th>5</th>\n",
       "      <td>10-01-2007</td>\n",
       "      <td>81.570000</td>\n",
       "      <td>541.299988</td>\n",
       "      <td>48.099998</td>\n",
       "      <td>208.110001</td>\n",
       "    </tr>\n",
       "    <tr>\n",
       "      <th>6</th>\n",
       "      <td>11-01-2007</td>\n",
       "      <td>82.370003</td>\n",
       "      <td>541.700012</td>\n",
       "      <td>48.310001</td>\n",
       "      <td>211.880005</td>\n",
       "    </tr>\n",
       "    <tr>\n",
       "      <th>7</th>\n",
       "      <td>12-01-2007</td>\n",
       "      <td>82.860001</td>\n",
       "      <td>543.799988</td>\n",
       "      <td>47.990002</td>\n",
       "      <td>213.990005</td>\n",
       "    </tr>\n",
       "    <tr>\n",
       "      <th>8</th>\n",
       "      <td>16-01-2007</td>\n",
       "      <td>82.610001</td>\n",
       "      <td>547.700012</td>\n",
       "      <td>48.389999</td>\n",
       "      <td>213.589996</td>\n",
       "    </tr>\n",
       "    <tr>\n",
       "      <th>9</th>\n",
       "      <td>17-01-2007</td>\n",
       "      <td>82.379997</td>\n",
       "      <td>543.900024</td>\n",
       "      <td>48.430000</td>\n",
       "      <td>213.229996</td>\n",
       "    </tr>\n",
       "  </tbody>\n",
       "</table>\n",
       "</div>"
      ],
      "text/plain": [
       "         Date   Close_MS  Close_Citi  JPM_Close    GS_Close\n",
       "0  03-01-2007  81.620003  552.500000  48.070000  200.720001\n",
       "1  04-01-2007  81.910004  550.599976  48.189999  198.850006\n",
       "2  05-01-2007  80.860001  547.700012  47.790001  199.050003\n",
       "3  08-01-2007  81.349998  550.500000  47.950001  203.729996\n",
       "4  09-01-2007  81.160004  545.700012  47.750000  204.080002\n",
       "5  10-01-2007  81.570000  541.299988  48.099998  208.110001\n",
       "6  11-01-2007  82.370003  541.700012  48.310001  211.880005\n",
       "7  12-01-2007  82.860001  543.799988  47.990002  213.990005\n",
       "8  16-01-2007  82.610001  547.700012  48.389999  213.589996\n",
       "9  17-01-2007  82.379997  543.900024  48.430000  213.229996"
      ]
     },
     "execution_count": 4,
     "metadata": {},
     "output_type": "execute_result"
    }
   ],
   "source": [
    "df.head(10)"
   ]
  },
  {
   "cell_type": "code",
   "execution_count": 5,
   "metadata": {},
   "outputs": [
    {
     "data": {
      "text/plain": [
       "Date          0\n",
       "Close_MS      0\n",
       "Close_Citi    0\n",
       "JPM_Close     0\n",
       "GS_Close      0\n",
       "dtype: int64"
      ]
     },
     "execution_count": 5,
     "metadata": {},
     "output_type": "execute_result"
    }
   ],
   "source": [
    "df.isna().sum()"
   ]
  },
  {
   "cell_type": "code",
   "execution_count": 6,
   "metadata": {},
   "outputs": [],
   "source": [
    "df['Date'] = pd.to_datetime(df['Date'])"
   ]
  },
  {
   "cell_type": "code",
   "execution_count": 7,
   "metadata": {},
   "outputs": [],
   "source": [
    "df = df.set_index('Date')"
   ]
  },
  {
   "cell_type": "code",
   "execution_count": 8,
   "metadata": {},
   "outputs": [],
   "source": [
    "df4 = df.copy()"
   ]
  },
  {
   "cell_type": "code",
   "execution_count": 9,
   "metadata": {},
   "outputs": [
    {
     "data": {
      "text/html": [
       "<div>\n",
       "<style scoped>\n",
       "    .dataframe tbody tr th:only-of-type {\n",
       "        vertical-align: middle;\n",
       "    }\n",
       "\n",
       "    .dataframe tbody tr th {\n",
       "        vertical-align: top;\n",
       "    }\n",
       "\n",
       "    .dataframe thead th {\n",
       "        text-align: right;\n",
       "    }\n",
       "</style>\n",
       "<table border=\"1\" class=\"dataframe\">\n",
       "  <thead>\n",
       "    <tr style=\"text-align: right;\">\n",
       "      <th></th>\n",
       "      <th>Close_MS</th>\n",
       "      <th>Close_Citi</th>\n",
       "      <th>JPM_Close</th>\n",
       "      <th>GS_Close</th>\n",
       "    </tr>\n",
       "    <tr>\n",
       "      <th>Date</th>\n",
       "      <th></th>\n",
       "      <th></th>\n",
       "      <th></th>\n",
       "      <th></th>\n",
       "    </tr>\n",
       "  </thead>\n",
       "  <tbody>\n",
       "    <tr>\n",
       "      <th>2007-03-01</th>\n",
       "      <td>81.620003</td>\n",
       "      <td>552.500000</td>\n",
       "      <td>48.070000</td>\n",
       "      <td>200.720001</td>\n",
       "    </tr>\n",
       "    <tr>\n",
       "      <th>2007-04-01</th>\n",
       "      <td>81.910004</td>\n",
       "      <td>550.599976</td>\n",
       "      <td>48.189999</td>\n",
       "      <td>198.850006</td>\n",
       "    </tr>\n",
       "    <tr>\n",
       "      <th>2007-05-01</th>\n",
       "      <td>80.860001</td>\n",
       "      <td>547.700012</td>\n",
       "      <td>47.790001</td>\n",
       "      <td>199.050003</td>\n",
       "    </tr>\n",
       "  </tbody>\n",
       "</table>\n",
       "</div>"
      ],
      "text/plain": [
       "             Close_MS  Close_Citi  JPM_Close    GS_Close\n",
       "Date                                                    \n",
       "2007-03-01  81.620003  552.500000  48.070000  200.720001\n",
       "2007-04-01  81.910004  550.599976  48.189999  198.850006\n",
       "2007-05-01  80.860001  547.700012  47.790001  199.050003"
      ]
     },
     "execution_count": 9,
     "metadata": {},
     "output_type": "execute_result"
    }
   ],
   "source": [
    "df.head(3)"
   ]
  },
  {
   "cell_type": "code",
   "execution_count": 10,
   "metadata": {},
   "outputs": [
    {
     "data": {
      "text/html": [
       "<div>\n",
       "<style scoped>\n",
       "    .dataframe tbody tr th:only-of-type {\n",
       "        vertical-align: middle;\n",
       "    }\n",
       "\n",
       "    .dataframe tbody tr th {\n",
       "        vertical-align: top;\n",
       "    }\n",
       "\n",
       "    .dataframe thead th {\n",
       "        text-align: right;\n",
       "    }\n",
       "</style>\n",
       "<table border=\"1\" class=\"dataframe\">\n",
       "  <thead>\n",
       "    <tr style=\"text-align: right;\">\n",
       "      <th></th>\n",
       "      <th>Close_MS</th>\n",
       "      <th>Close_Citi</th>\n",
       "      <th>JPM_Close</th>\n",
       "      <th>GS_Close</th>\n",
       "    </tr>\n",
       "  </thead>\n",
       "  <tbody>\n",
       "    <tr>\n",
       "      <th>count</th>\n",
       "      <td>1007.000000</td>\n",
       "      <td>1007.000000</td>\n",
       "      <td>1007.000000</td>\n",
       "      <td>1007.000000</td>\n",
       "    </tr>\n",
       "    <tr>\n",
       "      <th>mean</th>\n",
       "      <td>40.228898</td>\n",
       "      <td>186.092056</td>\n",
       "      <td>40.848590</td>\n",
       "      <td>164.917607</td>\n",
       "    </tr>\n",
       "    <tr>\n",
       "      <th>std</th>\n",
       "      <td>20.498821</td>\n",
       "      <td>185.851510</td>\n",
       "      <td>6.746547</td>\n",
       "      <td>40.236383</td>\n",
       "    </tr>\n",
       "    <tr>\n",
       "      <th>min</th>\n",
       "      <td>9.200000</td>\n",
       "      <td>10.200000</td>\n",
       "      <td>15.900000</td>\n",
       "      <td>52.000000</td>\n",
       "    </tr>\n",
       "    <tr>\n",
       "      <th>25%</th>\n",
       "      <td>26.000000</td>\n",
       "      <td>39.099998</td>\n",
       "      <td>37.730002</td>\n",
       "      <td>144.930001</td>\n",
       "    </tr>\n",
       "    <tr>\n",
       "      <th>50%</th>\n",
       "      <td>30.790001</td>\n",
       "      <td>65.199997</td>\n",
       "      <td>41.529999</td>\n",
       "      <td>166.750000</td>\n",
       "    </tr>\n",
       "    <tr>\n",
       "      <th>75%</th>\n",
       "      <td>49.979999</td>\n",
       "      <td>292.550003</td>\n",
       "      <td>45.330000</td>\n",
       "      <td>190.285004</td>\n",
       "    </tr>\n",
       "    <tr>\n",
       "      <th>max</th>\n",
       "      <td>89.300003</td>\n",
       "      <td>552.500000</td>\n",
       "      <td>53.200001</td>\n",
       "      <td>247.919998</td>\n",
       "    </tr>\n",
       "  </tbody>\n",
       "</table>\n",
       "</div>"
      ],
      "text/plain": [
       "          Close_MS   Close_Citi    JPM_Close     GS_Close\n",
       "count  1007.000000  1007.000000  1007.000000  1007.000000\n",
       "mean     40.228898   186.092056    40.848590   164.917607\n",
       "std      20.498821   185.851510     6.746547    40.236383\n",
       "min       9.200000    10.200000    15.900000    52.000000\n",
       "25%      26.000000    39.099998    37.730002   144.930001\n",
       "50%      30.790001    65.199997    41.529999   166.750000\n",
       "75%      49.979999   292.550003    45.330000   190.285004\n",
       "max      89.300003   552.500000    53.200001   247.919998"
      ]
     },
     "execution_count": 10,
     "metadata": {},
     "output_type": "execute_result"
    }
   ],
   "source": [
    "df.describe()"
   ]
  },
  {
   "cell_type": "code",
   "execution_count": 11,
   "metadata": {},
   "outputs": [
    {
     "data": {
      "text/plain": [
       "Text(0.5, 1.0, 'Close Price of 4 major price during financial crisis')"
      ]
     },
     "execution_count": 11,
     "metadata": {},
     "output_type": "execute_result"
    },
    {
     "data": {
      "image/png": "[encoded data removed]",
      "text/plain": [
       "<Figure size 1224x864 with 1 Axes>"
      ]
     },
     "metadata": {
      "needs_background": "light"
     },
     "output_type": "display_data"
    }
   ],
   "source": [
    "# from 2007 - 2010\n",
    "df.plot(legend = 'MS',figsize=(17,12))\n",
    "plt.ylabel(\"Close Price\")\n",
    "plt.title('Close Price of 4 major price during financial crisis')"
   ]
  },
  {
   "cell_type": "markdown",
   "metadata": {},
   "source": [
    "### Quantifying Return (Taking log returns in place of close prices due to high autocorrelation in prices)"
   ]
  },
  {
   "cell_type": "code",
   "execution_count": 12,
   "metadata": {},
   "outputs": [],
   "source": [
    "df['Lag_MS'] = df['Close_MS'].shift(1)\n",
    "df['Return_MS'] = np.log(df['Close_MS']/df['Lag_MS'])\n",
    "df['Lag_Citi'] = df['Close_Citi'].shift(1)\n",
    "df['Return_Citi'] = np.log(df['Close_Citi']/df['Lag_Citi'])\n",
    "df['Lag_JPM'] = df['JPM_Close'].shift(1)\n",
    "df['Return_JPM'] = np.log(df['JPM_Close']/df['Lag_JPM'])\n",
    "df['Lag_GS'] = df['GS_Close'].shift(1)\n",
    "df['Return_GS'] = np.log(df['GS_Close']/df['Lag_GS'])"
   ]
  },
  {
   "cell_type": "code",
   "execution_count": 13,
   "metadata": {},
   "outputs": [
    {
     "data": {
      "text/html": [
       "<div>\n",
       "<style scoped>\n",
       "    .dataframe tbody tr th:only-of-type {\n",
       "        vertical-align: middle;\n",
       "    }\n",
       "\n",
       "    .dataframe tbody tr th {\n",
       "        vertical-align: top;\n",
       "    }\n",
       "\n",
       "    .dataframe thead th {\n",
       "        text-align: right;\n",
       "    }\n",
       "</style>\n",
       "<table border=\"1\" class=\"dataframe\">\n",
       "  <thead>\n",
       "    <tr style=\"text-align: right;\">\n",
       "      <th></th>\n",
       "      <th>Close_MS</th>\n",
       "      <th>Close_Citi</th>\n",
       "      <th>JPM_Close</th>\n",
       "      <th>GS_Close</th>\n",
       "      <th>Lag_MS</th>\n",
       "      <th>Return_MS</th>\n",
       "      <th>Lag_Citi</th>\n",
       "      <th>Return_Citi</th>\n",
       "      <th>Lag_JPM</th>\n",
       "      <th>Return_JPM</th>\n",
       "      <th>Lag_GS</th>\n",
       "      <th>Return_GS</th>\n",
       "    </tr>\n",
       "    <tr>\n",
       "      <th>Date</th>\n",
       "      <th></th>\n",
       "      <th></th>\n",
       "      <th></th>\n",
       "      <th></th>\n",
       "      <th></th>\n",
       "      <th></th>\n",
       "      <th></th>\n",
       "      <th></th>\n",
       "      <th></th>\n",
       "      <th></th>\n",
       "      <th></th>\n",
       "      <th></th>\n",
       "    </tr>\n",
       "  </thead>\n",
       "  <tbody>\n",
       "    <tr>\n",
       "      <th>2007-03-01</th>\n",
       "      <td>81.620003</td>\n",
       "      <td>552.500000</td>\n",
       "      <td>48.070000</td>\n",
       "      <td>200.720001</td>\n",
       "      <td>NaN</td>\n",
       "      <td>NaN</td>\n",
       "      <td>NaN</td>\n",
       "      <td>NaN</td>\n",
       "      <td>NaN</td>\n",
       "      <td>NaN</td>\n",
       "      <td>NaN</td>\n",
       "      <td>NaN</td>\n",
       "    </tr>\n",
       "    <tr>\n",
       "      <th>2007-04-01</th>\n",
       "      <td>81.910004</td>\n",
       "      <td>550.599976</td>\n",
       "      <td>48.189999</td>\n",
       "      <td>198.850006</td>\n",
       "      <td>81.620003</td>\n",
       "      <td>0.003547</td>\n",
       "      <td>552.500000</td>\n",
       "      <td>-0.003445</td>\n",
       "      <td>48.070000</td>\n",
       "      <td>0.002493</td>\n",
       "      <td>200.720001</td>\n",
       "      <td>-0.009360</td>\n",
       "    </tr>\n",
       "    <tr>\n",
       "      <th>2007-05-01</th>\n",
       "      <td>80.860001</td>\n",
       "      <td>547.700012</td>\n",
       "      <td>47.790001</td>\n",
       "      <td>199.050003</td>\n",
       "      <td>81.910004</td>\n",
       "      <td>-0.012902</td>\n",
       "      <td>550.599976</td>\n",
       "      <td>-0.005281</td>\n",
       "      <td>48.189999</td>\n",
       "      <td>-0.008335</td>\n",
       "      <td>198.850006</td>\n",
       "      <td>0.001005</td>\n",
       "    </tr>\n",
       "    <tr>\n",
       "      <th>2007-08-01</th>\n",
       "      <td>81.349998</td>\n",
       "      <td>550.500000</td>\n",
       "      <td>47.950001</td>\n",
       "      <td>203.729996</td>\n",
       "      <td>80.860001</td>\n",
       "      <td>0.006042</td>\n",
       "      <td>547.700012</td>\n",
       "      <td>0.005099</td>\n",
       "      <td>47.790001</td>\n",
       "      <td>0.003342</td>\n",
       "      <td>199.050003</td>\n",
       "      <td>0.023240</td>\n",
       "    </tr>\n",
       "    <tr>\n",
       "      <th>2007-09-01</th>\n",
       "      <td>81.160004</td>\n",
       "      <td>545.700012</td>\n",
       "      <td>47.750000</td>\n",
       "      <td>204.080002</td>\n",
       "      <td>81.349998</td>\n",
       "      <td>-0.002338</td>\n",
       "      <td>550.500000</td>\n",
       "      <td>-0.008758</td>\n",
       "      <td>47.950001</td>\n",
       "      <td>-0.004180</td>\n",
       "      <td>203.729996</td>\n",
       "      <td>0.001717</td>\n",
       "    </tr>\n",
       "    <tr>\n",
       "      <th>2007-10-01</th>\n",
       "      <td>81.570000</td>\n",
       "      <td>541.299988</td>\n",
       "      <td>48.099998</td>\n",
       "      <td>208.110001</td>\n",
       "      <td>81.160004</td>\n",
       "      <td>0.005039</td>\n",
       "      <td>545.700012</td>\n",
       "      <td>-0.008096</td>\n",
       "      <td>47.750000</td>\n",
       "      <td>0.007303</td>\n",
       "      <td>204.080002</td>\n",
       "      <td>0.019555</td>\n",
       "    </tr>\n",
       "    <tr>\n",
       "      <th>2007-11-01</th>\n",
       "      <td>82.370003</td>\n",
       "      <td>541.700012</td>\n",
       "      <td>48.310001</td>\n",
       "      <td>211.880005</td>\n",
       "      <td>81.570000</td>\n",
       "      <td>0.009760</td>\n",
       "      <td>541.299988</td>\n",
       "      <td>0.000739</td>\n",
       "      <td>48.099998</td>\n",
       "      <td>0.004356</td>\n",
       "      <td>208.110001</td>\n",
       "      <td>0.017953</td>\n",
       "    </tr>\n",
       "    <tr>\n",
       "      <th>2007-12-01</th>\n",
       "      <td>82.860001</td>\n",
       "      <td>543.799988</td>\n",
       "      <td>47.990002</td>\n",
       "      <td>213.990005</td>\n",
       "      <td>82.370003</td>\n",
       "      <td>0.005931</td>\n",
       "      <td>541.700012</td>\n",
       "      <td>0.003869</td>\n",
       "      <td>48.310001</td>\n",
       "      <td>-0.006646</td>\n",
       "      <td>211.880005</td>\n",
       "      <td>0.009909</td>\n",
       "    </tr>\n",
       "    <tr>\n",
       "      <th>2007-01-16</th>\n",
       "      <td>82.610001</td>\n",
       "      <td>547.700012</td>\n",
       "      <td>48.389999</td>\n",
       "      <td>213.589996</td>\n",
       "      <td>82.860001</td>\n",
       "      <td>-0.003022</td>\n",
       "      <td>543.799988</td>\n",
       "      <td>0.007146</td>\n",
       "      <td>47.990002</td>\n",
       "      <td>0.008300</td>\n",
       "      <td>213.990005</td>\n",
       "      <td>-0.001871</td>\n",
       "    </tr>\n",
       "    <tr>\n",
       "      <th>2007-01-17</th>\n",
       "      <td>82.379997</td>\n",
       "      <td>543.900024</td>\n",
       "      <td>48.430000</td>\n",
       "      <td>213.229996</td>\n",
       "      <td>82.610001</td>\n",
       "      <td>-0.002788</td>\n",
       "      <td>547.700012</td>\n",
       "      <td>-0.006962</td>\n",
       "      <td>48.389999</td>\n",
       "      <td>0.000826</td>\n",
       "      <td>213.589996</td>\n",
       "      <td>-0.001687</td>\n",
       "    </tr>\n",
       "  </tbody>\n",
       "</table>\n",
       "</div>"
      ],
      "text/plain": [
       "             Close_MS  Close_Citi  JPM_Close    GS_Close     Lag_MS  \\\n",
       "Date                                                                  \n",
       "2007-03-01  81.620003  552.500000  48.070000  200.720001        NaN   \n",
       "2007-04-01  81.910004  550.599976  48.189999  198.850006  81.620003   \n",
       "2007-05-01  80.860001  547.700012  47.790001  199.050003  81.910004   \n",
       "2007-08-01  81.349998  550.500000  47.950001  203.729996  80.860001   \n",
       "2007-09-01  81.160004  545.700012  47.750000  204.080002  81.349998   \n",
       "2007-10-01  81.570000  541.299988  48.099998  208.110001  81.160004   \n",
       "2007-11-01  82.370003  541.700012  48.310001  211.880005  81.570000   \n",
       "2007-12-01  82.860001  543.799988  47.990002  213.990005  82.370003   \n",
       "2007-01-16  82.610001  547.700012  48.389999  213.589996  82.860001   \n",
       "2007-01-17  82.379997  543.900024  48.430000  213.229996  82.610001   \n",
       "\n",
       "            Return_MS    Lag_Citi  Return_Citi    Lag_JPM  Return_JPM  \\\n",
       "Date                                                                    \n",
       "2007-03-01        NaN         NaN          NaN        NaN         NaN   \n",
       "2007-04-01   0.003547  552.500000    -0.003445  48.070000    0.002493   \n",
       "2007-05-01  -0.012902  550.599976    -0.005281  48.189999   -0.008335   \n",
       "2007-08-01   0.006042  547.700012     0.005099  47.790001    0.003342   \n",
       "2007-09-01  -0.002338  550.500000    -0.008758  47.950001   -0.004180   \n",
       "2007-10-01   0.005039  545.700012    -0.008096  47.750000    0.007303   \n",
       "2007-11-01   0.009760  541.299988     0.000739  48.099998    0.004356   \n",
       "2007-12-01   0.005931  541.700012     0.003869  48.310001   -0.006646   \n",
       "2007-01-16  -0.003022  543.799988     0.007146  47.990002    0.008300   \n",
       "2007-01-17  -0.002788  547.700012    -0.006962  48.389999    0.000826   \n",
       "\n",
       "                Lag_GS  Return_GS  \n",
       "Date                               \n",
       "2007-03-01         NaN        NaN  \n",
       "2007-04-01  200.720001  -0.009360  \n",
       "2007-05-01  198.850006   0.001005  \n",
       "2007-08-01  199.050003   0.023240  \n",
       "2007-09-01  203.729996   0.001717  \n",
       "2007-10-01  204.080002   0.019555  \n",
       "2007-11-01  208.110001   0.017953  \n",
       "2007-12-01  211.880005   0.009909  \n",
       "2007-01-16  213.990005  -0.001871  \n",
       "2007-01-17  213.589996  -0.001687  "
      ]
     },
     "execution_count": 13,
     "metadata": {},
     "output_type": "execute_result"
    }
   ],
   "source": [
    "df.head(10)"
   ]
  },
  {
   "cell_type": "code",
   "execution_count": 14,
   "metadata": {},
   "outputs": [],
   "source": [
    "df1 = df.drop(['Lag_Citi','Lag_MS','Lag_JPM','Lag_GS'],axis=1)"
   ]
  },
  {
   "cell_type": "code",
   "execution_count": 15,
   "metadata": {},
   "outputs": [
    {
     "data": {
      "text/html": [
       "<div>\n",
       "<style scoped>\n",
       "    .dataframe tbody tr th:only-of-type {\n",
       "        vertical-align: middle;\n",
       "    }\n",
       "\n",
       "    .dataframe tbody tr th {\n",
       "        vertical-align: top;\n",
       "    }\n",
       "\n",
       "    .dataframe thead th {\n",
       "        text-align: right;\n",
       "    }\n",
       "</style>\n",
       "<table border=\"1\" class=\"dataframe\">\n",
       "  <thead>\n",
       "    <tr style=\"text-align: right;\">\n",
       "      <th></th>\n",
       "      <th>Close_MS</th>\n",
       "      <th>Close_Citi</th>\n",
       "      <th>JPM_Close</th>\n",
       "      <th>GS_Close</th>\n",
       "      <th>Return_MS</th>\n",
       "      <th>Return_Citi</th>\n",
       "      <th>Return_JPM</th>\n",
       "      <th>Return_GS</th>\n",
       "    </tr>\n",
       "    <tr>\n",
       "      <th>Date</th>\n",
       "      <th></th>\n",
       "      <th></th>\n",
       "      <th></th>\n",
       "      <th></th>\n",
       "      <th></th>\n",
       "      <th></th>\n",
       "      <th></th>\n",
       "      <th></th>\n",
       "    </tr>\n",
       "  </thead>\n",
       "  <tbody>\n",
       "    <tr>\n",
       "      <th>2007-03-01</th>\n",
       "      <td>81.620003</td>\n",
       "      <td>552.500000</td>\n",
       "      <td>48.070000</td>\n",
       "      <td>200.720001</td>\n",
       "      <td>NaN</td>\n",
       "      <td>NaN</td>\n",
       "      <td>NaN</td>\n",
       "      <td>NaN</td>\n",
       "    </tr>\n",
       "    <tr>\n",
       "      <th>2007-04-01</th>\n",
       "      <td>81.910004</td>\n",
       "      <td>550.599976</td>\n",
       "      <td>48.189999</td>\n",
       "      <td>198.850006</td>\n",
       "      <td>0.003547</td>\n",
       "      <td>-0.003445</td>\n",
       "      <td>0.002493</td>\n",
       "      <td>-0.009360</td>\n",
       "    </tr>\n",
       "    <tr>\n",
       "      <th>2007-05-01</th>\n",
       "      <td>80.860001</td>\n",
       "      <td>547.700012</td>\n",
       "      <td>47.790001</td>\n",
       "      <td>199.050003</td>\n",
       "      <td>-0.012902</td>\n",
       "      <td>-0.005281</td>\n",
       "      <td>-0.008335</td>\n",
       "      <td>0.001005</td>\n",
       "    </tr>\n",
       "    <tr>\n",
       "      <th>2007-08-01</th>\n",
       "      <td>81.349998</td>\n",
       "      <td>550.500000</td>\n",
       "      <td>47.950001</td>\n",
       "      <td>203.729996</td>\n",
       "      <td>0.006042</td>\n",
       "      <td>0.005099</td>\n",
       "      <td>0.003342</td>\n",
       "      <td>0.023240</td>\n",
       "    </tr>\n",
       "    <tr>\n",
       "      <th>2007-09-01</th>\n",
       "      <td>81.160004</td>\n",
       "      <td>545.700012</td>\n",
       "      <td>47.750000</td>\n",
       "      <td>204.080002</td>\n",
       "      <td>-0.002338</td>\n",
       "      <td>-0.008758</td>\n",
       "      <td>-0.004180</td>\n",
       "      <td>0.001717</td>\n",
       "    </tr>\n",
       "    <tr>\n",
       "      <th>2007-10-01</th>\n",
       "      <td>81.570000</td>\n",
       "      <td>541.299988</td>\n",
       "      <td>48.099998</td>\n",
       "      <td>208.110001</td>\n",
       "      <td>0.005039</td>\n",
       "      <td>-0.008096</td>\n",
       "      <td>0.007303</td>\n",
       "      <td>0.019555</td>\n",
       "    </tr>\n",
       "    <tr>\n",
       "      <th>2007-11-01</th>\n",
       "      <td>82.370003</td>\n",
       "      <td>541.700012</td>\n",
       "      <td>48.310001</td>\n",
       "      <td>211.880005</td>\n",
       "      <td>0.009760</td>\n",
       "      <td>0.000739</td>\n",
       "      <td>0.004356</td>\n",
       "      <td>0.017953</td>\n",
       "    </tr>\n",
       "    <tr>\n",
       "      <th>2007-12-01</th>\n",
       "      <td>82.860001</td>\n",
       "      <td>543.799988</td>\n",
       "      <td>47.990002</td>\n",
       "      <td>213.990005</td>\n",
       "      <td>0.005931</td>\n",
       "      <td>0.003869</td>\n",
       "      <td>-0.006646</td>\n",
       "      <td>0.009909</td>\n",
       "    </tr>\n",
       "    <tr>\n",
       "      <th>2007-01-16</th>\n",
       "      <td>82.610001</td>\n",
       "      <td>547.700012</td>\n",
       "      <td>48.389999</td>\n",
       "      <td>213.589996</td>\n",
       "      <td>-0.003022</td>\n",
       "      <td>0.007146</td>\n",
       "      <td>0.008300</td>\n",
       "      <td>-0.001871</td>\n",
       "    </tr>\n",
       "    <tr>\n",
       "      <th>2007-01-17</th>\n",
       "      <td>82.379997</td>\n",
       "      <td>543.900024</td>\n",
       "      <td>48.430000</td>\n",
       "      <td>213.229996</td>\n",
       "      <td>-0.002788</td>\n",
       "      <td>-0.006962</td>\n",
       "      <td>0.000826</td>\n",
       "      <td>-0.001687</td>\n",
       "    </tr>\n",
       "  </tbody>\n",
       "</table>\n",
       "</div>"
      ],
      "text/plain": [
       "             Close_MS  Close_Citi  JPM_Close    GS_Close  Return_MS  \\\n",
       "Date                                                                  \n",
       "2007-03-01  81.620003  552.500000  48.070000  200.720001        NaN   \n",
       "2007-04-01  81.910004  550.599976  48.189999  198.850006   0.003547   \n",
       "2007-05-01  80.860001  547.700012  47.790001  199.050003  -0.012902   \n",
       "2007-08-01  81.349998  550.500000  47.950001  203.729996   0.006042   \n",
       "2007-09-01  81.160004  545.700012  47.750000  204.080002  -0.002338   \n",
       "2007-10-01  81.570000  541.299988  48.099998  208.110001   0.005039   \n",
       "2007-11-01  82.370003  541.700012  48.310001  211.880005   0.009760   \n",
       "2007-12-01  82.860001  543.799988  47.990002  213.990005   0.005931   \n",
       "2007-01-16  82.610001  547.700012  48.389999  213.589996  -0.003022   \n",
       "2007-01-17  82.379997  543.900024  48.430000  213.229996  -0.002788   \n",
       "\n",
       "            Return_Citi  Return_JPM  Return_GS  \n",
       "Date                                            \n",
       "2007-03-01          NaN         NaN        NaN  \n",
       "2007-04-01    -0.003445    0.002493  -0.009360  \n",
       "2007-05-01    -0.005281   -0.008335   0.001005  \n",
       "2007-08-01     0.005099    0.003342   0.023240  \n",
       "2007-09-01    -0.008758   -0.004180   0.001717  \n",
       "2007-10-01    -0.008096    0.007303   0.019555  \n",
       "2007-11-01     0.000739    0.004356   0.017953  \n",
       "2007-12-01     0.003869   -0.006646   0.009909  \n",
       "2007-01-16     0.007146    0.008300  -0.001871  \n",
       "2007-01-17    -0.006962    0.000826  -0.001687  "
      ]
     },
     "execution_count": 15,
     "metadata": {},
     "output_type": "execute_result"
    }
   ],
   "source": [
    "df1.head(10)"
   ]
  },
  {
   "cell_type": "code",
   "execution_count": 16,
   "metadata": {},
   "outputs": [],
   "source": [
    "df2 = df1.drop(['Close_MS','Close_Citi','GS_Close','JPM_Close'],axis=1)"
   ]
  },
  {
   "cell_type": "code",
   "execution_count": 17,
   "metadata": {},
   "outputs": [
    {
     "data": {
      "text/html": [
       "<div>\n",
       "<style scoped>\n",
       "    .dataframe tbody tr th:only-of-type {\n",
       "        vertical-align: middle;\n",
       "    }\n",
       "\n",
       "    .dataframe tbody tr th {\n",
       "        vertical-align: top;\n",
       "    }\n",
       "\n",
       "    .dataframe thead th {\n",
       "        text-align: right;\n",
       "    }\n",
       "</style>\n",
       "<table border=\"1\" class=\"dataframe\">\n",
       "  <thead>\n",
       "    <tr style=\"text-align: right;\">\n",
       "      <th></th>\n",
       "      <th>Return_MS</th>\n",
       "      <th>Return_Citi</th>\n",
       "      <th>Return_JPM</th>\n",
       "      <th>Return_GS</th>\n",
       "    </tr>\n",
       "    <tr>\n",
       "      <th>Date</th>\n",
       "      <th></th>\n",
       "      <th></th>\n",
       "      <th></th>\n",
       "      <th></th>\n",
       "    </tr>\n",
       "  </thead>\n",
       "  <tbody>\n",
       "    <tr>\n",
       "      <th>2007-03-01</th>\n",
       "      <td>NaN</td>\n",
       "      <td>NaN</td>\n",
       "      <td>NaN</td>\n",
       "      <td>NaN</td>\n",
       "    </tr>\n",
       "    <tr>\n",
       "      <th>2007-04-01</th>\n",
       "      <td>0.003547</td>\n",
       "      <td>-0.003445</td>\n",
       "      <td>0.002493</td>\n",
       "      <td>-0.009360</td>\n",
       "    </tr>\n",
       "    <tr>\n",
       "      <th>2007-05-01</th>\n",
       "      <td>-0.012902</td>\n",
       "      <td>-0.005281</td>\n",
       "      <td>-0.008335</td>\n",
       "      <td>0.001005</td>\n",
       "    </tr>\n",
       "  </tbody>\n",
       "</table>\n",
       "</div>"
      ],
      "text/plain": [
       "            Return_MS  Return_Citi  Return_JPM  Return_GS\n",
       "Date                                                     \n",
       "2007-03-01        NaN          NaN         NaN        NaN\n",
       "2007-04-01   0.003547    -0.003445    0.002493  -0.009360\n",
       "2007-05-01  -0.012902    -0.005281   -0.008335   0.001005"
      ]
     },
     "execution_count": 17,
     "metadata": {},
     "output_type": "execute_result"
    }
   ],
   "source": [
    "df2.head(3)"
   ]
  },
  {
   "cell_type": "code",
   "execution_count": 18,
   "metadata": {},
   "outputs": [],
   "source": [
    "df3 = df2.copy()"
   ]
  },
  {
   "cell_type": "code",
   "execution_count": 19,
   "metadata": {},
   "outputs": [
    {
     "data": {
      "text/html": [
       "<div>\n",
       "<style scoped>\n",
       "    .dataframe tbody tr th:only-of-type {\n",
       "        vertical-align: middle;\n",
       "    }\n",
       "\n",
       "    .dataframe tbody tr th {\n",
       "        vertical-align: top;\n",
       "    }\n",
       "\n",
       "    .dataframe thead th {\n",
       "        text-align: right;\n",
       "    }\n",
       "</style>\n",
       "<table border=\"1\" class=\"dataframe\">\n",
       "  <thead>\n",
       "    <tr style=\"text-align: right;\">\n",
       "      <th></th>\n",
       "      <th>Return_MS</th>\n",
       "      <th>Return_Citi</th>\n",
       "      <th>Return_JPM</th>\n",
       "      <th>Return_GS</th>\n",
       "    </tr>\n",
       "    <tr>\n",
       "      <th>Date</th>\n",
       "      <th></th>\n",
       "      <th></th>\n",
       "      <th></th>\n",
       "      <th></th>\n",
       "    </tr>\n",
       "  </thead>\n",
       "  <tbody>\n",
       "    <tr>\n",
       "      <th>2007-03-01</th>\n",
       "      <td>NaN</td>\n",
       "      <td>NaN</td>\n",
       "      <td>NaN</td>\n",
       "      <td>NaN</td>\n",
       "    </tr>\n",
       "    <tr>\n",
       "      <th>2007-04-01</th>\n",
       "      <td>0.003547</td>\n",
       "      <td>-0.003445</td>\n",
       "      <td>0.002493</td>\n",
       "      <td>-0.009360</td>\n",
       "    </tr>\n",
       "    <tr>\n",
       "      <th>2007-05-01</th>\n",
       "      <td>-0.012902</td>\n",
       "      <td>-0.005281</td>\n",
       "      <td>-0.008335</td>\n",
       "      <td>0.001005</td>\n",
       "    </tr>\n",
       "    <tr>\n",
       "      <th>2007-08-01</th>\n",
       "      <td>0.006042</td>\n",
       "      <td>0.005099</td>\n",
       "      <td>0.003342</td>\n",
       "      <td>0.023240</td>\n",
       "    </tr>\n",
       "    <tr>\n",
       "      <th>2007-09-01</th>\n",
       "      <td>-0.002338</td>\n",
       "      <td>-0.008758</td>\n",
       "      <td>-0.004180</td>\n",
       "      <td>0.001717</td>\n",
       "    </tr>\n",
       "    <tr>\n",
       "      <th>2007-10-01</th>\n",
       "      <td>0.005039</td>\n",
       "      <td>-0.008096</td>\n",
       "      <td>0.007303</td>\n",
       "      <td>0.019555</td>\n",
       "    </tr>\n",
       "    <tr>\n",
       "      <th>2007-11-01</th>\n",
       "      <td>0.009760</td>\n",
       "      <td>0.000739</td>\n",
       "      <td>0.004356</td>\n",
       "      <td>0.017953</td>\n",
       "    </tr>\n",
       "    <tr>\n",
       "      <th>2007-12-01</th>\n",
       "      <td>0.005931</td>\n",
       "      <td>0.003869</td>\n",
       "      <td>-0.006646</td>\n",
       "      <td>0.009909</td>\n",
       "    </tr>\n",
       "    <tr>\n",
       "      <th>2007-01-16</th>\n",
       "      <td>-0.003022</td>\n",
       "      <td>0.007146</td>\n",
       "      <td>0.008300</td>\n",
       "      <td>-0.001871</td>\n",
       "    </tr>\n",
       "    <tr>\n",
       "      <th>2007-01-17</th>\n",
       "      <td>-0.002788</td>\n",
       "      <td>-0.006962</td>\n",
       "      <td>0.000826</td>\n",
       "      <td>-0.001687</td>\n",
       "    </tr>\n",
       "  </tbody>\n",
       "</table>\n",
       "</div>"
      ],
      "text/plain": [
       "            Return_MS  Return_Citi  Return_JPM  Return_GS\n",
       "Date                                                     \n",
       "2007-03-01        NaN          NaN         NaN        NaN\n",
       "2007-04-01   0.003547    -0.003445    0.002493  -0.009360\n",
       "2007-05-01  -0.012902    -0.005281   -0.008335   0.001005\n",
       "2007-08-01   0.006042     0.005099    0.003342   0.023240\n",
       "2007-09-01  -0.002338    -0.008758   -0.004180   0.001717\n",
       "2007-10-01   0.005039    -0.008096    0.007303   0.019555\n",
       "2007-11-01   0.009760     0.000739    0.004356   0.017953\n",
       "2007-12-01   0.005931     0.003869   -0.006646   0.009909\n",
       "2007-01-16  -0.003022     0.007146    0.008300  -0.001871\n",
       "2007-01-17  -0.002788    -0.006962    0.000826  -0.001687"
      ]
     },
     "execution_count": 19,
     "metadata": {},
     "output_type": "execute_result"
    }
   ],
   "source": [
    "df3.head(10)"
   ]
  },
  {
   "cell_type": "code",
   "execution_count": 20,
   "metadata": {},
   "outputs": [
    {
     "data": {
      "text/html": [
       "<div>\n",
       "<style scoped>\n",
       "    .dataframe tbody tr th:only-of-type {\n",
       "        vertical-align: middle;\n",
       "    }\n",
       "\n",
       "    .dataframe tbody tr th {\n",
       "        vertical-align: top;\n",
       "    }\n",
       "\n",
       "    .dataframe thead th {\n",
       "        text-align: right;\n",
       "    }\n",
       "</style>\n",
       "<table border=\"1\" class=\"dataframe\">\n",
       "  <thead>\n",
       "    <tr style=\"text-align: right;\">\n",
       "      <th></th>\n",
       "      <th>Return_MS</th>\n",
       "      <th>Return_Citi</th>\n",
       "      <th>Return_JPM</th>\n",
       "      <th>Return_GS</th>\n",
       "    </tr>\n",
       "  </thead>\n",
       "  <tbody>\n",
       "    <tr>\n",
       "      <th>count</th>\n",
       "      <td>1006.000000</td>\n",
       "      <td>1006.000000</td>\n",
       "      <td>1006.000000</td>\n",
       "      <td>1006.000000</td>\n",
       "    </tr>\n",
       "    <tr>\n",
       "      <th>mean</th>\n",
       "      <td>-0.001088</td>\n",
       "      <td>-0.002437</td>\n",
       "      <td>-0.000129</td>\n",
       "      <td>-0.000179</td>\n",
       "    </tr>\n",
       "    <tr>\n",
       "      <th>std</th>\n",
       "      <td>0.050088</td>\n",
       "      <td>0.055804</td>\n",
       "      <td>0.038660</td>\n",
       "      <td>0.034413</td>\n",
       "    </tr>\n",
       "    <tr>\n",
       "      <th>min</th>\n",
       "      <td>-0.299658</td>\n",
       "      <td>-0.494696</td>\n",
       "      <td>-0.232278</td>\n",
       "      <td>-0.210223</td>\n",
       "    </tr>\n",
       "    <tr>\n",
       "      <th>25%</th>\n",
       "      <td>-0.017359</td>\n",
       "      <td>-0.019913</td>\n",
       "      <td>-0.014983</td>\n",
       "      <td>-0.014181</td>\n",
       "    </tr>\n",
       "    <tr>\n",
       "      <th>50%</th>\n",
       "      <td>-0.000438</td>\n",
       "      <td>-0.002031</td>\n",
       "      <td>-0.000722</td>\n",
       "      <td>-0.000541</td>\n",
       "    </tr>\n",
       "    <tr>\n",
       "      <th>75%</th>\n",
       "      <td>0.015981</td>\n",
       "      <td>0.015767</td>\n",
       "      <td>0.014002</td>\n",
       "      <td>0.015563</td>\n",
       "    </tr>\n",
       "    <tr>\n",
       "      <th>max</th>\n",
       "      <td>0.625850</td>\n",
       "      <td>0.456316</td>\n",
       "      <td>0.223917</td>\n",
       "      <td>0.234818</td>\n",
       "    </tr>\n",
       "  </tbody>\n",
       "</table>\n",
       "</div>"
      ],
      "text/plain": [
       "         Return_MS  Return_Citi   Return_JPM    Return_GS\n",
       "count  1006.000000  1006.000000  1006.000000  1006.000000\n",
       "mean     -0.001088    -0.002437    -0.000129    -0.000179\n",
       "std       0.050088     0.055804     0.038660     0.034413\n",
       "min      -0.299658    -0.494696    -0.232278    -0.210223\n",
       "25%      -0.017359    -0.019913    -0.014983    -0.014181\n",
       "50%      -0.000438    -0.002031    -0.000722    -0.000541\n",
       "75%       0.015981     0.015767     0.014002     0.015563\n",
       "max       0.625850     0.456316     0.223917     0.234818"
      ]
     },
     "execution_count": 20,
     "metadata": {},
     "output_type": "execute_result"
    }
   ],
   "source": [
    "df3.describe()"
   ]
  },
  {
   "cell_type": "markdown",
   "metadata": {},
   "source": [
    "### Considering equal weightage to each asset in a portfolio"
   ]
  },
  {
   "cell_type": "code",
   "execution_count": 21,
   "metadata": {},
   "outputs": [],
   "source": [
    "returns = df3.copy()"
   ]
  },
  {
   "cell_type": "code",
   "execution_count": 22,
   "metadata": {},
   "outputs": [],
   "source": [
    "w = (0.25,0.25,0.25,0.25)"
   ]
  },
  {
   "cell_type": "code",
   "execution_count": 23,
   "metadata": {},
   "outputs": [],
   "source": [
    "# Multilying weight vector with returns vector to calculate portfolio returns\n",
    "portfolio_returns = returns.dot(w)"
   ]
  },
  {
   "cell_type": "code",
   "execution_count": 24,
   "metadata": {},
   "outputs": [
    {
     "data": {
      "text/plain": [
       "Date\n",
       "2007-03-01         NaN\n",
       "2007-04-01   -0.001691\n",
       "2007-05-01   -0.006378\n",
       "2007-08-01    0.009431\n",
       "2007-09-01   -0.003390\n",
       "2007-10-01    0.005950\n",
       "2007-11-01    0.008202\n",
       "2007-12-01    0.003266\n",
       "2007-01-16    0.002638\n",
       "2007-01-17   -0.002653\n",
       "dtype: float64"
      ]
     },
     "execution_count": 24,
     "metadata": {},
     "output_type": "execute_result"
    }
   ],
   "source": [
    "portfolio_returns.head(10)"
   ]
  },
  {
   "cell_type": "code",
   "execution_count": 25,
   "metadata": {},
   "outputs": [],
   "source": [
    "# -ve returns are losses and +ve returns a are profit"
   ]
  },
  {
   "cell_type": "code",
   "execution_count": 26,
   "metadata": {},
   "outputs": [
    {
     "data": {
      "text/plain": [
       "pandas.core.series.Series"
      ]
     },
     "execution_count": 26,
     "metadata": {},
     "output_type": "execute_result"
    }
   ],
   "source": [
    "type(portfolio_returns)"
   ]
  },
  {
   "cell_type": "markdown",
   "metadata": {},
   "source": [
    "### Pandas Series Object to Pandas Dataframe"
   ]
  },
  {
   "cell_type": "code",
   "execution_count": 27,
   "metadata": {},
   "outputs": [
    {
     "name": "stdout",
     "output_type": "stream",
     "text": [
      "Date\n",
      "2007-03-01         NaN\n",
      "2007-04-01   -0.001691\n",
      "2007-05-01   -0.006378\n",
      "2007-08-01    0.009431\n",
      "2007-09-01   -0.003390\n",
      "                ...   \n",
      "2010-12-23   -0.006006\n",
      "2010-12-27    0.012458\n",
      "2010-12-28    0.000587\n",
      "2010-12-29   -0.007769\n",
      "2010-12-30   -0.000820\n",
      "Length: 1007, dtype: float64\n"
     ]
    }
   ],
   "source": [
    "portfolio_returns_new = pd.Series(portfolio_returns)\n",
    "print (portfolio_returns_new)"
   ]
  },
  {
   "cell_type": "code",
   "execution_count": 28,
   "metadata": {},
   "outputs": [],
   "source": [
    "df = portfolio_returns_new.to_frame()"
   ]
  },
  {
   "cell_type": "code",
   "execution_count": 29,
   "metadata": {},
   "outputs": [],
   "source": [
    "df = df.rename(columns={0: \"returns\"})"
   ]
  },
  {
   "cell_type": "code",
   "execution_count": 30,
   "metadata": {},
   "outputs": [
    {
     "data": {
      "text/html": [
       "<div>\n",
       "<style scoped>\n",
       "    .dataframe tbody tr th:only-of-type {\n",
       "        vertical-align: middle;\n",
       "    }\n",
       "\n",
       "    .dataframe tbody tr th {\n",
       "        vertical-align: top;\n",
       "    }\n",
       "\n",
       "    .dataframe thead th {\n",
       "        text-align: right;\n",
       "    }\n",
       "</style>\n",
       "<table border=\"1\" class=\"dataframe\">\n",
       "  <thead>\n",
       "    <tr style=\"text-align: right;\">\n",
       "      <th></th>\n",
       "      <th>returns</th>\n",
       "    </tr>\n",
       "    <tr>\n",
       "      <th>Date</th>\n",
       "      <th></th>\n",
       "    </tr>\n",
       "  </thead>\n",
       "  <tbody>\n",
       "    <tr>\n",
       "      <th>2007-03-01</th>\n",
       "      <td>NaN</td>\n",
       "    </tr>\n",
       "    <tr>\n",
       "      <th>2007-04-01</th>\n",
       "      <td>-0.001691</td>\n",
       "    </tr>\n",
       "    <tr>\n",
       "      <th>2007-05-01</th>\n",
       "      <td>-0.006378</td>\n",
       "    </tr>\n",
       "    <tr>\n",
       "      <th>2007-08-01</th>\n",
       "      <td>0.009431</td>\n",
       "    </tr>\n",
       "    <tr>\n",
       "      <th>2007-09-01</th>\n",
       "      <td>-0.003390</td>\n",
       "    </tr>\n",
       "    <tr>\n",
       "      <th>2007-10-01</th>\n",
       "      <td>0.005950</td>\n",
       "    </tr>\n",
       "    <tr>\n",
       "      <th>2007-11-01</th>\n",
       "      <td>0.008202</td>\n",
       "    </tr>\n",
       "    <tr>\n",
       "      <th>2007-12-01</th>\n",
       "      <td>0.003266</td>\n",
       "    </tr>\n",
       "    <tr>\n",
       "      <th>2007-01-16</th>\n",
       "      <td>0.002638</td>\n",
       "    </tr>\n",
       "    <tr>\n",
       "      <th>2007-01-17</th>\n",
       "      <td>-0.002653</td>\n",
       "    </tr>\n",
       "  </tbody>\n",
       "</table>\n",
       "</div>"
      ],
      "text/plain": [
       "             returns\n",
       "Date                \n",
       "2007-03-01       NaN\n",
       "2007-04-01 -0.001691\n",
       "2007-05-01 -0.006378\n",
       "2007-08-01  0.009431\n",
       "2007-09-01 -0.003390\n",
       "2007-10-01  0.005950\n",
       "2007-11-01  0.008202\n",
       "2007-12-01  0.003266\n",
       "2007-01-16  0.002638\n",
       "2007-01-17 -0.002653"
      ]
     },
     "execution_count": 30,
     "metadata": {},
     "output_type": "execute_result"
    }
   ],
   "source": [
    "df.head(10)"
   ]
  },
  {
   "cell_type": "code",
   "execution_count": 31,
   "metadata": {
    "scrolled": true
   },
   "outputs": [
    {
     "data": {
      "image/png": "[encoded data removed]",
      "text/plain": [
       "<Figure size 432x288 with 1 Axes>"
      ]
     },
     "metadata": {
      "needs_background": "light"
     },
     "output_type": "display_data"
    }
   ],
   "source": [
    "portfolio_returns.plot(color='red').set_ylabel(\"Daily Return, %\")\n",
    "plt.show()"
   ]
  },
  {
   "cell_type": "code",
   "execution_count": 32,
   "metadata": {},
   "outputs": [],
   "source": [
    "# The asset prices plot shows how the global financial crisis created a loss in confidence in investment banks from September 2008\n",
    "# . There was an event during September that precipitated this decline. The 'spikiness' of portfolio returns indicates how \n",
    "# uncertain and volatile asset returns became."
   ]
  },
  {
   "cell_type": "code",
   "execution_count": 33,
   "metadata": {},
   "outputs": [],
   "source": [
    "portfolio_returns_percent = portfolio_returns*100"
   ]
  },
  {
   "cell_type": "markdown",
   "metadata": {},
   "source": [
    "#### Above graph shows very high volatility from July 2008 to July 2009 "
   ]
  },
  {
   "cell_type": "markdown",
   "metadata": {},
   "source": [
    "### Quantifying Portfolio Risk using Variance Covariance (Parametric Estimation)"
   ]
  },
  {
   "cell_type": "code",
   "execution_count": 34,
   "metadata": {},
   "outputs": [],
   "source": [
    "covar = df3.cov()"
   ]
  },
  {
   "cell_type": "markdown",
   "metadata": {},
   "source": [
    "#### Correlation in Percentage"
   ]
  },
  {
   "cell_type": "code",
   "execution_count": 35,
   "metadata": {},
   "outputs": [
    {
     "name": "stdout",
     "output_type": "stream",
     "text": [
      "             Return_MS  Return_Citi  Return_JPM  Return_GS\n",
      "Return_MS     0.002509     0.001695    0.001241   0.001392\n",
      "Return_Citi   0.001695     0.003114    0.001531   0.001213\n",
      "Return_JPM    0.001241     0.001531    0.001495   0.000967\n",
      "Return_GS     0.001392     0.001213    0.000967   0.001184\n"
     ]
    }
   ],
   "source": [
    "print(covar)"
   ]
  },
  {
   "cell_type": "code",
   "execution_count": 36,
   "metadata": {},
   "outputs": [],
   "source": [
    "# Annualize the covariance using 252 trading days per year\n",
    "covar_ann = covar*252"
   ]
  },
  {
   "cell_type": "code",
   "execution_count": 37,
   "metadata": {},
   "outputs": [
    {
     "name": "stdout",
     "output_type": "stream",
     "text": [
      "             Return_MS  Return_Citi  Return_JPM  Return_GS\n",
      "Return_MS     0.632212     0.427139    0.312773   0.350865\n",
      "Return_Citi   0.427139     0.784763    0.385937   0.305634\n",
      "Return_JPM    0.312773     0.385937    0.376631   0.243584\n",
      "Return_GS     0.350865     0.305634    0.243584   0.298430\n"
     ]
    }
   ],
   "source": [
    "print(covar_ann)"
   ]
  },
  {
   "cell_type": "code",
   "execution_count": 38,
   "metadata": {},
   "outputs": [],
   "source": [
    "portfolio_variance = np.transpose(w)@covar_ann@w"
   ]
  },
  {
   "cell_type": "code",
   "execution_count": 39,
   "metadata": {},
   "outputs": [],
   "source": [
    "portfolio_volatility = np.sqrt(portfolio_variance)"
   ]
  },
  {
   "cell_type": "code",
   "execution_count": 40,
   "metadata": {},
   "outputs": [
    {
     "name": "stdout",
     "output_type": "stream",
     "text": [
      "0.6196722286680826\n"
     ]
    }
   ],
   "source": [
    "print(portfolio_volatility)"
   ]
  },
  {
   "cell_type": "code",
   "execution_count": 41,
   "metadata": {},
   "outputs": [],
   "source": [
    "# Portfolio has 61% volatilily"
   ]
  },
  {
   "cell_type": "code",
   "execution_count": 42,
   "metadata": {},
   "outputs": [],
   "source": [
    "#The volatility of a portfolio of stocks is a measure of how wildly the total value of all the stocks in that portfolio\n",
    "# appreciates or declines."
   ]
  },
  {
   "cell_type": "markdown",
   "metadata": {},
   "source": [
    "# Rolling Volatility"
   ]
  },
  {
   "cell_type": "code",
   "execution_count": 43,
   "metadata": {},
   "outputs": [],
   "source": [
    "windowed = df.rolling(30)"
   ]
  },
  {
   "cell_type": "code",
   "execution_count": 44,
   "metadata": {},
   "outputs": [],
   "source": [
    "volatility = windowed.std()*np.sqrt(252)"
   ]
  },
  {
   "cell_type": "code",
   "execution_count": 45,
   "metadata": {},
   "outputs": [
    {
     "data": {
      "text/plain": [
       "Text(0, 0.5, 'Annualized Volatility, 30-day Window')"
      ]
     },
     "execution_count": 45,
     "metadata": {},
     "output_type": "execute_result"
    },
    {
     "data": {
      "image/png": "[encoded data removed]",
      "text/plain": [
       "<Figure size 432x288 with 1 Axes>"
      ]
     },
     "metadata": {
      "needs_background": "light"
     },
     "output_type": "display_data"
    }
   ],
   "source": [
    "volatility.plot(color = 'green').set_ylabel(\"Annualized Volatility, 30-day Window\")"
   ]
  },
  {
   "cell_type": "code",
   "execution_count": 46,
   "metadata": {},
   "outputs": [
    {
     "data": {
      "text/html": [
       "<div>\n",
       "<style scoped>\n",
       "    .dataframe tbody tr th:only-of-type {\n",
       "        vertical-align: middle;\n",
       "    }\n",
       "\n",
       "    .dataframe tbody tr th {\n",
       "        vertical-align: top;\n",
       "    }\n",
       "\n",
       "    .dataframe thead th {\n",
       "        text-align: right;\n",
       "    }\n",
       "</style>\n",
       "<table border=\"1\" class=\"dataframe\">\n",
       "  <thead>\n",
       "    <tr style=\"text-align: right;\">\n",
       "      <th></th>\n",
       "      <th>returns</th>\n",
       "    </tr>\n",
       "    <tr>\n",
       "      <th>Date</th>\n",
       "      <th></th>\n",
       "    </tr>\n",
       "  </thead>\n",
       "  <tbody>\n",
       "    <tr>\n",
       "      <th>2007-03-01</th>\n",
       "      <td>NaN</td>\n",
       "    </tr>\n",
       "    <tr>\n",
       "      <th>2007-04-01</th>\n",
       "      <td>-0.001691</td>\n",
       "    </tr>\n",
       "    <tr>\n",
       "      <th>2007-05-01</th>\n",
       "      <td>-0.006378</td>\n",
       "    </tr>\n",
       "    <tr>\n",
       "      <th>2007-08-01</th>\n",
       "      <td>0.009431</td>\n",
       "    </tr>\n",
       "    <tr>\n",
       "      <th>2007-09-01</th>\n",
       "      <td>-0.003390</td>\n",
       "    </tr>\n",
       "    <tr>\n",
       "      <th>2007-10-01</th>\n",
       "      <td>0.005950</td>\n",
       "    </tr>\n",
       "    <tr>\n",
       "      <th>2007-11-01</th>\n",
       "      <td>0.008202</td>\n",
       "    </tr>\n",
       "    <tr>\n",
       "      <th>2007-12-01</th>\n",
       "      <td>0.003266</td>\n",
       "    </tr>\n",
       "    <tr>\n",
       "      <th>2007-01-16</th>\n",
       "      <td>0.002638</td>\n",
       "    </tr>\n",
       "    <tr>\n",
       "      <th>2007-01-17</th>\n",
       "      <td>-0.002653</td>\n",
       "    </tr>\n",
       "  </tbody>\n",
       "</table>\n",
       "</div>"
      ],
      "text/plain": [
       "             returns\n",
       "Date                \n",
       "2007-03-01       NaN\n",
       "2007-04-01 -0.001691\n",
       "2007-05-01 -0.006378\n",
       "2007-08-01  0.009431\n",
       "2007-09-01 -0.003390\n",
       "2007-10-01  0.005950\n",
       "2007-11-01  0.008202\n",
       "2007-12-01  0.003266\n",
       "2007-01-16  0.002638\n",
       "2007-01-17 -0.002653"
      ]
     },
     "execution_count": 46,
     "metadata": {},
     "output_type": "execute_result"
    }
   ],
   "source": [
    "df.head(10)"
   ]
  },
  {
   "cell_type": "markdown",
   "metadata": {},
   "source": [
    "# Risk Factors"
   ]
  },
  {
   "cell_type": "markdown",
   "metadata": {},
   "source": [
    "### Variables or events that drive portfolio return and volatility"
   ]
  },
  {
   "cell_type": "code",
   "execution_count": 47,
   "metadata": {},
   "outputs": [],
   "source": [
    "# Two types of risk factors are:\n",
    "#     1. Systematic Risk\n",
    "#     2. Idisyncratic Risk\n",
    "# # Systematic Risk\n",
    "# Systematic risk is inherent to the market as a whole, reflecting the impact of economic, geo-political and financial factors.\n",
    "# This type of risk is distinguished from unsystematic risk, which impacts a specific industry or security.\n",
    "# Investors can somewhat mitigate the impact of systematic risk by building a diversified portfolio.\n",
    "# Ex: interest rate changes, inflation, recessions, and wars, among other major changes.\n",
    "    \n",
    "# # Idiosyncratic Risk\n",
    "# Idiosyncratic risk refers to the inherent factors that can negatively impact individual securities or a very specific group of assets.\n",
    "# The opposite of Idiosyncratic risk is a systematic risk, which refers to broader trends that impact the overall financial system or a very broad market.\n",
    "# Idiosyncratic risk can generally be mitigated in an investment portfolio through the use of diversification\n",
    "# Idiosyncratic risk is a type of investment risk that is endemic to an individual asset (like a particular company's stock),\n",
    "# or a group of assets (like a particular sector's stocks), or in some cases, a very specific asset class (like collateralized mortgage obligations). \n",
    "\n",
    "# Idiosyncratic Risk vs. Systematic Risk\n",
    "# While idiosyncratic risk is, by definition, irregular and unpredictable, studying a company or industry can help an \n",
    "# investor to identify and anticipate—in a general way—its idiosyncratic risks. Idiosyncratic risk is also highly individual, \n",
    "# even unique in some cases. It can, therefore, be substantially mitigated or eliminated from a portfolio by using adequate \n",
    "# diversification. Proper asset allocation, along with hedging strategies, can minimize its negative impact on an investment \n",
    "# portfolio by diversification or hedging.\n",
    "# In contrast, systematic risk cannot be mitigated just by adding more assets to an investment portfolio. This market risk \n",
    "# cannot be eliminated by adding stocks of various sectors to one's holdings. These broader types of risk reflect the \n",
    "# macroeconomic factors that affect not just a single asset but other assets like it and greater markets and economies as well."
   ]
  },
  {
   "cell_type": "markdown",
   "metadata": {},
   "source": [
    "### Factor Models"
   ]
  },
  {
   "cell_type": "code",
   "execution_count": 48,
   "metadata": {},
   "outputs": [],
   "source": [
    "# Factor models assess on which risk factors asset returns or volatility are mostly dependent.\n",
    "# We can model theses factors using :\n",
    "#     1. Ordinary Least Square - Regression Model - \n",
    "#        dependent variable - Asset returns/volatility\n",
    "#        independent variable - risk factors\n",
    "#     2. Fama French Model - combination of market risk and idiosyncratic risk (firm size and value)"
   ]
  },
  {
   "cell_type": "code",
   "execution_count": 49,
   "metadata": {},
   "outputs": [],
   "source": [
    "# Considering MBS(Mortgage Backed Security) 90 days mortgage Delinquency as a risk factor which caused the bankcruptcy of\n",
    "# Lehman Brothers. Risk factor delinquency rate was highly correlated with the returns."
   ]
  },
  {
   "cell_type": "code",
   "execution_count": 50,
   "metadata": {},
   "outputs": [],
   "source": [
    "# Risk factor models often rely upon data that is of different frequencies. A typical example is when using quarterly\n",
    "# macroeconomic data, such as prices, unemployment rates.\n",
    "# here also delinquency rate is taken for 90 days (1 Q) so sampling returns for quarter"
   ]
  },
  {
   "cell_type": "code",
   "execution_count": 51,
   "metadata": {},
   "outputs": [],
   "source": [
    "returns_avg = df.resample('Q').mean()"
   ]
  },
  {
   "cell_type": "code",
   "execution_count": 52,
   "metadata": {},
   "outputs": [
    {
     "data": {
      "text/html": [
       "<div>\n",
       "<style scoped>\n",
       "    .dataframe tbody tr th:only-of-type {\n",
       "        vertical-align: middle;\n",
       "    }\n",
       "\n",
       "    .dataframe tbody tr th {\n",
       "        vertical-align: top;\n",
       "    }\n",
       "\n",
       "    .dataframe thead th {\n",
       "        text-align: right;\n",
       "    }\n",
       "</style>\n",
       "<table border=\"1\" class=\"dataframe\">\n",
       "  <thead>\n",
       "    <tr style=\"text-align: right;\">\n",
       "      <th></th>\n",
       "      <th>returns</th>\n",
       "    </tr>\n",
       "    <tr>\n",
       "      <th>Date</th>\n",
       "      <th></th>\n",
       "    </tr>\n",
       "  </thead>\n",
       "  <tbody>\n",
       "    <tr>\n",
       "      <th>2009-12-31</th>\n",
       "      <td>-0.000281</td>\n",
       "    </tr>\n",
       "    <tr>\n",
       "      <th>2010-03-31</th>\n",
       "      <td>0.002696</td>\n",
       "    </tr>\n",
       "    <tr>\n",
       "      <th>2010-06-30</th>\n",
       "      <td>-0.001822</td>\n",
       "    </tr>\n",
       "    <tr>\n",
       "      <th>2010-09-30</th>\n",
       "      <td>0.000906</td>\n",
       "    </tr>\n",
       "    <tr>\n",
       "      <th>2010-12-31</th>\n",
       "      <td>-0.000570</td>\n",
       "    </tr>\n",
       "  </tbody>\n",
       "</table>\n",
       "</div>"
      ],
      "text/plain": [
       "             returns\n",
       "Date                \n",
       "2009-12-31 -0.000281\n",
       "2010-03-31  0.002696\n",
       "2010-06-30 -0.001822\n",
       "2010-09-30  0.000906\n",
       "2010-12-31 -0.000570"
      ]
     },
     "execution_count": 52,
     "metadata": {},
     "output_type": "execute_result"
    }
   ],
   "source": [
    "returns_avg.tail()"
   ]
  },
  {
   "cell_type": "code",
   "execution_count": 53,
   "metadata": {},
   "outputs": [
    {
     "data": {
      "text/html": [
       "<div>\n",
       "<style scoped>\n",
       "    .dataframe tbody tr th:only-of-type {\n",
       "        vertical-align: middle;\n",
       "    }\n",
       "\n",
       "    .dataframe tbody tr th {\n",
       "        vertical-align: top;\n",
       "    }\n",
       "\n",
       "    .dataframe thead th {\n",
       "        text-align: right;\n",
       "    }\n",
       "</style>\n",
       "<table border=\"1\" class=\"dataframe\">\n",
       "  <thead>\n",
       "    <tr style=\"text-align: right;\">\n",
       "      <th></th>\n",
       "      <th>returns</th>\n",
       "    </tr>\n",
       "    <tr>\n",
       "      <th>Date</th>\n",
       "      <th></th>\n",
       "    </tr>\n",
       "  </thead>\n",
       "  <tbody>\n",
       "    <tr>\n",
       "      <th>2007-03-31</th>\n",
       "      <td>-0.062338</td>\n",
       "    </tr>\n",
       "    <tr>\n",
       "      <th>2007-06-30</th>\n",
       "      <td>-0.041614</td>\n",
       "    </tr>\n",
       "    <tr>\n",
       "      <th>2007-09-30</th>\n",
       "      <td>-0.055136</td>\n",
       "    </tr>\n",
       "    <tr>\n",
       "      <th>2007-12-31</th>\n",
       "      <td>-0.055454</td>\n",
       "    </tr>\n",
       "    <tr>\n",
       "      <th>2008-03-31</th>\n",
       "      <td>-0.222164</td>\n",
       "    </tr>\n",
       "  </tbody>\n",
       "</table>\n",
       "</div>"
      ],
      "text/plain": [
       "             returns\n",
       "Date                \n",
       "2007-03-31 -0.062338\n",
       "2007-06-30 -0.041614\n",
       "2007-09-30 -0.055136\n",
       "2007-12-31 -0.055454\n",
       "2008-03-31 -0.222164"
      ]
     },
     "execution_count": 53,
     "metadata": {},
     "output_type": "execute_result"
    }
   ],
   "source": [
    "# Now convert daily returns to weekly minimum returns\n",
    "returns_min = df.resample('Q').min()\n",
    "returns_min.head()"
   ]
  },
  {
   "cell_type": "code",
   "execution_count": 54,
   "metadata": {},
   "outputs": [],
   "source": [
    "delin = pd.read_csv(\"Delinq_rate.csv\")"
   ]
  },
  {
   "cell_type": "code",
   "execution_count": 55,
   "metadata": {},
   "outputs": [
    {
     "data": {
      "text/html": [
       "<div>\n",
       "<style scoped>\n",
       "    .dataframe tbody tr th:only-of-type {\n",
       "        vertical-align: middle;\n",
       "    }\n",
       "\n",
       "    .dataframe tbody tr th {\n",
       "        vertical-align: top;\n",
       "    }\n",
       "\n",
       "    .dataframe thead th {\n",
       "        text-align: right;\n",
       "    }\n",
       "</style>\n",
       "<table border=\"1\" class=\"dataframe\">\n",
       "  <thead>\n",
       "    <tr style=\"text-align: right;\">\n",
       "      <th></th>\n",
       "      <th>returns</th>\n",
       "    </tr>\n",
       "  </thead>\n",
       "  <tbody>\n",
       "    <tr>\n",
       "      <th>count</th>\n",
       "      <td>16.000000</td>\n",
       "    </tr>\n",
       "    <tr>\n",
       "      <th>mean</th>\n",
       "      <td>-0.000972</td>\n",
       "    </tr>\n",
       "    <tr>\n",
       "      <th>std</th>\n",
       "      <td>0.003676</td>\n",
       "    </tr>\n",
       "    <tr>\n",
       "      <th>min</th>\n",
       "      <td>-0.007180</td>\n",
       "    </tr>\n",
       "    <tr>\n",
       "      <th>25%</th>\n",
       "      <td>-0.002282</td>\n",
       "    </tr>\n",
       "    <tr>\n",
       "      <th>50%</th>\n",
       "      <td>-0.000641</td>\n",
       "    </tr>\n",
       "    <tr>\n",
       "      <th>75%</th>\n",
       "      <td>0.000821</td>\n",
       "    </tr>\n",
       "    <tr>\n",
       "      <th>max</th>\n",
       "      <td>0.005121</td>\n",
       "    </tr>\n",
       "  </tbody>\n",
       "</table>\n",
       "</div>"
      ],
      "text/plain": [
       "         returns\n",
       "count  16.000000\n",
       "mean   -0.000972\n",
       "std     0.003676\n",
       "min    -0.007180\n",
       "25%    -0.002282\n",
       "50%    -0.000641\n",
       "75%     0.000821\n",
       "max     0.005121"
      ]
     },
     "execution_count": 55,
     "metadata": {},
     "output_type": "execute_result"
    }
   ],
   "source": [
    "returns_avg.describe()"
   ]
  },
  {
   "cell_type": "code",
   "execution_count": 56,
   "metadata": {},
   "outputs": [
    {
     "data": {
      "text/html": [
       "<div>\n",
       "<style scoped>\n",
       "    .dataframe tbody tr th:only-of-type {\n",
       "        vertical-align: middle;\n",
       "    }\n",
       "\n",
       "    .dataframe tbody tr th {\n",
       "        vertical-align: top;\n",
       "    }\n",
       "\n",
       "    .dataframe thead th {\n",
       "        text-align: right;\n",
       "    }\n",
       "</style>\n",
       "<table border=\"1\" class=\"dataframe\">\n",
       "  <thead>\n",
       "    <tr style=\"text-align: right;\">\n",
       "      <th></th>\n",
       "      <th>Delinq_Rate</th>\n",
       "    </tr>\n",
       "  </thead>\n",
       "  <tbody>\n",
       "    <tr>\n",
       "      <th>count</th>\n",
       "      <td>16.000000</td>\n",
       "    </tr>\n",
       "    <tr>\n",
       "      <th>mean</th>\n",
       "      <td>0.073975</td>\n",
       "    </tr>\n",
       "    <tr>\n",
       "      <th>std</th>\n",
       "      <td>0.033431</td>\n",
       "    </tr>\n",
       "    <tr>\n",
       "      <th>min</th>\n",
       "      <td>0.023100</td>\n",
       "    </tr>\n",
       "    <tr>\n",
       "      <th>25%</th>\n",
       "      <td>0.042025</td>\n",
       "    </tr>\n",
       "    <tr>\n",
       "      <th>50%</th>\n",
       "      <td>0.082700</td>\n",
       "    </tr>\n",
       "    <tr>\n",
       "      <th>75%</th>\n",
       "      <td>0.103525</td>\n",
       "    </tr>\n",
       "    <tr>\n",
       "      <th>max</th>\n",
       "      <td>0.115400</td>\n",
       "    </tr>\n",
       "  </tbody>\n",
       "</table>\n",
       "</div>"
      ],
      "text/plain": [
       "       Delinq_Rate\n",
       "count    16.000000\n",
       "mean      0.073975\n",
       "std       0.033431\n",
       "min       0.023100\n",
       "25%       0.042025\n",
       "50%       0.082700\n",
       "75%       0.103525\n",
       "max       0.115400"
      ]
     },
     "execution_count": 56,
     "metadata": {},
     "output_type": "execute_result"
    }
   ],
   "source": [
    "delin.describe()"
   ]
  },
  {
   "cell_type": "code",
   "execution_count": 57,
   "metadata": {},
   "outputs": [
    {
     "data": {
      "text/plain": [
       "Text(0, 0.5, 'Delinquency rate, decimal %')"
      ]
     },
     "execution_count": 57,
     "metadata": {},
     "output_type": "execute_result"
    },
    {
     "data": {
      "image/png": "[encoded data removed]",
      "text/plain": [
       "<Figure size 432x288 with 1 Axes>"
      ]
     },
     "metadata": {
      "needs_background": "light"
     },
     "output_type": "display_data"
    }
   ],
   "source": [
    "plt.scatter(returns_avg,delin['Delinq_Rate'])\n",
    "plt.xlabel(\"Quarterly Average Return\")\n",
    "plt.ylabel(\"Delinquency rate, decimal %\")"
   ]
  },
  {
   "cell_type": "code",
   "execution_count": 58,
   "metadata": {},
   "outputs": [
    {
     "data": {
      "text/plain": [
       "Text(0, 0.5, 'Delinquency rate, decimal %')"
      ]
     },
     "execution_count": 58,
     "metadata": {},
     "output_type": "execute_result"
    },
    {
     "data": {
      "image/png": "[encoded data removed]",
      "text/plain": [
       "<Figure size 432x288 with 1 Axes>"
      ]
     },
     "metadata": {
      "needs_background": "light"
     },
     "output_type": "display_data"
    }
   ],
   "source": [
    "plt.scatter(returns_min,delin['Delinq_Rate'])\n",
    "plt.xlabel(\"Quarterly Min Return\")\n",
    "plt.ylabel(\"Delinquency rate, decimal %\")"
   ]
  },
  {
   "cell_type": "code",
   "execution_count": 59,
   "metadata": {},
   "outputs": [],
   "source": [
    "# # Initial assessment indicates that there is little correlation between average returns and mortgage delinquencies, \n",
    "# but a stronger negative correlation exists between minimum returns and delinquency. In the following exercises we'll\n",
    "# quantify this using least-squares regression."
   ]
  },
  {
   "cell_type": "code",
   "execution_count": 60,
   "metadata": {},
   "outputs": [
    {
     "data": {
      "text/html": [
       "<div>\n",
       "<style scoped>\n",
       "    .dataframe tbody tr th:only-of-type {\n",
       "        vertical-align: middle;\n",
       "    }\n",
       "\n",
       "    .dataframe tbody tr th {\n",
       "        vertical-align: top;\n",
       "    }\n",
       "\n",
       "    .dataframe thead th {\n",
       "        text-align: right;\n",
       "    }\n",
       "</style>\n",
       "<table border=\"1\" class=\"dataframe\">\n",
       "  <thead>\n",
       "    <tr style=\"text-align: right;\">\n",
       "      <th></th>\n",
       "      <th>Date</th>\n",
       "      <th>Delinq_Rate</th>\n",
       "    </tr>\n",
       "  </thead>\n",
       "  <tbody>\n",
       "    <tr>\n",
       "      <th>0</th>\n",
       "      <td>31-03-2007</td>\n",
       "      <td>0.0231</td>\n",
       "    </tr>\n",
       "    <tr>\n",
       "      <th>1</th>\n",
       "      <td>30-06-2007</td>\n",
       "      <td>0.0271</td>\n",
       "    </tr>\n",
       "    <tr>\n",
       "      <th>2</th>\n",
       "      <td>30-09-2007</td>\n",
       "      <td>0.0309</td>\n",
       "    </tr>\n",
       "    <tr>\n",
       "      <th>3</th>\n",
       "      <td>31-12-2007</td>\n",
       "      <td>0.0367</td>\n",
       "    </tr>\n",
       "    <tr>\n",
       "      <th>4</th>\n",
       "      <td>31-03-2008</td>\n",
       "      <td>0.0438</td>\n",
       "    </tr>\n",
       "  </tbody>\n",
       "</table>\n",
       "</div>"
      ],
      "text/plain": [
       "         Date  Delinq_Rate\n",
       "0  31-03-2007       0.0231\n",
       "1  30-06-2007       0.0271\n",
       "2  30-09-2007       0.0309\n",
       "3  31-12-2007       0.0367\n",
       "4  31-03-2008       0.0438"
      ]
     },
     "execution_count": 60,
     "metadata": {},
     "output_type": "execute_result"
    }
   ],
   "source": [
    "delin.head()"
   ]
  },
  {
   "cell_type": "code",
   "execution_count": 61,
   "metadata": {},
   "outputs": [],
   "source": [
    "delin['Date'] = pd.to_datetime(delin['Date'])\n",
    "delin = delin.set_index('Date')"
   ]
  },
  {
   "cell_type": "code",
   "execution_count": 62,
   "metadata": {},
   "outputs": [
    {
     "data": {
      "text/html": [
       "<div>\n",
       "<style scoped>\n",
       "    .dataframe tbody tr th:only-of-type {\n",
       "        vertical-align: middle;\n",
       "    }\n",
       "\n",
       "    .dataframe tbody tr th {\n",
       "        vertical-align: top;\n",
       "    }\n",
       "\n",
       "    .dataframe thead th {\n",
       "        text-align: right;\n",
       "    }\n",
       "</style>\n",
       "<table border=\"1\" class=\"dataframe\">\n",
       "  <thead>\n",
       "    <tr style=\"text-align: right;\">\n",
       "      <th></th>\n",
       "      <th>Delinq_Rate</th>\n",
       "    </tr>\n",
       "    <tr>\n",
       "      <th>Date</th>\n",
       "      <th></th>\n",
       "    </tr>\n",
       "  </thead>\n",
       "  <tbody>\n",
       "    <tr>\n",
       "      <th>2007-03-31</th>\n",
       "      <td>0.0231</td>\n",
       "    </tr>\n",
       "    <tr>\n",
       "      <th>2007-06-30</th>\n",
       "      <td>0.0271</td>\n",
       "    </tr>\n",
       "    <tr>\n",
       "      <th>2007-09-30</th>\n",
       "      <td>0.0309</td>\n",
       "    </tr>\n",
       "    <tr>\n",
       "      <th>2007-12-31</th>\n",
       "      <td>0.0367</td>\n",
       "    </tr>\n",
       "    <tr>\n",
       "      <th>2008-03-31</th>\n",
       "      <td>0.0438</td>\n",
       "    </tr>\n",
       "  </tbody>\n",
       "</table>\n",
       "</div>"
      ],
      "text/plain": [
       "            Delinq_Rate\n",
       "Date                   \n",
       "2007-03-31       0.0231\n",
       "2007-06-30       0.0271\n",
       "2007-09-30       0.0309\n",
       "2007-12-31       0.0367\n",
       "2008-03-31       0.0438"
      ]
     },
     "execution_count": 62,
     "metadata": {},
     "output_type": "execute_result"
    }
   ],
   "source": [
    "delin.head()"
   ]
  },
  {
   "cell_type": "code",
   "execution_count": 63,
   "metadata": {},
   "outputs": [],
   "source": [
    "# Crisis Factor Model (OLS) LEFT to study\n",
    "import statsmodels.api as sm\n"
   ]
  },
  {
   "cell_type": "code",
   "execution_count": 64,
   "metadata": {},
   "outputs": [],
   "source": [
    "regression = sm.OLS(returns_avg,delin['Delinq_Rate']).fit()"
   ]
  },
  {
   "cell_type": "code",
   "execution_count": 65,
   "metadata": {},
   "outputs": [
    {
     "name": "stdout",
     "output_type": "stream",
     "text": [
      "                                 OLS Regression Results                                \n",
      "=======================================================================================\n",
      "Dep. Variable:                returns   R-squared (uncentered):                   0.015\n",
      "Model:                            OLS   Adj. R-squared (uncentered):             -0.051\n",
      "Method:                 Least Squares   F-statistic:                             0.2271\n",
      "Date:                Thu, 04 Jun 2020   Prob (F-statistic):                       0.641\n",
      "Time:                        12:06:03   Log-Likelihood:                          67.052\n",
      "No. Observations:                  16   AIC:                                     -132.1\n",
      "Df Residuals:                      15   BIC:                                     -131.3\n",
      "Df Model:                           1                                                  \n",
      "Covariance Type:            nonrobust                                                  \n",
      "===============================================================================\n",
      "                  coef    std err          t      P>|t|      [0.025      0.975]\n",
      "-------------------------------------------------------------------------------\n",
      "Delinq_Rate    -0.0056      0.012     -0.476      0.641      -0.031       0.019\n",
      "==============================================================================\n",
      "Omnibus:                        0.056   Durbin-Watson:                   1.468\n",
      "Prob(Omnibus):                  0.973   Jarque-Bera (JB):                0.252\n",
      "Skew:                          -0.099   Prob(JB):                        0.882\n",
      "Kurtosis:                       2.417   Cond. No.                         1.00\n",
      "==============================================================================\n",
      "\n",
      "Warnings:\n",
      "[1] Standard Errors assume that the covariance matrix of the errors is correctly specified.\n"
     ]
    },
    {
     "name": "stderr",
     "output_type": "stream",
     "text": [
      "C:\\Users\\TAN\\Anaconda3\\lib\\site-packages\\scipy\\stats\\stats.py:1535: UserWarning:\n",
      "\n",
      "kurtosistest only valid for n>=20 ... continuing anyway, n=16\n",
      "\n"
     ]
    }
   ],
   "source": [
    "print(regression.summary())"
   ]
  },
  {
   "cell_type": "code",
   "execution_count": 66,
   "metadata": {},
   "outputs": [],
   "source": [
    "regression_qmin = sm.OLS(returns_min,delin['Delinq_Rate']).fit()"
   ]
  },
  {
   "cell_type": "code",
   "execution_count": 67,
   "metadata": {},
   "outputs": [
    {
     "name": "stdout",
     "output_type": "stream",
     "text": [
      "                                 OLS Regression Results                                \n",
      "=======================================================================================\n",
      "Dep. Variable:                returns   R-squared (uncentered):                   0.594\n",
      "Model:                            OLS   Adj. R-squared (uncentered):              0.567\n",
      "Method:                 Least Squares   F-statistic:                              21.92\n",
      "Date:                Thu, 04 Jun 2020   Prob (F-statistic):                    0.000295\n",
      "Time:                        12:06:03   Log-Likelihood:                          19.097\n",
      "No. Observations:                  16   AIC:                                     -36.19\n",
      "Df Residuals:                      15   BIC:                                     -35.42\n",
      "Df Model:                           1                                                  \n",
      "Covariance Type:            nonrobust                                                  \n",
      "===============================================================================\n",
      "                  coef    std err          t      P>|t|      [0.025      0.975]\n",
      "-------------------------------------------------------------------------------\n",
      "Delinq_Rate    -1.0982      0.235     -4.682      0.000      -1.598      -0.598\n",
      "==============================================================================\n",
      "Omnibus:                        0.853   Durbin-Watson:                   0.828\n",
      "Prob(Omnibus):                  0.653   Jarque-Bera (JB):                0.718\n",
      "Skew:                          -0.452   Prob(JB):                        0.698\n",
      "Kurtosis:                       2.489   Cond. No.                         1.00\n",
      "==============================================================================\n",
      "\n",
      "Warnings:\n",
      "[1] Standard Errors assume that the covariance matrix of the errors is correctly specified.\n"
     ]
    }
   ],
   "source": [
    "print(regression_qmin.summary())"
   ]
  },
  {
   "cell_type": "code",
   "execution_count": 68,
   "metadata": {},
   "outputs": [
    {
     "data": {
      "text/html": [
       "<div>\n",
       "<style scoped>\n",
       "    .dataframe tbody tr th:only-of-type {\n",
       "        vertical-align: middle;\n",
       "    }\n",
       "\n",
       "    .dataframe tbody tr th {\n",
       "        vertical-align: top;\n",
       "    }\n",
       "\n",
       "    .dataframe thead th {\n",
       "        text-align: right;\n",
       "    }\n",
       "</style>\n",
       "<table border=\"1\" class=\"dataframe\">\n",
       "  <thead>\n",
       "    <tr style=\"text-align: right;\">\n",
       "      <th></th>\n",
       "      <th>returns</th>\n",
       "    </tr>\n",
       "    <tr>\n",
       "      <th>Date</th>\n",
       "      <th></th>\n",
       "    </tr>\n",
       "  </thead>\n",
       "  <tbody>\n",
       "    <tr>\n",
       "      <th>2007-03-31</th>\n",
       "      <td>0.017870</td>\n",
       "    </tr>\n",
       "    <tr>\n",
       "      <th>2007-06-30</th>\n",
       "      <td>0.014345</td>\n",
       "    </tr>\n",
       "    <tr>\n",
       "      <th>2007-09-30</th>\n",
       "      <td>0.019091</td>\n",
       "    </tr>\n",
       "    <tr>\n",
       "      <th>2007-12-31</th>\n",
       "      <td>0.021575</td>\n",
       "    </tr>\n",
       "    <tr>\n",
       "      <th>2008-03-31</th>\n",
       "      <td>0.046946</td>\n",
       "    </tr>\n",
       "  </tbody>\n",
       "</table>\n",
       "</div>"
      ],
      "text/plain": [
       "             returns\n",
       "Date                \n",
       "2007-03-31  0.017870\n",
       "2007-06-30  0.014345\n",
       "2007-09-30  0.019091\n",
       "2007-12-31  0.021575\n",
       "2008-03-31  0.046946"
      ]
     },
     "execution_count": 68,
     "metadata": {},
     "output_type": "execute_result"
    }
   ],
   "source": [
    "# Now convert daily returns to weekly minimum returns\n",
    "returns_vol = df.resample('Q').std()\n",
    "returns_vol.head()"
   ]
  },
  {
   "cell_type": "code",
   "execution_count": 69,
   "metadata": {},
   "outputs": [],
   "source": [
    "regression_vol = sm.OLS(returns_vol,delin['Delinq_Rate']).fit()"
   ]
  },
  {
   "cell_type": "code",
   "execution_count": 70,
   "metadata": {},
   "outputs": [
    {
     "name": "stdout",
     "output_type": "stream",
     "text": [
      "                                 OLS Regression Results                                \n",
      "=======================================================================================\n",
      "Dep. Variable:                returns   R-squared (uncentered):                   0.657\n",
      "Model:                            OLS   Adj. R-squared (uncentered):              0.634\n",
      "Method:                 Least Squares   F-statistic:                              28.68\n",
      "Date:                Thu, 04 Jun 2020   Prob (F-statistic):                    8.01e-05\n",
      "Time:                        12:06:08   Log-Likelihood:                          37.712\n",
      "No. Observations:                  16   AIC:                                     -73.42\n",
      "Df Residuals:                      15   BIC:                                     -72.65\n",
      "Df Model:                           1                                                  \n",
      "Covariance Type:            nonrobust                                                  \n",
      "===============================================================================\n",
      "                  coef    std err          t      P>|t|      [0.025      0.975]\n",
      "-------------------------------------------------------------------------------\n",
      "Delinq_Rate     0.3925      0.073      5.356      0.000       0.236       0.549\n",
      "==============================================================================\n",
      "Omnibus:                        1.168   Durbin-Watson:                   0.517\n",
      "Prob(Omnibus):                  0.558   Jarque-Bera (JB):                0.832\n",
      "Skew:                           0.215   Prob(JB):                        0.660\n",
      "Kurtosis:                       1.969   Cond. No.                         1.00\n",
      "==============================================================================\n",
      "\n",
      "Warnings:\n",
      "[1] Standard Errors assume that the covariance matrix of the errors is correctly specified.\n"
     ]
    }
   ],
   "source": [
    "print(regression_vol.summary())"
   ]
  },
  {
   "cell_type": "markdown",
   "metadata": {},
   "source": [
    "### As seen from the regressions, mortgage delinquencies are acting as a systematic risk factor for both minimum quarterly returns and average volatility of returns, but not for average quarterly returns. The R-squared goodness of fit isn't high in any case, but a model with more factors would likely generate greater explanatory power."
   ]
  },
  {
   "cell_type": "code",
   "execution_count": 71,
   "metadata": {},
   "outputs": [],
   "source": [
    "##R-Squared is a statistical measure of fit that indicates how much variation of a dependent variable is explained by the \n",
    "##independent variable(s) in a regression model."
   ]
  },
  {
   "cell_type": "markdown",
   "metadata": {},
   "source": [
    "# Modern Portfolio Theory"
   ]
  },
  {
   "cell_type": "markdown",
   "metadata": {},
   "source": [
    "### What maximum return an investor can expect as per given risk apetite calculated from the portfolio volatility\n",
    "### Import the mean_historical_return method"
   ]
  },
  {
   "cell_type": "markdown",
   "metadata": {},
   "source": [
    "### Eficient Portfolio -  portfolio with weights generating highest expected return for given level of risk"
   ]
  },
  {
   "cell_type": "markdown",
   "metadata": {},
   "source": [
    "### Efficient Frontier - locus of (risk,return) pairs created by efficient portfolio"
   ]
  },
  {
   "cell_type": "code",
   "execution_count": 72,
   "metadata": {},
   "outputs": [],
   "source": [
    "# pip install pyportfolioopt"
   ]
  },
  {
   "cell_type": "code",
   "execution_count": 73,
   "metadata": {},
   "outputs": [
    {
     "data": {
      "image/png": "[encoded data removed]",
      "text/plain": [
       "<Figure size 432x288 with 1 Axes>"
      ]
     },
     "metadata": {
      "needs_background": "light"
     },
     "output_type": "display_data"
    }
   ],
   "source": [
    "from pypfopt.expected_returns import mean_historical_return\n",
    "\n",
    "# Compute the annualized average historical return\n",
    "mean_returns = mean_historical_return(df4, frequency = 252)\n",
    "\n",
    "# Plot the annualized average historical return\n",
    "plt.plot(mean_returns, linestyle = 'None', marker = 'o')\n",
    "plt.show()"
   ]
  },
  {
   "cell_type": "code",
   "execution_count": 74,
   "metadata": {},
   "outputs": [
    {
     "data": {
      "text/plain": [
       "Close_MS      0.051932\n",
       "Close_Citi   -0.222364\n",
       "JPM_Close     0.156725\n",
       "GS_Close      0.104710\n",
       "dtype: float64"
      ]
     },
     "execution_count": 74,
     "metadata": {},
     "output_type": "execute_result"
    }
   ],
   "source": [
    "mean_returns.head()"
   ]
  },
  {
   "cell_type": "code",
   "execution_count": 75,
   "metadata": {},
   "outputs": [],
   "source": [
    "# The average historical return is usually available as a proxy for expected returns, but is not always accurate--a more \n",
    "# thorough estimate of expected returns requires an assumption about the return distribution, which we'll discuss in the context\n",
    "# of Loss Distributions later in the course."
   ]
  },
  {
   "cell_type": "code",
   "execution_count": 76,
   "metadata": {},
   "outputs": [
    {
     "data": {
      "text/html": [
       "<div>\n",
       "<style scoped>\n",
       "    .dataframe tbody tr th:only-of-type {\n",
       "        vertical-align: middle;\n",
       "    }\n",
       "\n",
       "    .dataframe tbody tr th {\n",
       "        vertical-align: top;\n",
       "    }\n",
       "\n",
       "    .dataframe thead th {\n",
       "        text-align: right;\n",
       "    }\n",
       "</style>\n",
       "<table border=\"1\" class=\"dataframe\">\n",
       "  <thead>\n",
       "    <tr style=\"text-align: right;\">\n",
       "      <th></th>\n",
       "      <th>Close_MS</th>\n",
       "      <th>Close_Citi</th>\n",
       "      <th>JPM_Close</th>\n",
       "      <th>GS_Close</th>\n",
       "    </tr>\n",
       "    <tr>\n",
       "      <th>Date</th>\n",
       "      <th></th>\n",
       "      <th></th>\n",
       "      <th></th>\n",
       "      <th></th>\n",
       "    </tr>\n",
       "  </thead>\n",
       "  <tbody>\n",
       "    <tr>\n",
       "      <th>2007-03-01</th>\n",
       "      <td>81.620003</td>\n",
       "      <td>552.500000</td>\n",
       "      <td>48.070000</td>\n",
       "      <td>200.720001</td>\n",
       "    </tr>\n",
       "    <tr>\n",
       "      <th>2007-04-01</th>\n",
       "      <td>81.910004</td>\n",
       "      <td>550.599976</td>\n",
       "      <td>48.189999</td>\n",
       "      <td>198.850006</td>\n",
       "    </tr>\n",
       "    <tr>\n",
       "      <th>2007-05-01</th>\n",
       "      <td>80.860001</td>\n",
       "      <td>547.700012</td>\n",
       "      <td>47.790001</td>\n",
       "      <td>199.050003</td>\n",
       "    </tr>\n",
       "    <tr>\n",
       "      <th>2007-08-01</th>\n",
       "      <td>81.349998</td>\n",
       "      <td>550.500000</td>\n",
       "      <td>47.950001</td>\n",
       "      <td>203.729996</td>\n",
       "    </tr>\n",
       "    <tr>\n",
       "      <th>2007-09-01</th>\n",
       "      <td>81.160004</td>\n",
       "      <td>545.700012</td>\n",
       "      <td>47.750000</td>\n",
       "      <td>204.080002</td>\n",
       "    </tr>\n",
       "    <tr>\n",
       "      <th>2007-10-01</th>\n",
       "      <td>81.570000</td>\n",
       "      <td>541.299988</td>\n",
       "      <td>48.099998</td>\n",
       "      <td>208.110001</td>\n",
       "    </tr>\n",
       "    <tr>\n",
       "      <th>2007-11-01</th>\n",
       "      <td>82.370003</td>\n",
       "      <td>541.700012</td>\n",
       "      <td>48.310001</td>\n",
       "      <td>211.880005</td>\n",
       "    </tr>\n",
       "    <tr>\n",
       "      <th>2007-12-01</th>\n",
       "      <td>82.860001</td>\n",
       "      <td>543.799988</td>\n",
       "      <td>47.990002</td>\n",
       "      <td>213.990005</td>\n",
       "    </tr>\n",
       "    <tr>\n",
       "      <th>2007-01-16</th>\n",
       "      <td>82.610001</td>\n",
       "      <td>547.700012</td>\n",
       "      <td>48.389999</td>\n",
       "      <td>213.589996</td>\n",
       "    </tr>\n",
       "    <tr>\n",
       "      <th>2007-01-17</th>\n",
       "      <td>82.379997</td>\n",
       "      <td>543.900024</td>\n",
       "      <td>48.430000</td>\n",
       "      <td>213.229996</td>\n",
       "    </tr>\n",
       "  </tbody>\n",
       "</table>\n",
       "</div>"
      ],
      "text/plain": [
       "             Close_MS  Close_Citi  JPM_Close    GS_Close\n",
       "Date                                                    \n",
       "2007-03-01  81.620003  552.500000  48.070000  200.720001\n",
       "2007-04-01  81.910004  550.599976  48.189999  198.850006\n",
       "2007-05-01  80.860001  547.700012  47.790001  199.050003\n",
       "2007-08-01  81.349998  550.500000  47.950001  203.729996\n",
       "2007-09-01  81.160004  545.700012  47.750000  204.080002\n",
       "2007-10-01  81.570000  541.299988  48.099998  208.110001\n",
       "2007-11-01  82.370003  541.700012  48.310001  211.880005\n",
       "2007-12-01  82.860001  543.799988  47.990002  213.990005\n",
       "2007-01-16  82.610001  547.700012  48.389999  213.589996\n",
       "2007-01-17  82.379997  543.900024  48.430000  213.229996"
      ]
     },
     "execution_count": 76,
     "metadata": {},
     "output_type": "execute_result"
    }
   ],
   "source": [
    "df4.head(10)"
   ]
  },
  {
   "cell_type": "code",
   "execution_count": 77,
   "metadata": {},
   "outputs": [],
   "source": [
    "# Import the CovarianceShrinkage object, it reduces/shrinks the errors/residuals while calculating the covariance matrix\n",
    "from pypfopt.risk_models import CovarianceShrinkage\n",
    "\n",
    "# Create the CovarianceShrinkage instance variable\n",
    "cs = CovarianceShrinkage(df4)"
   ]
  },
  {
   "cell_type": "code",
   "execution_count": 78,
   "metadata": {},
   "outputs": [
    {
     "name": "stdout",
     "output_type": "stream",
     "text": [
      "Sample Covariance Matrix\n",
      "             Close_MS  Close_Citi  JPM_Close  GS_Close\n",
      "Close_MS    0.717102    0.450956   0.319404  0.372737\n",
      "Close_Citi  0.450956    0.796039   0.398215  0.320531\n",
      "JPM_Close   0.319404    0.398215   0.384847  0.247412\n",
      "GS_Close    0.372737    0.320531   0.247412  0.304432 \n",
      "\n",
      "Efficient Covariance Matrix\n",
      "             Close_MS  Close_Citi  JPM_Close  GS_Close\n",
      "Close_MS    0.707324    0.425953   0.301695  0.352071\n",
      "Close_Citi  0.425953    0.781884   0.376136  0.302760\n",
      "JPM_Close   0.301695    0.376136   0.393490  0.233695\n",
      "GS_Close    0.352071    0.302760   0.233695  0.317534 \n",
      "\n"
     ]
    }
   ],
   "source": [
    "# Difference in calculating covariance matrix through covariance shrinkage and through sample cov() method\n",
    "# Compute the sample covariance matrix of returns\n",
    "sample_cov = df4.pct_change().cov() * 252\n",
    "\n",
    "# Compute the efficient covariance matrix of returns\n",
    "e_cov = cs.ledoit_wolf()\n",
    "\n",
    "# Display both the sample covariance_matrix and the efficient e_cov estimate\n",
    "print(\"Sample Covariance Matrix\\n\", sample_cov, \"\\n\")\n",
    "print(\"Efficient Covariance Matrix\\n\", e_cov, \"\\n\")"
   ]
  },
  {
   "cell_type": "code",
   "execution_count": 79,
   "metadata": {},
   "outputs": [],
   "source": [
    "# Although the differences between the sample covariance and the efficient covariance (found by shrinking errors) \n",
    "# may seem small, they have a huge impact on estimation of the optimal portfolio weights and the generation of the efficient \n",
    "# frontier. Practitioners generally use some form of efficient covariance for Modern Portfolio Theory."
   ]
  },
  {
   "cell_type": "code",
   "execution_count": 80,
   "metadata": {},
   "outputs": [
    {
     "data": {
      "text/html": [
       "<div>\n",
       "<style scoped>\n",
       "    .dataframe tbody tr th:only-of-type {\n",
       "        vertical-align: middle;\n",
       "    }\n",
       "\n",
       "    .dataframe tbody tr th {\n",
       "        vertical-align: top;\n",
       "    }\n",
       "\n",
       "    .dataframe thead th {\n",
       "        text-align: right;\n",
       "    }\n",
       "</style>\n",
       "<table border=\"1\" class=\"dataframe\">\n",
       "  <thead>\n",
       "    <tr style=\"text-align: right;\">\n",
       "      <th></th>\n",
       "      <th>Close_MS</th>\n",
       "      <th>Close_Citi</th>\n",
       "      <th>JPM_Close</th>\n",
       "      <th>GS_Close</th>\n",
       "    </tr>\n",
       "    <tr>\n",
       "      <th>Date</th>\n",
       "      <th></th>\n",
       "      <th></th>\n",
       "      <th></th>\n",
       "      <th></th>\n",
       "    </tr>\n",
       "  </thead>\n",
       "  <tbody>\n",
       "    <tr>\n",
       "      <th>2007-03-01</th>\n",
       "      <td>81.620003</td>\n",
       "      <td>552.500000</td>\n",
       "      <td>48.070000</td>\n",
       "      <td>200.720001</td>\n",
       "    </tr>\n",
       "    <tr>\n",
       "      <th>2007-04-01</th>\n",
       "      <td>81.910004</td>\n",
       "      <td>550.599976</td>\n",
       "      <td>48.189999</td>\n",
       "      <td>198.850006</td>\n",
       "    </tr>\n",
       "    <tr>\n",
       "      <th>2007-05-01</th>\n",
       "      <td>80.860001</td>\n",
       "      <td>547.700012</td>\n",
       "      <td>47.790001</td>\n",
       "      <td>199.050003</td>\n",
       "    </tr>\n",
       "    <tr>\n",
       "      <th>2007-08-01</th>\n",
       "      <td>81.349998</td>\n",
       "      <td>550.500000</td>\n",
       "      <td>47.950001</td>\n",
       "      <td>203.729996</td>\n",
       "    </tr>\n",
       "    <tr>\n",
       "      <th>2007-09-01</th>\n",
       "      <td>81.160004</td>\n",
       "      <td>545.700012</td>\n",
       "      <td>47.750000</td>\n",
       "      <td>204.080002</td>\n",
       "    </tr>\n",
       "  </tbody>\n",
       "</table>\n",
       "</div>"
      ],
      "text/plain": [
       "             Close_MS  Close_Citi  JPM_Close    GS_Close\n",
       "Date                                                    \n",
       "2007-03-01  81.620003  552.500000  48.070000  200.720001\n",
       "2007-04-01  81.910004  550.599976  48.189999  198.850006\n",
       "2007-05-01  80.860001  547.700012  47.790001  199.050003\n",
       "2007-08-01  81.349998  550.500000  47.950001  203.729996\n",
       "2007-09-01  81.160004  545.700012  47.750000  204.080002"
      ]
     },
     "execution_count": 80,
     "metadata": {},
     "output_type": "execute_result"
    }
   ],
   "source": [
    "df4.head()"
   ]
  },
  {
   "cell_type": "code",
   "execution_count": 81,
   "metadata": {},
   "outputs": [
    {
     "name": "stdout",
     "output_type": "stream",
     "text": [
      "Efficient Covariance Matrices\n",
      " {'during':             Close_MS  Close_Citi  JPM_Close  GS_Close\n",
      "Close_MS    0.994390    0.465336   0.298613  0.434874\n",
      "Close_Citi  0.465336    0.713035   0.364848  0.323977\n",
      "JPM_Close   0.298613    0.364848   0.422516  0.224668\n",
      "GS_Close    0.434874    0.323977   0.224668  0.408773, 'after':             Close_MS  Close_Citi  JPM_Close  GS_Close\n",
      "Close_MS    0.388839    0.344939   0.279727  0.231624\n",
      "Close_Citi  0.344939    0.841156   0.356788  0.252684\n",
      "JPM_Close   0.279727    0.356788   0.382494  0.223740\n",
      "GS_Close    0.231624    0.252684   0.223740  0.244539}\n"
     ]
    }
   ],
   "source": [
    "# Create a dictionary of time periods (or 'epochs')\n",
    "epochs = { 'during' : {'start': '1-1-2007', 'end': '31-12-2008'},\n",
    "           'after'  : {'start': '1-1-2009', 'end': '31-12-2010'}\n",
    "         }\n",
    "\n",
    "# Compute the efficient covariance for each epoch\n",
    "e_cov = {}\n",
    "for x in epochs.keys():\n",
    "    sub_price = df4.loc[epochs[x]['start']:epochs[x]['end']]\n",
    "    e_cov[x] = CovarianceShrinkage(sub_price).ledoit_wolf()\n",
    "\n",
    "# Display the efficient covariance matrices for all epochs\n",
    "print(\"Efficient Covariance Matrices\\n\", e_cov)\n"
   ]
  },
  {
   "cell_type": "code",
   "execution_count": 82,
   "metadata": {},
   "outputs": [
    {
     "data": {
      "text/html": [
       "<div>\n",
       "<style scoped>\n",
       "    .dataframe tbody tr th:only-of-type {\n",
       "        vertical-align: middle;\n",
       "    }\n",
       "\n",
       "    .dataframe tbody tr th {\n",
       "        vertical-align: top;\n",
       "    }\n",
       "\n",
       "    .dataframe thead th {\n",
       "        text-align: right;\n",
       "    }\n",
       "</style>\n",
       "<table border=\"1\" class=\"dataframe\">\n",
       "  <thead>\n",
       "    <tr style=\"text-align: right;\">\n",
       "      <th></th>\n",
       "      <th>Return_MS</th>\n",
       "      <th>Return_Citi</th>\n",
       "      <th>Return_JPM</th>\n",
       "      <th>Return_GS</th>\n",
       "    </tr>\n",
       "    <tr>\n",
       "      <th>Date</th>\n",
       "      <th></th>\n",
       "      <th></th>\n",
       "      <th></th>\n",
       "      <th></th>\n",
       "    </tr>\n",
       "  </thead>\n",
       "  <tbody>\n",
       "    <tr>\n",
       "      <th>2007-03-01</th>\n",
       "      <td>NaN</td>\n",
       "      <td>NaN</td>\n",
       "      <td>NaN</td>\n",
       "      <td>NaN</td>\n",
       "    </tr>\n",
       "    <tr>\n",
       "      <th>2007-04-01</th>\n",
       "      <td>0.003547</td>\n",
       "      <td>-0.003445</td>\n",
       "      <td>0.002493</td>\n",
       "      <td>-0.009360</td>\n",
       "    </tr>\n",
       "    <tr>\n",
       "      <th>2007-05-01</th>\n",
       "      <td>-0.012902</td>\n",
       "      <td>-0.005281</td>\n",
       "      <td>-0.008335</td>\n",
       "      <td>0.001005</td>\n",
       "    </tr>\n",
       "    <tr>\n",
       "      <th>2007-08-01</th>\n",
       "      <td>0.006042</td>\n",
       "      <td>0.005099</td>\n",
       "      <td>0.003342</td>\n",
       "      <td>0.023240</td>\n",
       "    </tr>\n",
       "    <tr>\n",
       "      <th>2007-09-01</th>\n",
       "      <td>-0.002338</td>\n",
       "      <td>-0.008758</td>\n",
       "      <td>-0.004180</td>\n",
       "      <td>0.001717</td>\n",
       "    </tr>\n",
       "  </tbody>\n",
       "</table>\n",
       "</div>"
      ],
      "text/plain": [
       "            Return_MS  Return_Citi  Return_JPM  Return_GS\n",
       "Date                                                     \n",
       "2007-03-01        NaN          NaN         NaN        NaN\n",
       "2007-04-01   0.003547    -0.003445    0.002493  -0.009360\n",
       "2007-05-01  -0.012902    -0.005281   -0.008335   0.001005\n",
       "2007-08-01   0.006042     0.005099    0.003342   0.023240\n",
       "2007-09-01  -0.002338    -0.008758   -0.004180   0.001717"
      ]
     },
     "execution_count": 82,
     "metadata": {},
     "output_type": "execute_result"
    }
   ],
   "source": [
    "df3.head()"
   ]
  },
  {
   "cell_type": "code",
   "execution_count": 83,
   "metadata": {},
   "outputs": [],
   "source": [
    "# Great! The breakdown of the 2007 - 2010 period into sub-periods shows how the portfolio's risk increased during the crisis\n",
    "# , and this changed the risk-return trade-off after the crisis. For future reference, also note that although we used a loop\n",
    "# in this exercise, a dictionary comprehension could also have been used to create the efficient covariance matrix."
   ]
  },
  {
   "cell_type": "code",
   "execution_count": 84,
   "metadata": {},
   "outputs": [],
   "source": [
    "from pypfopt import CLA"
   ]
  },
  {
   "cell_type": "code",
   "execution_count": 85,
   "metadata": {},
   "outputs": [
    {
     "name": "stdout",
     "output_type": "stream",
     "text": [
      "Efficient Covariance Matrices\n",
      " {'during':             Close_MS  Close_Citi  JPM_Close  GS_Close\n",
      "Close_MS    0.994390    0.465336   0.298613  0.434874\n",
      "Close_Citi  0.465336    0.713035   0.364848  0.323977\n",
      "JPM_Close   0.298613    0.364848   0.422516  0.224668\n",
      "GS_Close    0.434874    0.323977   0.224668  0.408773}\n"
     ]
    }
   ],
   "source": [
    "# Create a dictionary of time periods (or 'epochs')\n",
    "epochs = { 'during' : {'start': '1-1-2007', 'end': '31-12-2008'}}\n",
    "\n",
    "# Compute the efficient covariance for each epoch\n",
    "e_cov_during = {}\n",
    "for x in epochs.keys():\n",
    "    sub_price = df4.loc[epochs[x]['start']:epochs[x]['end']]\n",
    "    e_cov_during[x] = CovarianceShrinkage(sub_price).ledoit_wolf()\n",
    "\n",
    "# Display the efficient covariance matrices for all epochs\n",
    "print(\"Efficient Covariance Matrices\\n\", e_cov_during)\n"
   ]
  },
  {
   "cell_type": "markdown",
   "metadata": {},
   "source": [
    "## Efficient Distirbution through distribution"
   ]
  },
  {
   "cell_type": "code",
   "execution_count": 86,
   "metadata": {},
   "outputs": [],
   "source": [
    "portfolio_returns = []\n",
    "portfolio_volatility = []\n",
    "for x in range(1000):\n",
    "    weights = np.random.random(4)\n",
    "    weights/=np.sum(weights)\n",
    "    portfolio_returns.append(np.sum(weights*df3.mean()) * 250)\n",
    "    portfolio_volatility.append(np.sqrt(np.dot(weights.T,np.dot(df3.cov()*250,weights))))\n",
    "pfolio_returns = np.array(portfolio_returns)\n",
    "pfolio_voaltility = np.array(portfolio_volatility)"
   ]
  },
  {
   "cell_type": "code",
   "execution_count": 87,
   "metadata": {},
   "outputs": [],
   "source": [
    "portfolios = pd.DataFrame({'Return':pfolio_returns,'volatility':pfolio_voaltility})"
   ]
  },
  {
   "cell_type": "code",
   "execution_count": 88,
   "metadata": {},
   "outputs": [
    {
     "data": {
      "text/html": [
       "<div>\n",
       "<style scoped>\n",
       "    .dataframe tbody tr th:only-of-type {\n",
       "        vertical-align: middle;\n",
       "    }\n",
       "\n",
       "    .dataframe tbody tr th {\n",
       "        vertical-align: top;\n",
       "    }\n",
       "\n",
       "    .dataframe thead th {\n",
       "        text-align: right;\n",
       "    }\n",
       "</style>\n",
       "<table border=\"1\" class=\"dataframe\">\n",
       "  <thead>\n",
       "    <tr style=\"text-align: right;\">\n",
       "      <th></th>\n",
       "      <th>Return</th>\n",
       "      <th>volatility</th>\n",
       "    </tr>\n",
       "  </thead>\n",
       "  <tbody>\n",
       "    <tr>\n",
       "      <th>0</th>\n",
       "      <td>-0.143256</td>\n",
       "      <td>0.607611</td>\n",
       "    </tr>\n",
       "    <tr>\n",
       "      <th>1</th>\n",
       "      <td>-0.254422</td>\n",
       "      <td>0.609405</td>\n",
       "    </tr>\n",
       "    <tr>\n",
       "      <th>2</th>\n",
       "      <td>-0.206959</td>\n",
       "      <td>0.651010</td>\n",
       "    </tr>\n",
       "    <tr>\n",
       "      <th>3</th>\n",
       "      <td>-0.265134</td>\n",
       "      <td>0.626084</td>\n",
       "    </tr>\n",
       "    <tr>\n",
       "      <th>4</th>\n",
       "      <td>-0.281374</td>\n",
       "      <td>0.640495</td>\n",
       "    </tr>\n",
       "  </tbody>\n",
       "</table>\n",
       "</div>"
      ],
      "text/plain": [
       "     Return  volatility\n",
       "0 -0.143256    0.607611\n",
       "1 -0.254422    0.609405\n",
       "2 -0.206959    0.651010\n",
       "3 -0.265134    0.626084\n",
       "4 -0.281374    0.640495"
      ]
     },
     "execution_count": 88,
     "metadata": {},
     "output_type": "execute_result"
    }
   ],
   "source": [
    "portfolios.head()"
   ]
  },
  {
   "cell_type": "code",
   "execution_count": 89,
   "metadata": {},
   "outputs": [
    {
     "data": {
      "text/html": [
       "<div>\n",
       "<style scoped>\n",
       "    .dataframe tbody tr th:only-of-type {\n",
       "        vertical-align: middle;\n",
       "    }\n",
       "\n",
       "    .dataframe tbody tr th {\n",
       "        vertical-align: top;\n",
       "    }\n",
       "\n",
       "    .dataframe thead th {\n",
       "        text-align: right;\n",
       "    }\n",
       "</style>\n",
       "<table border=\"1\" class=\"dataframe\">\n",
       "  <thead>\n",
       "    <tr style=\"text-align: right;\">\n",
       "      <th></th>\n",
       "      <th>Return</th>\n",
       "      <th>volatility</th>\n",
       "    </tr>\n",
       "  </thead>\n",
       "  <tbody>\n",
       "    <tr>\n",
       "      <th>995</th>\n",
       "      <td>-0.325644</td>\n",
       "      <td>0.688168</td>\n",
       "    </tr>\n",
       "    <tr>\n",
       "      <th>996</th>\n",
       "      <td>-0.209610</td>\n",
       "      <td>0.595257</td>\n",
       "    </tr>\n",
       "    <tr>\n",
       "      <th>997</th>\n",
       "      <td>-0.282458</td>\n",
       "      <td>0.633441</td>\n",
       "    </tr>\n",
       "    <tr>\n",
       "      <th>998</th>\n",
       "      <td>-0.236581</td>\n",
       "      <td>0.634376</td>\n",
       "    </tr>\n",
       "    <tr>\n",
       "      <th>999</th>\n",
       "      <td>-0.238879</td>\n",
       "      <td>0.597135</td>\n",
       "    </tr>\n",
       "  </tbody>\n",
       "</table>\n",
       "</div>"
      ],
      "text/plain": [
       "       Return  volatility\n",
       "995 -0.325644    0.688168\n",
       "996 -0.209610    0.595257\n",
       "997 -0.282458    0.633441\n",
       "998 -0.236581    0.634376\n",
       "999 -0.238879    0.597135"
      ]
     },
     "execution_count": 89,
     "metadata": {},
     "output_type": "execute_result"
    }
   ],
   "source": [
    "portfolios.tail()"
   ]
  },
  {
   "cell_type": "code",
   "execution_count": 90,
   "metadata": {
    "scrolled": true
   },
   "outputs": [
    {
     "data": {
      "text/plain": [
       "Text(0, 0.5, 'Return')"
      ]
     },
     "execution_count": 90,
     "metadata": {},
     "output_type": "execute_result"
    },
    {
     "data": {
      "image/png": "[encoded data removed]",
      "text/plain": [
       "<Figure size 720x432 with 1 Axes>"
      ]
     },
     "metadata": {
      "needs_background": "light"
     },
     "output_type": "display_data"
    }
   ],
   "source": [
    "portfolios.plot(x='volatility',y='Return',kind='scatter',figsize=(10,6))\n",
    "plt.xlabel('volatility')\n",
    "plt.ylabel('Return')"
   ]
  },
  {
   "cell_type": "code",
   "execution_count": 91,
   "metadata": {},
   "outputs": [
    {
     "data": {
      "text/html": [
       "<div>\n",
       "<style scoped>\n",
       "    .dataframe tbody tr th:only-of-type {\n",
       "        vertical-align: middle;\n",
       "    }\n",
       "\n",
       "    .dataframe tbody tr th {\n",
       "        vertical-align: top;\n",
       "    }\n",
       "\n",
       "    .dataframe thead th {\n",
       "        text-align: right;\n",
       "    }\n",
       "</style>\n",
       "<table border=\"1\" class=\"dataframe\">\n",
       "  <thead>\n",
       "    <tr style=\"text-align: right;\">\n",
       "      <th></th>\n",
       "      <th>Return_MS</th>\n",
       "      <th>Return_Citi</th>\n",
       "      <th>Return_JPM</th>\n",
       "      <th>Return_GS</th>\n",
       "    </tr>\n",
       "    <tr>\n",
       "      <th>Date</th>\n",
       "      <th></th>\n",
       "      <th></th>\n",
       "      <th></th>\n",
       "      <th></th>\n",
       "    </tr>\n",
       "  </thead>\n",
       "  <tbody>\n",
       "    <tr>\n",
       "      <th>2007-03-01</th>\n",
       "      <td>NaN</td>\n",
       "      <td>NaN</td>\n",
       "      <td>NaN</td>\n",
       "      <td>NaN</td>\n",
       "    </tr>\n",
       "    <tr>\n",
       "      <th>2007-04-01</th>\n",
       "      <td>0.003547</td>\n",
       "      <td>-0.003445</td>\n",
       "      <td>0.002493</td>\n",
       "      <td>-0.009360</td>\n",
       "    </tr>\n",
       "    <tr>\n",
       "      <th>2007-05-01</th>\n",
       "      <td>-0.012902</td>\n",
       "      <td>-0.005281</td>\n",
       "      <td>-0.008335</td>\n",
       "      <td>0.001005</td>\n",
       "    </tr>\n",
       "    <tr>\n",
       "      <th>2007-08-01</th>\n",
       "      <td>0.006042</td>\n",
       "      <td>0.005099</td>\n",
       "      <td>0.003342</td>\n",
       "      <td>0.023240</td>\n",
       "    </tr>\n",
       "    <tr>\n",
       "      <th>2007-09-01</th>\n",
       "      <td>-0.002338</td>\n",
       "      <td>-0.008758</td>\n",
       "      <td>-0.004180</td>\n",
       "      <td>0.001717</td>\n",
       "    </tr>\n",
       "  </tbody>\n",
       "</table>\n",
       "</div>"
      ],
      "text/plain": [
       "            Return_MS  Return_Citi  Return_JPM  Return_GS\n",
       "Date                                                     \n",
       "2007-03-01        NaN          NaN         NaN        NaN\n",
       "2007-04-01   0.003547    -0.003445    0.002493  -0.009360\n",
       "2007-05-01  -0.012902    -0.005281   -0.008335   0.001005\n",
       "2007-08-01   0.006042     0.005099    0.003342   0.023240\n",
       "2007-09-01  -0.002338    -0.008758   -0.004180   0.001717"
      ]
     },
     "execution_count": 91,
     "metadata": {},
     "output_type": "execute_result"
    }
   ],
   "source": [
    "df3.head()"
   ]
  },
  {
   "cell_type": "code",
   "execution_count": 92,
   "metadata": {},
   "outputs": [],
   "source": [
    "df6=df3.loc['2007-03-01':'2008-12-31']\n"
   ]
  },
  {
   "cell_type": "code",
   "execution_count": 93,
   "metadata": {},
   "outputs": [
    {
     "data": {
      "text/html": [
       "<div>\n",
       "<style scoped>\n",
       "    .dataframe tbody tr th:only-of-type {\n",
       "        vertical-align: middle;\n",
       "    }\n",
       "\n",
       "    .dataframe tbody tr th {\n",
       "        vertical-align: top;\n",
       "    }\n",
       "\n",
       "    .dataframe thead th {\n",
       "        text-align: right;\n",
       "    }\n",
       "</style>\n",
       "<table border=\"1\" class=\"dataframe\">\n",
       "  <thead>\n",
       "    <tr style=\"text-align: right;\">\n",
       "      <th></th>\n",
       "      <th>Return_MS</th>\n",
       "      <th>Return_Citi</th>\n",
       "      <th>Return_JPM</th>\n",
       "      <th>Return_GS</th>\n",
       "    </tr>\n",
       "    <tr>\n",
       "      <th>Date</th>\n",
       "      <th></th>\n",
       "      <th></th>\n",
       "      <th></th>\n",
       "      <th></th>\n",
       "    </tr>\n",
       "  </thead>\n",
       "  <tbody>\n",
       "    <tr>\n",
       "      <th>2008-12-24</th>\n",
       "      <td>0.004147</td>\n",
       "      <td>0.039103</td>\n",
       "      <td>0.025103</td>\n",
       "      <td>0.016355</td>\n",
       "    </tr>\n",
       "    <tr>\n",
       "      <th>2008-12-26</th>\n",
       "      <td>0.010292</td>\n",
       "      <td>-0.007402</td>\n",
       "      <td>-0.001676</td>\n",
       "      <td>-0.006168</td>\n",
       "    </tr>\n",
       "    <tr>\n",
       "      <th>2008-12-29</th>\n",
       "      <td>0.016921</td>\n",
       "      <td>-0.024061</td>\n",
       "      <td>-0.000671</td>\n",
       "      <td>0.007736</td>\n",
       "    </tr>\n",
       "    <tr>\n",
       "      <th>2008-12-30</th>\n",
       "      <td>0.019276</td>\n",
       "      <td>0.034409</td>\n",
       "      <td>0.040473</td>\n",
       "      <td>0.069376</td>\n",
       "    </tr>\n",
       "    <tr>\n",
       "      <th>2008-12-31</th>\n",
       "      <td>0.054448</td>\n",
       "      <td>-0.013324</td>\n",
       "      <td>0.016630</td>\n",
       "      <td>0.027998</td>\n",
       "    </tr>\n",
       "  </tbody>\n",
       "</table>\n",
       "</div>"
      ],
      "text/plain": [
       "            Return_MS  Return_Citi  Return_JPM  Return_GS\n",
       "Date                                                     \n",
       "2008-12-24   0.004147     0.039103    0.025103   0.016355\n",
       "2008-12-26   0.010292    -0.007402   -0.001676  -0.006168\n",
       "2008-12-29   0.016921    -0.024061   -0.000671   0.007736\n",
       "2008-12-30   0.019276     0.034409    0.040473   0.069376\n",
       "2008-12-31   0.054448    -0.013324    0.016630   0.027998"
      ]
     },
     "execution_count": 93,
     "metadata": {},
     "output_type": "execute_result"
    }
   ],
   "source": [
    "df6.tail()"
   ]
  },
  {
   "cell_type": "code",
   "execution_count": 94,
   "metadata": {},
   "outputs": [],
   "source": [
    "portfolio_returns = []\n",
    "portfolio_volatility = []\n",
    "for x in range(1000):\n",
    "    weights = np.random.random(4)\n",
    "    weights/=np.sum(weights)\n",
    "    portfolio_returns.append(np.sum(weights*df6.mean()) * 250)\n",
    "    portfolio_volatility.append(np.sqrt(np.dot(weights.T,np.dot(df3.cov()*250,weights))))\n",
    "pfolio_returns = np.array(portfolio_returns)\n",
    "pfolio_voaltility = np.array(portfolio_volatility)"
   ]
  },
  {
   "cell_type": "code",
   "execution_count": 95,
   "metadata": {},
   "outputs": [],
   "source": [
    "portfolios_during = pd.DataFrame({'Return':pfolio_returns,'volatility':pfolio_voaltility})"
   ]
  },
  {
   "cell_type": "code",
   "execution_count": 96,
   "metadata": {},
   "outputs": [
    {
     "data": {
      "text/html": [
       "<div>\n",
       "<style scoped>\n",
       "    .dataframe tbody tr th:only-of-type {\n",
       "        vertical-align: middle;\n",
       "    }\n",
       "\n",
       "    .dataframe tbody tr th {\n",
       "        vertical-align: top;\n",
       "    }\n",
       "\n",
       "    .dataframe thead th {\n",
       "        text-align: right;\n",
       "    }\n",
       "</style>\n",
       "<table border=\"1\" class=\"dataframe\">\n",
       "  <thead>\n",
       "    <tr style=\"text-align: right;\">\n",
       "      <th></th>\n",
       "      <th>Return</th>\n",
       "      <th>volatility</th>\n",
       "    </tr>\n",
       "  </thead>\n",
       "  <tbody>\n",
       "    <tr>\n",
       "      <th>0</th>\n",
       "      <td>-0.678782</td>\n",
       "      <td>0.658391</td>\n",
       "    </tr>\n",
       "    <tr>\n",
       "      <th>1</th>\n",
       "      <td>-0.525046</td>\n",
       "      <td>0.595515</td>\n",
       "    </tr>\n",
       "    <tr>\n",
       "      <th>2</th>\n",
       "      <td>-0.593634</td>\n",
       "      <td>0.613543</td>\n",
       "    </tr>\n",
       "    <tr>\n",
       "      <th>3</th>\n",
       "      <td>-0.584872</td>\n",
       "      <td>0.632389</td>\n",
       "    </tr>\n",
       "    <tr>\n",
       "      <th>4</th>\n",
       "      <td>-0.548300</td>\n",
       "      <td>0.597494</td>\n",
       "    </tr>\n",
       "  </tbody>\n",
       "</table>\n",
       "</div>"
      ],
      "text/plain": [
       "     Return  volatility\n",
       "0 -0.678782    0.658391\n",
       "1 -0.525046    0.595515\n",
       "2 -0.593634    0.613543\n",
       "3 -0.584872    0.632389\n",
       "4 -0.548300    0.597494"
      ]
     },
     "execution_count": 96,
     "metadata": {},
     "output_type": "execute_result"
    }
   ],
   "source": [
    "portfolios_during.head()\n"
   ]
  },
  {
   "cell_type": "code",
   "execution_count": 97,
   "metadata": {},
   "outputs": [
    {
     "data": {
      "text/html": [
       "<div>\n",
       "<style scoped>\n",
       "    .dataframe tbody tr th:only-of-type {\n",
       "        vertical-align: middle;\n",
       "    }\n",
       "\n",
       "    .dataframe tbody tr th {\n",
       "        vertical-align: top;\n",
       "    }\n",
       "\n",
       "    .dataframe thead th {\n",
       "        text-align: right;\n",
       "    }\n",
       "</style>\n",
       "<table border=\"1\" class=\"dataframe\">\n",
       "  <thead>\n",
       "    <tr style=\"text-align: right;\">\n",
       "      <th></th>\n",
       "      <th>Return</th>\n",
       "      <th>volatility</th>\n",
       "    </tr>\n",
       "  </thead>\n",
       "  <tbody>\n",
       "    <tr>\n",
       "      <th>995</th>\n",
       "      <td>-0.577661</td>\n",
       "      <td>0.623974</td>\n",
       "    </tr>\n",
       "    <tr>\n",
       "      <th>996</th>\n",
       "      <td>-0.560040</td>\n",
       "      <td>0.612897</td>\n",
       "    </tr>\n",
       "    <tr>\n",
       "      <th>997</th>\n",
       "      <td>-0.666741</td>\n",
       "      <td>0.648893</td>\n",
       "    </tr>\n",
       "    <tr>\n",
       "      <th>998</th>\n",
       "      <td>-0.685531</td>\n",
       "      <td>0.663272</td>\n",
       "    </tr>\n",
       "    <tr>\n",
       "      <th>999</th>\n",
       "      <td>-0.647847</td>\n",
       "      <td>0.615306</td>\n",
       "    </tr>\n",
       "  </tbody>\n",
       "</table>\n",
       "</div>"
      ],
      "text/plain": [
       "       Return  volatility\n",
       "995 -0.577661    0.623974\n",
       "996 -0.560040    0.612897\n",
       "997 -0.666741    0.648893\n",
       "998 -0.685531    0.663272\n",
       "999 -0.647847    0.615306"
      ]
     },
     "execution_count": 97,
     "metadata": {},
     "output_type": "execute_result"
    }
   ],
   "source": [
    "portfolios_during.tail()"
   ]
  },
  {
   "cell_type": "code",
   "execution_count": 98,
   "metadata": {},
   "outputs": [
    {
     "data": {
      "text/plain": [
       "Text(0, 0.5, 'Return')"
      ]
     },
     "execution_count": 98,
     "metadata": {},
     "output_type": "execute_result"
    },
    {
     "data": {
      "image/png": "[encoded data removed]",
      "text/plain": [
       "<Figure size 720x432 with 1 Axes>"
      ]
     },
     "metadata": {
      "needs_background": "light"
     },
     "output_type": "display_data"
    }
   ],
   "source": [
    "portfolios.plot(x='volatility',y='Return',kind='scatter',figsize=(10,6))\n",
    "plt.xlabel('volatility')\n",
    "plt.ylabel('Return')"
   ]
  },
  {
   "cell_type": "markdown",
   "metadata": {},
   "source": [
    "## Efficient Frontier Using CLA Algorithm"
   ]
  },
  {
   "cell_type": "code",
   "execution_count": 99,
   "metadata": {},
   "outputs": [
    {
     "data": {
      "text/html": [
       "<div>\n",
       "<style scoped>\n",
       "    .dataframe tbody tr th:only-of-type {\n",
       "        vertical-align: middle;\n",
       "    }\n",
       "\n",
       "    .dataframe tbody tr th {\n",
       "        vertical-align: top;\n",
       "    }\n",
       "\n",
       "    .dataframe thead th {\n",
       "        text-align: right;\n",
       "    }\n",
       "</style>\n",
       "<table border=\"1\" class=\"dataframe\">\n",
       "  <thead>\n",
       "    <tr style=\"text-align: right;\">\n",
       "      <th></th>\n",
       "      <th>Return_MS</th>\n",
       "      <th>Return_Citi</th>\n",
       "      <th>Return_JPM</th>\n",
       "      <th>Return_GS</th>\n",
       "    </tr>\n",
       "    <tr>\n",
       "      <th>Date</th>\n",
       "      <th></th>\n",
       "      <th></th>\n",
       "      <th></th>\n",
       "      <th></th>\n",
       "    </tr>\n",
       "  </thead>\n",
       "  <tbody>\n",
       "    <tr>\n",
       "      <th>2007-03-01</th>\n",
       "      <td>NaN</td>\n",
       "      <td>NaN</td>\n",
       "      <td>NaN</td>\n",
       "      <td>NaN</td>\n",
       "    </tr>\n",
       "    <tr>\n",
       "      <th>2007-04-01</th>\n",
       "      <td>0.003547</td>\n",
       "      <td>-0.003445</td>\n",
       "      <td>0.002493</td>\n",
       "      <td>-0.009360</td>\n",
       "    </tr>\n",
       "    <tr>\n",
       "      <th>2007-05-01</th>\n",
       "      <td>-0.012902</td>\n",
       "      <td>-0.005281</td>\n",
       "      <td>-0.008335</td>\n",
       "      <td>0.001005</td>\n",
       "    </tr>\n",
       "    <tr>\n",
       "      <th>2007-08-01</th>\n",
       "      <td>0.006042</td>\n",
       "      <td>0.005099</td>\n",
       "      <td>0.003342</td>\n",
       "      <td>0.023240</td>\n",
       "    </tr>\n",
       "    <tr>\n",
       "      <th>2007-09-01</th>\n",
       "      <td>-0.002338</td>\n",
       "      <td>-0.008758</td>\n",
       "      <td>-0.004180</td>\n",
       "      <td>0.001717</td>\n",
       "    </tr>\n",
       "  </tbody>\n",
       "</table>\n",
       "</div>"
      ],
      "text/plain": [
       "            Return_MS  Return_Citi  Return_JPM  Return_GS\n",
       "Date                                                     \n",
       "2007-03-01        NaN          NaN         NaN        NaN\n",
       "2007-04-01   0.003547    -0.003445    0.002493  -0.009360\n",
       "2007-05-01  -0.012902    -0.005281   -0.008335   0.001005\n",
       "2007-08-01   0.006042     0.005099    0.003342   0.023240\n",
       "2007-09-01  -0.002338    -0.008758   -0.004180   0.001717"
      ]
     },
     "execution_count": 99,
     "metadata": {},
     "output_type": "execute_result"
    }
   ],
   "source": [
    "df3.head()"
   ]
  },
  {
   "cell_type": "code",
   "execution_count": 100,
   "metadata": {},
   "outputs": [
    {
     "data": {
      "text/html": [
       "<div>\n",
       "<style scoped>\n",
       "    .dataframe tbody tr th:only-of-type {\n",
       "        vertical-align: middle;\n",
       "    }\n",
       "\n",
       "    .dataframe tbody tr th {\n",
       "        vertical-align: top;\n",
       "    }\n",
       "\n",
       "    .dataframe thead th {\n",
       "        text-align: right;\n",
       "    }\n",
       "</style>\n",
       "<table border=\"1\" class=\"dataframe\">\n",
       "  <thead>\n",
       "    <tr style=\"text-align: right;\">\n",
       "      <th></th>\n",
       "      <th>Return_MS</th>\n",
       "      <th>Return_Citi</th>\n",
       "      <th>Return_JPM</th>\n",
       "      <th>Return_GS</th>\n",
       "    </tr>\n",
       "    <tr>\n",
       "      <th>Date</th>\n",
       "      <th></th>\n",
       "      <th></th>\n",
       "      <th></th>\n",
       "      <th></th>\n",
       "    </tr>\n",
       "  </thead>\n",
       "  <tbody>\n",
       "    <tr>\n",
       "      <th>2008-12-24</th>\n",
       "      <td>0.004147</td>\n",
       "      <td>0.039103</td>\n",
       "      <td>0.025103</td>\n",
       "      <td>0.016355</td>\n",
       "    </tr>\n",
       "    <tr>\n",
       "      <th>2008-12-26</th>\n",
       "      <td>0.010292</td>\n",
       "      <td>-0.007402</td>\n",
       "      <td>-0.001676</td>\n",
       "      <td>-0.006168</td>\n",
       "    </tr>\n",
       "    <tr>\n",
       "      <th>2008-12-29</th>\n",
       "      <td>0.016921</td>\n",
       "      <td>-0.024061</td>\n",
       "      <td>-0.000671</td>\n",
       "      <td>0.007736</td>\n",
       "    </tr>\n",
       "    <tr>\n",
       "      <th>2008-12-30</th>\n",
       "      <td>0.019276</td>\n",
       "      <td>0.034409</td>\n",
       "      <td>0.040473</td>\n",
       "      <td>0.069376</td>\n",
       "    </tr>\n",
       "    <tr>\n",
       "      <th>2008-12-31</th>\n",
       "      <td>0.054448</td>\n",
       "      <td>-0.013324</td>\n",
       "      <td>0.016630</td>\n",
       "      <td>0.027998</td>\n",
       "    </tr>\n",
       "  </tbody>\n",
       "</table>\n",
       "</div>"
      ],
      "text/plain": [
       "            Return_MS  Return_Citi  Return_JPM  Return_GS\n",
       "Date                                                     \n",
       "2008-12-24   0.004147     0.039103    0.025103   0.016355\n",
       "2008-12-26   0.010292    -0.007402   -0.001676  -0.006168\n",
       "2008-12-29   0.016921    -0.024061   -0.000671   0.007736\n",
       "2008-12-30   0.019276     0.034409    0.040473   0.069376\n",
       "2008-12-31   0.054448    -0.013324    0.016630   0.027998"
      ]
     },
     "execution_count": 100,
     "metadata": {},
     "output_type": "execute_result"
    }
   ],
   "source": [
    "df6.tail()"
   ]
  },
  {
   "cell_type": "code",
   "execution_count": 101,
   "metadata": {},
   "outputs": [],
   "source": [
    "df_mean = np.array(df6.mean())"
   ]
  },
  {
   "cell_type": "code",
   "execution_count": 102,
   "metadata": {},
   "outputs": [
    {
     "data": {
      "text/html": [
       "<div>\n",
       "<style scoped>\n",
       "    .dataframe tbody tr th:only-of-type {\n",
       "        vertical-align: middle;\n",
       "    }\n",
       "\n",
       "    .dataframe tbody tr th {\n",
       "        vertical-align: top;\n",
       "    }\n",
       "\n",
       "    .dataframe thead th {\n",
       "        text-align: right;\n",
       "    }\n",
       "</style>\n",
       "<table border=\"1\" class=\"dataframe\">\n",
       "  <thead>\n",
       "    <tr style=\"text-align: right;\">\n",
       "      <th></th>\n",
       "      <th>Close_MS</th>\n",
       "      <th>Close_Citi</th>\n",
       "      <th>JPM_Close</th>\n",
       "      <th>GS_Close</th>\n",
       "    </tr>\n",
       "    <tr>\n",
       "      <th>Date</th>\n",
       "      <th></th>\n",
       "      <th></th>\n",
       "      <th></th>\n",
       "      <th></th>\n",
       "    </tr>\n",
       "  </thead>\n",
       "  <tbody>\n",
       "    <tr>\n",
       "      <th>2010-12-23</th>\n",
       "      <td>27.410000</td>\n",
       "      <td>46.799999</td>\n",
       "      <td>42.080002</td>\n",
       "      <td>167.600006</td>\n",
       "    </tr>\n",
       "    <tr>\n",
       "      <th>2010-12-27</th>\n",
       "      <td>27.510000</td>\n",
       "      <td>47.700001</td>\n",
       "      <td>42.669998</td>\n",
       "      <td>169.830002</td>\n",
       "    </tr>\n",
       "    <tr>\n",
       "      <th>2010-12-28</th>\n",
       "      <td>27.660000</td>\n",
       "      <td>47.799999</td>\n",
       "      <td>42.610001</td>\n",
       "      <td>169.190002</td>\n",
       "    </tr>\n",
       "    <tr>\n",
       "      <th>2010-12-29</th>\n",
       "      <td>27.280001</td>\n",
       "      <td>47.700001</td>\n",
       "      <td>42.360001</td>\n",
       "      <td>167.630005</td>\n",
       "    </tr>\n",
       "    <tr>\n",
       "      <th>2010-12-30</th>\n",
       "      <td>27.330000</td>\n",
       "      <td>47.599998</td>\n",
       "      <td>42.230000</td>\n",
       "      <td>167.639999</td>\n",
       "    </tr>\n",
       "  </tbody>\n",
       "</table>\n",
       "</div>"
      ],
      "text/plain": [
       "             Close_MS  Close_Citi  JPM_Close    GS_Close\n",
       "Date                                                    \n",
       "2010-12-23  27.410000   46.799999  42.080002  167.600006\n",
       "2010-12-27  27.510000   47.700001  42.669998  169.830002\n",
       "2010-12-28  27.660000   47.799999  42.610001  169.190002\n",
       "2010-12-29  27.280001   47.700001  42.360001  167.630005\n",
       "2010-12-30  27.330000   47.599998  42.230000  167.639999"
      ]
     },
     "execution_count": 102,
     "metadata": {},
     "output_type": "execute_result"
    }
   ],
   "source": [
    "df4.tail()"
   ]
  },
  {
   "cell_type": "code",
   "execution_count": 103,
   "metadata": {},
   "outputs": [],
   "source": [
    "df8=df4.loc['2007-03-01':'2008-12-31']"
   ]
  },
  {
   "cell_type": "code",
   "execution_count": 104,
   "metadata": {},
   "outputs": [
    {
     "data": {
      "text/html": [
       "<div>\n",
       "<style scoped>\n",
       "    .dataframe tbody tr th:only-of-type {\n",
       "        vertical-align: middle;\n",
       "    }\n",
       "\n",
       "    .dataframe tbody tr th {\n",
       "        vertical-align: top;\n",
       "    }\n",
       "\n",
       "    .dataframe thead th {\n",
       "        text-align: right;\n",
       "    }\n",
       "</style>\n",
       "<table border=\"1\" class=\"dataframe\">\n",
       "  <thead>\n",
       "    <tr style=\"text-align: right;\">\n",
       "      <th></th>\n",
       "      <th>Close_MS</th>\n",
       "      <th>Close_Citi</th>\n",
       "      <th>JPM_Close</th>\n",
       "      <th>GS_Close</th>\n",
       "    </tr>\n",
       "    <tr>\n",
       "      <th>Date</th>\n",
       "      <th></th>\n",
       "      <th></th>\n",
       "      <th></th>\n",
       "      <th></th>\n",
       "    </tr>\n",
       "  </thead>\n",
       "  <tbody>\n",
       "    <tr>\n",
       "      <th>2008-12-24</th>\n",
       "      <td>14.500000</td>\n",
       "      <td>67.800003</td>\n",
       "      <td>29.850000</td>\n",
       "      <td>76.440002</td>\n",
       "    </tr>\n",
       "    <tr>\n",
       "      <th>2008-12-26</th>\n",
       "      <td>14.650000</td>\n",
       "      <td>67.300003</td>\n",
       "      <td>29.799999</td>\n",
       "      <td>75.970001</td>\n",
       "    </tr>\n",
       "    <tr>\n",
       "      <th>2008-12-29</th>\n",
       "      <td>14.900000</td>\n",
       "      <td>65.699997</td>\n",
       "      <td>29.780001</td>\n",
       "      <td>76.559998</td>\n",
       "    </tr>\n",
       "    <tr>\n",
       "      <th>2008-12-30</th>\n",
       "      <td>15.190000</td>\n",
       "      <td>68.000000</td>\n",
       "      <td>31.010000</td>\n",
       "      <td>82.059998</td>\n",
       "    </tr>\n",
       "    <tr>\n",
       "      <th>2008-12-31</th>\n",
       "      <td>16.040001</td>\n",
       "      <td>67.099998</td>\n",
       "      <td>31.530001</td>\n",
       "      <td>84.389999</td>\n",
       "    </tr>\n",
       "  </tbody>\n",
       "</table>\n",
       "</div>"
      ],
      "text/plain": [
       "             Close_MS  Close_Citi  JPM_Close   GS_Close\n",
       "Date                                                   \n",
       "2008-12-24  14.500000   67.800003  29.850000  76.440002\n",
       "2008-12-26  14.650000   67.300003  29.799999  75.970001\n",
       "2008-12-29  14.900000   65.699997  29.780001  76.559998\n",
       "2008-12-30  15.190000   68.000000  31.010000  82.059998\n",
       "2008-12-31  16.040001   67.099998  31.530001  84.389999"
      ]
     },
     "execution_count": 104,
     "metadata": {},
     "output_type": "execute_result"
    }
   ],
   "source": [
    "df8.tail()"
   ]
  },
  {
   "cell_type": "code",
   "execution_count": 105,
   "metadata": {},
   "outputs": [],
   "source": [
    "e_cov_during = np.array(CovarianceShrinkage(df8).ledoit_wolf())"
   ]
  },
  {
   "cell_type": "code",
   "execution_count": 106,
   "metadata": {},
   "outputs": [
    {
     "data": {
      "text/plain": [
       "numpy.ndarray"
      ]
     },
     "execution_count": 106,
     "metadata": {},
     "output_type": "execute_result"
    }
   ],
   "source": [
    "type(e_cov_during)"
   ]
  },
  {
   "cell_type": "code",
   "execution_count": 107,
   "metadata": {},
   "outputs": [],
   "source": [
    "returns_during = np.array(df6.mean())"
   ]
  },
  {
   "cell_type": "code",
   "execution_count": 108,
   "metadata": {},
   "outputs": [],
   "source": [
    "from pypfopt import CLA"
   ]
  },
  {
   "cell_type": "code",
   "execution_count": 109,
   "metadata": {},
   "outputs": [],
   "source": [
    "efficient_portfolio_during = CLA(returns_during, e_cov_during)"
   ]
  },
  {
   "cell_type": "code",
   "execution_count": 110,
   "metadata": {},
   "outputs": [
    {
     "name": "stdout",
     "output_type": "stream",
     "text": [
      "{0: 0.0, 1: 0.0, 2: 0.4814250629859924, 3: 0.5185749370140076}\n"
     ]
    }
   ],
   "source": [
    "print(efficient_portfolio_during.min_volatility())"
   ]
  },
  {
   "cell_type": "code",
   "execution_count": 111,
   "metadata": {},
   "outputs": [],
   "source": [
    "# Compute the efficient frontier\n",
    "(ret, vol, weights) = efficient_portfolio_during.efficient_frontier()"
   ]
  },
  {
   "cell_type": "code",
   "execution_count": 112,
   "metadata": {},
   "outputs": [
    {
     "data": {
      "image/png": "[encoded data removed]",
      "text/plain": [
       "<Figure size 432x288 with 1 Axes>"
      ]
     },
     "metadata": {
      "needs_background": "light"
     },
     "output_type": "display_data"
    }
   ],
   "source": [
    "# Add the frontier to the plot showing the 'before' and 'after' frontiers\n",
    "plt.xlabel('Standard Deviation/Volatiltiy/Risk')\n",
    "plt.ylabel('Return for period 2008-2009')\n",
    "plt.title('Efficient Frontier during crisis',size=20)\n",
    "plt.scatter(vol, ret, s = 4, c = 'g', marker = '.', label = 'During')\n",
    "plt.legend()\n",
    "plt.show()"
   ]
  },
  {
   "cell_type": "code",
   "execution_count": 113,
   "metadata": {},
   "outputs": [
    {
     "data": {
      "text/plain": [
       "[<matplotlib.lines.Line2D at 0x2004d1544a8>]"
      ]
     },
     "execution_count": 113,
     "metadata": {},
     "output_type": "execute_result"
    },
    {
     "data": {
      "image/png": "[encoded data removed]",
      "text/plain": [
       "<Figure size 432x288 with 1 Axes>"
      ]
     },
     "metadata": {
      "needs_background": "light"
     },
     "output_type": "display_data"
    }
   ],
   "source": [
    "plt.plot(vol,ret)"
   ]
  },
  {
   "cell_type": "code",
   "execution_count": 114,
   "metadata": {},
   "outputs": [],
   "source": [
    "df9=df4.loc['2009-01-01':'2010-12-31']  # for covariance matrix (prices)\n",
    "df10=df3.loc['2009-01-01':'2010-12-31'] # returns\n"
   ]
  },
  {
   "cell_type": "code",
   "execution_count": 115,
   "metadata": {},
   "outputs": [
    {
     "name": "stdout",
     "output_type": "stream",
     "text": [
      "[ 0.00105944 -0.00068261  0.0005809   0.00136455]\n"
     ]
    }
   ],
   "source": [
    "returns_after = np.array(df10.mean())\n",
    "print(returns_after)"
   ]
  },
  {
   "cell_type": "code",
   "execution_count": 116,
   "metadata": {},
   "outputs": [
    {
     "data": {
      "image/png": "[encoded data removed]",
      "text/plain": [
       "<Figure size 432x288 with 1 Axes>"
      ]
     },
     "metadata": {
      "needs_background": "light"
     },
     "output_type": "display_data"
    }
   ],
   "source": [
    "e_cov_after = np.array(CovarianceShrinkage(df9).ledoit_wolf())\n",
    "efficient_portfolio_after = CLA(returns_after, e_cov_after)\n",
    "(ret, vol, weights) = efficient_portfolio_after.efficient_frontier()\n",
    "# Add the frontier to the plot showing the 'before' and 'after' frontiers\n",
    "\n",
    "plt.xlabel('Standard Deviation/Volatiltiy/Risk')\n",
    "plt.ylabel('Return for period 2009-2010')\n",
    "plt.title('Efficient Frontier after crisis',size=20)\n",
    "plt.scatter(vol, ret, s = 4, c = 'g', marker = '.', label = 'AFter')\n",
    "plt.legend()\n",
    "plt.show()"
   ]
  },
  {
   "cell_type": "code",
   "execution_count": 117,
   "metadata": {},
   "outputs": [
    {
     "data": {
      "text/plain": [
       "[<matplotlib.lines.Line2D at 0x2004e1c1e80>]"
      ]
     },
     "execution_count": 117,
     "metadata": {},
     "output_type": "execute_result"
    },
    {
     "data": {
      "image/png": "[encoded data removed]",
      "text/plain": [
       "<Figure size 432x288 with 1 Axes>"
      ]
     },
     "metadata": {
      "needs_background": "light"
     },
     "output_type": "display_data"
    }
   ],
   "source": [
    "plt.xlabel('Standard Deviation/Volatiltiy/Risk')\n",
    "plt.ylabel('Return for period 2009-2010')\n",
    "plt.title('Efficient Frontier after crisis',size=20)\n",
    "plt.plot(vol,ret)"
   ]
  },
  {
   "cell_type": "code",
   "execution_count": 118,
   "metadata": {},
   "outputs": [],
   "source": [
    "## Risk reduced after crisis"
   ]
  },
  {
   "cell_type": "markdown",
   "metadata": {},
   "source": [
    "### Portfolio Optimization"
   ]
  },
  {
   "cell_type": "code",
   "execution_count": 135,
   "metadata": {},
   "outputs": [],
   "source": [
    "df_returns = df1[['Return_MS','Return_Citi','Return_JPM','Return_GS']]"
   ]
  },
  {
   "cell_type": "code",
   "execution_count": 136,
   "metadata": {},
   "outputs": [
    {
     "data": {
      "text/html": [
       "<div>\n",
       "<style scoped>\n",
       "    .dataframe tbody tr th:only-of-type {\n",
       "        vertical-align: middle;\n",
       "    }\n",
       "\n",
       "    .dataframe tbody tr th {\n",
       "        vertical-align: top;\n",
       "    }\n",
       "\n",
       "    .dataframe thead th {\n",
       "        text-align: right;\n",
       "    }\n",
       "</style>\n",
       "<table border=\"1\" class=\"dataframe\">\n",
       "  <thead>\n",
       "    <tr style=\"text-align: right;\">\n",
       "      <th></th>\n",
       "      <th>Return_MS</th>\n",
       "      <th>Return_Citi</th>\n",
       "      <th>Return_JPM</th>\n",
       "      <th>Return_GS</th>\n",
       "    </tr>\n",
       "    <tr>\n",
       "      <th>Date</th>\n",
       "      <th></th>\n",
       "      <th></th>\n",
       "      <th></th>\n",
       "      <th></th>\n",
       "    </tr>\n",
       "  </thead>\n",
       "  <tbody>\n",
       "    <tr>\n",
       "      <th>2007-03-01</th>\n",
       "      <td>NaN</td>\n",
       "      <td>NaN</td>\n",
       "      <td>NaN</td>\n",
       "      <td>NaN</td>\n",
       "    </tr>\n",
       "    <tr>\n",
       "      <th>2007-04-01</th>\n",
       "      <td>0.003547</td>\n",
       "      <td>-0.003445</td>\n",
       "      <td>0.002493</td>\n",
       "      <td>-0.009360</td>\n",
       "    </tr>\n",
       "    <tr>\n",
       "      <th>2007-05-01</th>\n",
       "      <td>-0.012902</td>\n",
       "      <td>-0.005281</td>\n",
       "      <td>-0.008335</td>\n",
       "      <td>0.001005</td>\n",
       "    </tr>\n",
       "    <tr>\n",
       "      <th>2007-08-01</th>\n",
       "      <td>0.006042</td>\n",
       "      <td>0.005099</td>\n",
       "      <td>0.003342</td>\n",
       "      <td>0.023240</td>\n",
       "    </tr>\n",
       "    <tr>\n",
       "      <th>2007-09-01</th>\n",
       "      <td>-0.002338</td>\n",
       "      <td>-0.008758</td>\n",
       "      <td>-0.004180</td>\n",
       "      <td>0.001717</td>\n",
       "    </tr>\n",
       "    <tr>\n",
       "      <th>2007-10-01</th>\n",
       "      <td>0.005039</td>\n",
       "      <td>-0.008096</td>\n",
       "      <td>0.007303</td>\n",
       "      <td>0.019555</td>\n",
       "    </tr>\n",
       "    <tr>\n",
       "      <th>2007-11-01</th>\n",
       "      <td>0.009760</td>\n",
       "      <td>0.000739</td>\n",
       "      <td>0.004356</td>\n",
       "      <td>0.017953</td>\n",
       "    </tr>\n",
       "    <tr>\n",
       "      <th>2007-12-01</th>\n",
       "      <td>0.005931</td>\n",
       "      <td>0.003869</td>\n",
       "      <td>-0.006646</td>\n",
       "      <td>0.009909</td>\n",
       "    </tr>\n",
       "    <tr>\n",
       "      <th>2007-01-16</th>\n",
       "      <td>-0.003022</td>\n",
       "      <td>0.007146</td>\n",
       "      <td>0.008300</td>\n",
       "      <td>-0.001871</td>\n",
       "    </tr>\n",
       "    <tr>\n",
       "      <th>2007-01-17</th>\n",
       "      <td>-0.002788</td>\n",
       "      <td>-0.006962</td>\n",
       "      <td>0.000826</td>\n",
       "      <td>-0.001687</td>\n",
       "    </tr>\n",
       "  </tbody>\n",
       "</table>\n",
       "</div>"
      ],
      "text/plain": [
       "            Return_MS  Return_Citi  Return_JPM  Return_GS\n",
       "Date                                                     \n",
       "2007-03-01        NaN          NaN         NaN        NaN\n",
       "2007-04-01   0.003547    -0.003445    0.002493  -0.009360\n",
       "2007-05-01  -0.012902    -0.005281   -0.008335   0.001005\n",
       "2007-08-01   0.006042     0.005099    0.003342   0.023240\n",
       "2007-09-01  -0.002338    -0.008758   -0.004180   0.001717\n",
       "2007-10-01   0.005039    -0.008096    0.007303   0.019555\n",
       "2007-11-01   0.009760     0.000739    0.004356   0.017953\n",
       "2007-12-01   0.005931     0.003869   -0.006646   0.009909\n",
       "2007-01-16  -0.003022     0.007146    0.008300  -0.001871\n",
       "2007-01-17  -0.002788    -0.006962    0.000826  -0.001687"
      ]
     },
     "execution_count": 136,
     "metadata": {},
     "output_type": "execute_result"
    }
   ],
   "source": [
    "df_returns.head(10)"
   ]
  },
  {
   "cell_type": "code",
   "execution_count": 137,
   "metadata": {},
   "outputs": [
    {
     "data": {
      "image/png": "[encoded data removed]",
      "text/plain": [
       "<Figure size 864x576 with 4 Axes>"
      ]
     },
     "metadata": {
      "needs_background": "light"
     },
     "output_type": "display_data"
    }
   ],
   "source": [
    "df_returns.hist(bins=100,figsize=(12,8))\n",
    "plt.tight_layout()"
   ]
  },
  {
   "cell_type": "code",
   "execution_count": 138,
   "metadata": {},
   "outputs": [
    {
     "data": {
      "text/plain": [
       "Return_MS     -0.001088\n",
       "Return_Citi   -0.002437\n",
       "Return_JPM    -0.000129\n",
       "Return_GS     -0.000179\n",
       "dtype: float64"
      ]
     },
     "execution_count": 138,
     "metadata": {},
     "output_type": "execute_result"
    }
   ],
   "source": [
    "df_returns.mean()"
   ]
  },
  {
   "cell_type": "code",
   "execution_count": 140,
   "metadata": {},
   "outputs": [
    {
     "data": {
      "text/html": [
       "<div>\n",
       "<style scoped>\n",
       "    .dataframe tbody tr th:only-of-type {\n",
       "        vertical-align: middle;\n",
       "    }\n",
       "\n",
       "    .dataframe tbody tr th {\n",
       "        vertical-align: top;\n",
       "    }\n",
       "\n",
       "    .dataframe thead th {\n",
       "        text-align: right;\n",
       "    }\n",
       "</style>\n",
       "<table border=\"1\" class=\"dataframe\">\n",
       "  <thead>\n",
       "    <tr style=\"text-align: right;\">\n",
       "      <th></th>\n",
       "      <th>Return_MS</th>\n",
       "      <th>Return_Citi</th>\n",
       "      <th>Return_JPM</th>\n",
       "      <th>Return_GS</th>\n",
       "    </tr>\n",
       "  </thead>\n",
       "  <tbody>\n",
       "    <tr>\n",
       "      <th>Return_MS</th>\n",
       "      <td>0.632212</td>\n",
       "      <td>0.427139</td>\n",
       "      <td>0.312773</td>\n",
       "      <td>0.350865</td>\n",
       "    </tr>\n",
       "    <tr>\n",
       "      <th>Return_Citi</th>\n",
       "      <td>0.427139</td>\n",
       "      <td>0.784763</td>\n",
       "      <td>0.385937</td>\n",
       "      <td>0.305634</td>\n",
       "    </tr>\n",
       "    <tr>\n",
       "      <th>Return_JPM</th>\n",
       "      <td>0.312773</td>\n",
       "      <td>0.385937</td>\n",
       "      <td>0.376631</td>\n",
       "      <td>0.243584</td>\n",
       "    </tr>\n",
       "    <tr>\n",
       "      <th>Return_GS</th>\n",
       "      <td>0.350865</td>\n",
       "      <td>0.305634</td>\n",
       "      <td>0.243584</td>\n",
       "      <td>0.298430</td>\n",
       "    </tr>\n",
       "  </tbody>\n",
       "</table>\n",
       "</div>"
      ],
      "text/plain": [
       "             Return_MS  Return_Citi  Return_JPM  Return_GS\n",
       "Return_MS     0.632212     0.427139    0.312773   0.350865\n",
       "Return_Citi   0.427139     0.784763    0.385937   0.305634\n",
       "Return_JPM    0.312773     0.385937    0.376631   0.243584\n",
       "Return_GS     0.350865     0.305634    0.243584   0.298430"
      ]
     },
     "execution_count": 140,
     "metadata": {},
     "output_type": "execute_result"
    }
   ],
   "source": [
    "df_returns.cov()*252"
   ]
  },
  {
   "cell_type": "markdown",
   "metadata": {},
   "source": [
    "## Optimization using Monte Carlo Simulation (Random Weights)"
   ]
  },
  {
   "cell_type": "code",
   "execution_count": 144,
   "metadata": {},
   "outputs": [
    {
     "name": "stdout",
     "output_type": "stream",
     "text": [
      "Index(['Close_MS', 'Close_Citi', 'JPM_Close', 'GS_Close', 'Return_MS',\n",
      "       'Return_Citi', 'Return_JPM', 'Return_GS'],\n",
      "      dtype='object')\n",
      "Random Weights :  [0.51639863 0.57066759 0.02847423 0.17152166]\n",
      "Rebalance\n",
      "[0.40122278 0.44338777 0.02212343 0.13326603]\n"
     ]
    }
   ],
   "source": [
    "np.random.seed(101)\n",
    "print(df1.columns)\n",
    "rand_weights = np.array(np.random.rand(4))\n",
    "print('Random Weights : ',rand_weights)\n",
    "## To make sum of random weights equal to 1 , divide each random generated weight by sum\n",
    "print('Rebalance')\n",
    "weights = rand_weights/np.sum(rand_weights)\n",
    "print(weights)"
   ]
  },
  {
   "cell_type": "code",
   "execution_count": 153,
   "metadata": {},
   "outputs": [
    {
     "data": {
      "text/plain": [
       "-0.3889862858815879"
      ]
     },
     "execution_count": 153,
     "metadata": {},
     "output_type": "execute_result"
    }
   ],
   "source": [
    "## Yearly portfolio expected return\n",
    "exp_ret = np.sum(df_returns.mean()*weights*252)\n",
    "exp_ret"
   ]
  },
  {
   "cell_type": "code",
   "execution_count": 154,
   "metadata": {},
   "outputs": [
    {
     "data": {
      "text/plain": [
       "0.7083152895453855"
      ]
     },
     "execution_count": 154,
     "metadata": {},
     "output_type": "execute_result"
    }
   ],
   "source": [
    "## Portfolio Volatility Yearly\n",
    "exp_vol = np.sqrt(np.dot(weights.T,np.dot(df_returns.cov()*252,weights)))\n",
    "exp_vol"
   ]
  },
  {
   "cell_type": "code",
   "execution_count": 156,
   "metadata": {},
   "outputs": [
    {
     "name": "stdout",
     "output_type": "stream",
     "text": [
      "Sharpe Ratio : -0.549171098835448\n"
     ]
    }
   ],
   "source": [
    "## Sharpe Ratio\n",
    "sr = exp_ret/exp_vol\n",
    "print('Sharpe Ratio :',sr)"
   ]
  },
  {
   "cell_type": "code",
   "execution_count": 158,
   "metadata": {},
   "outputs": [],
   "source": [
    "## Final code for monte carlo\n",
    "np.random.seed(101)\n",
    "num_ports = 10000\n",
    "all_weights = np.zeros((num_ports,len(df_returns.columns)))\n",
    "ret_arr = np.zeros(num_ports)\n",
    "vol_arr = np.zeros(num_ports)\n",
    "sharpe_arr = np.zeros(num_ports)\n",
    "\n",
    "for ind in range(num_ports):\n",
    "    rand_weights = np.array(np.random.rand(4))\n",
    "    ## To make sum of random weights equal to 1 , divide each random generated weight by sum\n",
    "    weights = rand_weights/np.sum(rand_weights)\n",
    "    all_weights[ind,:] = weights\n",
    "    ## Yearly portfolio expected return\n",
    "    ret_arr[ind] = np.sum(df_returns.mean()*weights*252)\n",
    "    ## Portfolio Volatility Yearly\n",
    "    vol_arr[ind] = np.sqrt(np.dot(weights.T,np.dot(df_returns.cov()*252,weights)))\n",
    "    ## Sharpe Ratio\n",
    "    sharpe_arr[ind] = ret_arr[ind]/vol_arr[ind]"
   ]
  },
  {
   "cell_type": "raw",
   "metadata": {},
   "source": [
    "sharpe_arr.max()"
   ]
  },
  {
   "cell_type": "code",
   "execution_count": 160,
   "metadata": {},
   "outputs": [
    {
     "data": {
      "text/plain": [
       "7872"
      ]
     },
     "execution_count": 160,
     "metadata": {},
     "output_type": "execute_result"
    }
   ],
   "source": [
    "sharpe_arr.argmax()"
   ]
  },
  {
   "cell_type": "code",
   "execution_count": 161,
   "metadata": {},
   "outputs": [
    {
     "data": {
      "text/plain": [
       "array([0.01225268, 0.00812669, 0.74934034, 0.2302803 ])"
      ]
     },
     "execution_count": 161,
     "metadata": {},
     "output_type": "execute_result"
    }
   ],
   "source": [
    "all_weights[7872,:]"
   ]
  },
  {
   "cell_type": "code",
   "execution_count": 163,
   "metadata": {},
   "outputs": [],
   "source": [
    "max_sr_ret = ret_arr[7872]\n",
    "max_sr_vol = vol_arr[7872]"
   ]
  },
  {
   "cell_type": "code",
   "execution_count": 165,
   "metadata": {},
   "outputs": [
    {
     "data": {
      "text/plain": [
       "<matplotlib.collections.PathCollection at 0x2004fbe69e8>"
      ]
     },
     "execution_count": 165,
     "metadata": {},
     "output_type": "execute_result"
    },
    {
     "data": {
      "image/png": "[encoded data removed]",
      "text/plain": [
       "<Figure size 864x576 with 2 Axes>"
      ]
     },
     "metadata": {
      "needs_background": "light"
     },
     "output_type": "display_data"
    }
   ],
   "source": [
    "plt.figure(figsize=(12,8))\n",
    "plt.scatter(vol_arr,ret_arr,c=sharpe_arr,cmap='plasma')\n",
    "plt.colorbar(label='Sharpe Ratio')\n",
    "plt.xlabel('Volatility')\n",
    "plt.ylabel('Return')\n",
    "plt.scatter(max_sr_vol,max_sr_ret,c='red',s=50,edgecolors='black')"
   ]
  },
  {
   "cell_type": "code",
   "execution_count": null,
   "metadata": {},
   "outputs": [],
   "source": []
  },
  {
   "cell_type": "markdown",
   "metadata": {},
   "source": [
    "# Var(Value at Risk) of a Normal Distribution"
   ]
  },
  {
   "cell_type": "code",
   "execution_count": 119,
   "metadata": {},
   "outputs": [],
   "source": [
    "from scipy.stats import norm"
   ]
  },
  {
   "cell_type": "code",
   "execution_count": 120,
   "metadata": {},
   "outputs": [
    {
     "name": "stdout",
     "output_type": "stream",
     "text": [
      "95% VaR:  1.6448536269514722 ; 99% VaR:  2.338794665787308\n"
     ]
    },
    {
     "data": {
      "image/png": "[encoded data removed]",
      "text/plain": [
       "<Figure size 432x288 with 1 Axes>"
      ]
     },
     "metadata": {
      "needs_background": "light"
     },
     "output_type": "display_data"
    }
   ],
   "source": [
    "# Var of a Normal Distribution\n",
    "# Create the VaR measure at the 95% confidence level using norm.ppf()\n",
    "VaR_95 = norm.ppf(0.95)\n",
    "\n",
    "# Create the VaR meaasure at the 5% significance level using numpy.quantile()\n",
    "draws = norm.rvs(size = 100000)\n",
    "VaR_99 = np.quantile(draws, 0.99)\n",
    "\n",
    "# Compare the 95% and 99% VaR\n",
    "print(\"95% VaR: \", VaR_95, \"; 99% VaR: \", VaR_99)\n",
    "\n",
    "# Plot the normal distribution histogram and 95% VaR measure\n",
    "plt.hist(draws, bins = 100)\n",
    "plt.axvline(x = VaR_95, c='r', label = \"VaR at 95% Confidence Level\")\n",
    "plt.axvline(x = VaR_99, c='g', label = \"VaR at 99% Confidence Level\")\n",
    "\n",
    "plt.legend(); plt.show()"
   ]
  },
  {
   "cell_type": "markdown",
   "metadata": {},
   "source": [
    "## CVAR of a Normal Distribution"
   ]
  },
  {
   "cell_type": "code",
   "execution_count": 121,
   "metadata": {},
   "outputs": [
    {
     "data": {
      "text/html": [
       "<div>\n",
       "<style scoped>\n",
       "    .dataframe tbody tr th:only-of-type {\n",
       "        vertical-align: middle;\n",
       "    }\n",
       "\n",
       "    .dataframe tbody tr th {\n",
       "        vertical-align: top;\n",
       "    }\n",
       "\n",
       "    .dataframe thead th {\n",
       "        text-align: right;\n",
       "    }\n",
       "</style>\n",
       "<table border=\"1\" class=\"dataframe\">\n",
       "  <thead>\n",
       "    <tr style=\"text-align: right;\">\n",
       "      <th></th>\n",
       "      <th>returns</th>\n",
       "    </tr>\n",
       "    <tr>\n",
       "      <th>Date</th>\n",
       "      <th></th>\n",
       "    </tr>\n",
       "  </thead>\n",
       "  <tbody>\n",
       "    <tr>\n",
       "      <th>2007-03-01</th>\n",
       "      <td>NaN</td>\n",
       "    </tr>\n",
       "    <tr>\n",
       "      <th>2007-04-01</th>\n",
       "      <td>-0.001691</td>\n",
       "    </tr>\n",
       "    <tr>\n",
       "      <th>2007-05-01</th>\n",
       "      <td>-0.006378</td>\n",
       "    </tr>\n",
       "    <tr>\n",
       "      <th>2007-08-01</th>\n",
       "      <td>0.009431</td>\n",
       "    </tr>\n",
       "    <tr>\n",
       "      <th>2007-09-01</th>\n",
       "      <td>-0.003390</td>\n",
       "    </tr>\n",
       "  </tbody>\n",
       "</table>\n",
       "</div>"
      ],
      "text/plain": [
       "             returns\n",
       "Date                \n",
       "2007-03-01       NaN\n",
       "2007-04-01 -0.001691\n",
       "2007-05-01 -0.006378\n",
       "2007-08-01  0.009431\n",
       "2007-09-01 -0.003390"
      ]
     },
     "execution_count": 121,
     "metadata": {},
     "output_type": "execute_result"
    }
   ],
   "source": [
    "df.head()"
   ]
  },
  {
   "cell_type": "code",
   "execution_count": 122,
   "metadata": {},
   "outputs": [],
   "source": [
    "prtfolio_losses = df[(df['returns']< 0)== True]"
   ]
  },
  {
   "cell_type": "code",
   "execution_count": 123,
   "metadata": {},
   "outputs": [
    {
     "data": {
      "text/html": [
       "<div>\n",
       "<style scoped>\n",
       "    .dataframe tbody tr th:only-of-type {\n",
       "        vertical-align: middle;\n",
       "    }\n",
       "\n",
       "    .dataframe tbody tr th {\n",
       "        vertical-align: top;\n",
       "    }\n",
       "\n",
       "    .dataframe thead th {\n",
       "        text-align: right;\n",
       "    }\n",
       "</style>\n",
       "<table border=\"1\" class=\"dataframe\">\n",
       "  <thead>\n",
       "    <tr style=\"text-align: right;\">\n",
       "      <th></th>\n",
       "      <th>returns</th>\n",
       "    </tr>\n",
       "    <tr>\n",
       "      <th>Date</th>\n",
       "      <th></th>\n",
       "    </tr>\n",
       "  </thead>\n",
       "  <tbody>\n",
       "    <tr>\n",
       "      <th>2007-04-01</th>\n",
       "      <td>-0.001691</td>\n",
       "    </tr>\n",
       "    <tr>\n",
       "      <th>2007-05-01</th>\n",
       "      <td>-0.006378</td>\n",
       "    </tr>\n",
       "    <tr>\n",
       "      <th>2007-09-01</th>\n",
       "      <td>-0.003390</td>\n",
       "    </tr>\n",
       "    <tr>\n",
       "      <th>2007-01-17</th>\n",
       "      <td>-0.002653</td>\n",
       "    </tr>\n",
       "    <tr>\n",
       "      <th>2007-01-18</th>\n",
       "      <td>-0.009223</td>\n",
       "    </tr>\n",
       "  </tbody>\n",
       "</table>\n",
       "</div>"
      ],
      "text/plain": [
       "             returns\n",
       "Date                \n",
       "2007-04-01 -0.001691\n",
       "2007-05-01 -0.006378\n",
       "2007-09-01 -0.003390\n",
       "2007-01-17 -0.002653\n",
       "2007-01-18 -0.009223"
      ]
     },
     "execution_count": 123,
     "metadata": {},
     "output_type": "execute_result"
    }
   ],
   "source": [
    "prtfolio_losses.head()"
   ]
  },
  {
   "cell_type": "code",
   "execution_count": 124,
   "metadata": {},
   "outputs": [
    {
     "data": {
      "text/html": [
       "<div>\n",
       "<style scoped>\n",
       "    .dataframe tbody tr th:only-of-type {\n",
       "        vertical-align: middle;\n",
       "    }\n",
       "\n",
       "    .dataframe tbody tr th {\n",
       "        vertical-align: top;\n",
       "    }\n",
       "\n",
       "    .dataframe thead th {\n",
       "        text-align: right;\n",
       "    }\n",
       "</style>\n",
       "<table border=\"1\" class=\"dataframe\">\n",
       "  <thead>\n",
       "    <tr style=\"text-align: right;\">\n",
       "      <th></th>\n",
       "      <th>returns</th>\n",
       "    </tr>\n",
       "  </thead>\n",
       "  <tbody>\n",
       "    <tr>\n",
       "      <th>count</th>\n",
       "      <td>523.000000</td>\n",
       "    </tr>\n",
       "    <tr>\n",
       "      <th>mean</th>\n",
       "      <td>-0.023568</td>\n",
       "    </tr>\n",
       "    <tr>\n",
       "      <th>std</th>\n",
       "      <td>0.029734</td>\n",
       "    </tr>\n",
       "    <tr>\n",
       "      <th>min</th>\n",
       "      <td>-0.222164</td>\n",
       "    </tr>\n",
       "    <tr>\n",
       "      <th>25%</th>\n",
       "      <td>-0.029437</td>\n",
       "    </tr>\n",
       "    <tr>\n",
       "      <th>50%</th>\n",
       "      <td>-0.013916</td>\n",
       "    </tr>\n",
       "    <tr>\n",
       "      <th>75%</th>\n",
       "      <td>-0.005640</td>\n",
       "    </tr>\n",
       "    <tr>\n",
       "      <th>max</th>\n",
       "      <td>-0.000019</td>\n",
       "    </tr>\n",
       "  </tbody>\n",
       "</table>\n",
       "</div>"
      ],
      "text/plain": [
       "          returns\n",
       "count  523.000000\n",
       "mean    -0.023568\n",
       "std      0.029734\n",
       "min     -0.222164\n",
       "25%     -0.029437\n",
       "50%     -0.013916\n",
       "75%     -0.005640\n",
       "max     -0.000019"
      ]
     },
     "execution_count": 124,
     "metadata": {},
     "output_type": "execute_result"
    }
   ],
   "source": [
    "prtfolio_losses.describe()"
   ]
  },
  {
   "cell_type": "code",
   "execution_count": 125,
   "metadata": {},
   "outputs": [
    {
     "data": {
      "text/html": [
       "<div>\n",
       "<style scoped>\n",
       "    .dataframe tbody tr th:only-of-type {\n",
       "        vertical-align: middle;\n",
       "    }\n",
       "\n",
       "    .dataframe tbody tr th {\n",
       "        vertical-align: top;\n",
       "    }\n",
       "\n",
       "    .dataframe thead th {\n",
       "        text-align: right;\n",
       "    }\n",
       "</style>\n",
       "<table border=\"1\" class=\"dataframe\">\n",
       "  <thead>\n",
       "    <tr style=\"text-align: right;\">\n",
       "      <th></th>\n",
       "      <th>returns</th>\n",
       "    </tr>\n",
       "  </thead>\n",
       "  <tbody>\n",
       "    <tr>\n",
       "      <th>count</th>\n",
       "      <td>1006.000000</td>\n",
       "    </tr>\n",
       "    <tr>\n",
       "      <th>mean</th>\n",
       "      <td>-0.000958</td>\n",
       "    </tr>\n",
       "    <tr>\n",
       "      <th>std</th>\n",
       "      <td>0.039036</td>\n",
       "    </tr>\n",
       "    <tr>\n",
       "      <th>min</th>\n",
       "      <td>-0.222164</td>\n",
       "    </tr>\n",
       "    <tr>\n",
       "      <th>25%</th>\n",
       "      <td>-0.015012</td>\n",
       "    </tr>\n",
       "    <tr>\n",
       "      <th>50%</th>\n",
       "      <td>-0.000807</td>\n",
       "    </tr>\n",
       "    <tr>\n",
       "      <th>75%</th>\n",
       "      <td>0.013192</td>\n",
       "    </tr>\n",
       "    <tr>\n",
       "      <th>max</th>\n",
       "      <td>0.292792</td>\n",
       "    </tr>\n",
       "  </tbody>\n",
       "</table>\n",
       "</div>"
      ],
      "text/plain": [
       "           returns\n",
       "count  1006.000000\n",
       "mean     -0.000958\n",
       "std       0.039036\n",
       "min      -0.222164\n",
       "25%      -0.015012\n",
       "50%      -0.000807\n",
       "75%       0.013192\n",
       "max       0.292792"
      ]
     },
     "execution_count": 125,
     "metadata": {},
     "output_type": "execute_result"
    }
   ],
   "source": [
    "df.describe()"
   ]
  },
  {
   "cell_type": "code",
   "execution_count": 126,
   "metadata": {},
   "outputs": [
    {
     "data": {
      "text/html": [
       "<div>\n",
       "<style scoped>\n",
       "    .dataframe tbody tr th:only-of-type {\n",
       "        vertical-align: middle;\n",
       "    }\n",
       "\n",
       "    .dataframe tbody tr th {\n",
       "        vertical-align: top;\n",
       "    }\n",
       "\n",
       "    .dataframe thead th {\n",
       "        text-align: right;\n",
       "    }\n",
       "</style>\n",
       "<table border=\"1\" class=\"dataframe\">\n",
       "  <thead>\n",
       "    <tr style=\"text-align: right;\">\n",
       "      <th></th>\n",
       "      <th>returns</th>\n",
       "    </tr>\n",
       "    <tr>\n",
       "      <th>Date</th>\n",
       "      <th></th>\n",
       "    </tr>\n",
       "  </thead>\n",
       "  <tbody>\n",
       "    <tr>\n",
       "      <th>2007-03-01</th>\n",
       "      <td>NaN</td>\n",
       "    </tr>\n",
       "    <tr>\n",
       "      <th>2007-04-01</th>\n",
       "      <td>-0.001691</td>\n",
       "    </tr>\n",
       "    <tr>\n",
       "      <th>2007-05-01</th>\n",
       "      <td>-0.006378</td>\n",
       "    </tr>\n",
       "    <tr>\n",
       "      <th>2007-08-01</th>\n",
       "      <td>0.009431</td>\n",
       "    </tr>\n",
       "    <tr>\n",
       "      <th>2007-09-01</th>\n",
       "      <td>-0.003390</td>\n",
       "    </tr>\n",
       "    <tr>\n",
       "      <th>2007-10-01</th>\n",
       "      <td>0.005950</td>\n",
       "    </tr>\n",
       "    <tr>\n",
       "      <th>2007-11-01</th>\n",
       "      <td>0.008202</td>\n",
       "    </tr>\n",
       "    <tr>\n",
       "      <th>2007-12-01</th>\n",
       "      <td>0.003266</td>\n",
       "    </tr>\n",
       "    <tr>\n",
       "      <th>2007-01-16</th>\n",
       "      <td>0.002638</td>\n",
       "    </tr>\n",
       "    <tr>\n",
       "      <th>2007-01-17</th>\n",
       "      <td>-0.002653</td>\n",
       "    </tr>\n",
       "  </tbody>\n",
       "</table>\n",
       "</div>"
      ],
      "text/plain": [
       "             returns\n",
       "Date                \n",
       "2007-03-01       NaN\n",
       "2007-04-01 -0.001691\n",
       "2007-05-01 -0.006378\n",
       "2007-08-01  0.009431\n",
       "2007-09-01 -0.003390\n",
       "2007-10-01  0.005950\n",
       "2007-11-01  0.008202\n",
       "2007-12-01  0.003266\n",
       "2007-01-16  0.002638\n",
       "2007-01-17 -0.002653"
      ]
     },
     "execution_count": 126,
     "metadata": {},
     "output_type": "execute_result"
    }
   ],
   "source": [
    "df.head(10)"
   ]
  },
  {
   "cell_type": "code",
   "execution_count": 127,
   "metadata": {},
   "outputs": [
    {
     "ename": "AttributeError",
     "evalue": "'list' object has no attribute 'iloc'",
     "output_type": "error",
     "traceback": [
      "\u001b[1;31m---------------------------------------------------------------------------\u001b[0m",
      "\u001b[1;31mAttributeError\u001b[0m                            Traceback (most recent call last)",
      "\u001b[1;32m<ipython-input-127-a7f77bb47534>\u001b[0m in \u001b[0;36m<module>\u001b[1;34m\u001b[0m\n\u001b[0;32m      1\u001b[0m \u001b[1;31m# Compute the mean and variance of the portfolio returns\u001b[0m\u001b[1;33m\u001b[0m\u001b[1;33m\u001b[0m\u001b[1;33m\u001b[0m\u001b[0m\n\u001b[1;32m----> 2\u001b[1;33m \u001b[0mpm\u001b[0m \u001b[1;33m=\u001b[0m \u001b[0mportfolio_returns\u001b[0m\u001b[1;33m.\u001b[0m\u001b[0miloc\u001b[0m\u001b[1;33m[\u001b[0m\u001b[1;36m1\u001b[0m\u001b[1;33m:\u001b[0m\u001b[1;33m]\u001b[0m\u001b[1;33m.\u001b[0m\u001b[0mmean\u001b[0m\u001b[1;33m(\u001b[0m\u001b[1;33m)\u001b[0m\u001b[1;33m\u001b[0m\u001b[1;33m\u001b[0m\u001b[0m\n\u001b[0m\u001b[0;32m      3\u001b[0m \u001b[0mps\u001b[0m \u001b[1;33m=\u001b[0m \u001b[0mportfolio_returns\u001b[0m\u001b[1;33m.\u001b[0m\u001b[0miloc\u001b[0m\u001b[1;33m[\u001b[0m\u001b[1;36m1\u001b[0m\u001b[1;33m:\u001b[0m\u001b[1;33m]\u001b[0m\u001b[1;33m.\u001b[0m\u001b[0mstd\u001b[0m\u001b[1;33m(\u001b[0m\u001b[1;33m)\u001b[0m\u001b[1;33m\u001b[0m\u001b[1;33m\u001b[0m\u001b[0m\n\u001b[0;32m      4\u001b[0m \u001b[1;33m\u001b[0m\u001b[0m\n\u001b[0;32m      5\u001b[0m \u001b[1;31m# Compute the 95% VaR using the .ppf()\u001b[0m\u001b[1;33m\u001b[0m\u001b[1;33m\u001b[0m\u001b[1;33m\u001b[0m\u001b[0m\n",
      "\u001b[1;31mAttributeError\u001b[0m: 'list' object has no attribute 'iloc'"
     ]
    }
   ],
   "source": [
    "# Compute the mean and variance of the portfolio returns\n",
    "pm = portfolio_returns.iloc[1:].mean()\n",
    "ps = portfolio_returns.iloc[1:].std()\n",
    "\n",
    "# Compute the 95% VaR using the .ppf()\n",
    "VaR_95 = norm.ppf(0.95, loc = pm, scale = ps)\n",
    "# Compute the expected tail loss and the CVaR in the worst 5% of cases\n",
    "tail_loss = norm.expect(lambda x: x, loc = pm, scale = ps, lb = VaR_95)\n",
    "CVaR_95 = (1 / (1 - 0.95)) * tail_loss\n",
    "\n",
    "# Plot the normal distribution histogram and add lines for the VaR and CVaR\n",
    "plt.hist(norm.rvs(size = 100000, loc = pm, scale = ps), bins = 100)\n",
    "plt.axvline(x = VaR_95, c='r', label = \"VaR, 95% confidence level\")\n",
    "plt.axvline(x = CVaR_95, c='g', label = \"CVaR, worst 5% of outcomes\")\n",
    "plt.legend(); plt.show()"
   ]
  },
  {
   "cell_type": "code",
   "execution_count": null,
   "metadata": {},
   "outputs": [],
   "source": []
  },
  {
   "cell_type": "code",
   "execution_count": 143,
   "metadata": {},
   "outputs": [],
   "source": [
    "# Import the EfficientFrontier class\n",
    "from pypfopt.efficient_frontier import EfficientFrontier\n",
    "\n",
    "# Import the negative_cvar objective function\n",
    "from pypfopt.objective_functions import L2_reg"
   ]
  },
  {
   "cell_type": "code",
   "execution_count": 144,
   "metadata": {},
   "outputs": [
    {
     "data": {
      "text/html": [
       "<div>\n",
       "<style scoped>\n",
       "    .dataframe tbody tr th:only-of-type {\n",
       "        vertical-align: middle;\n",
       "    }\n",
       "\n",
       "    .dataframe tbody tr th {\n",
       "        vertical-align: top;\n",
       "    }\n",
       "\n",
       "    .dataframe thead th {\n",
       "        text-align: right;\n",
       "    }\n",
       "</style>\n",
       "<table border=\"1\" class=\"dataframe\">\n",
       "  <thead>\n",
       "    <tr style=\"text-align: right;\">\n",
       "      <th></th>\n",
       "      <th>Return_MS</th>\n",
       "      <th>Return_Citi</th>\n",
       "      <th>Return_JPM</th>\n",
       "      <th>Return_GS</th>\n",
       "    </tr>\n",
       "    <tr>\n",
       "      <th>Date</th>\n",
       "      <th></th>\n",
       "      <th></th>\n",
       "      <th></th>\n",
       "      <th></th>\n",
       "    </tr>\n",
       "  </thead>\n",
       "  <tbody>\n",
       "    <tr>\n",
       "      <th>2007-03-01</th>\n",
       "      <td>NaN</td>\n",
       "      <td>NaN</td>\n",
       "      <td>NaN</td>\n",
       "      <td>NaN</td>\n",
       "    </tr>\n",
       "    <tr>\n",
       "      <th>2007-04-01</th>\n",
       "      <td>0.003547</td>\n",
       "      <td>-0.003445</td>\n",
       "      <td>0.002493</td>\n",
       "      <td>-0.009360</td>\n",
       "    </tr>\n",
       "    <tr>\n",
       "      <th>2007-05-01</th>\n",
       "      <td>-0.012902</td>\n",
       "      <td>-0.005281</td>\n",
       "      <td>-0.008335</td>\n",
       "      <td>0.001005</td>\n",
       "    </tr>\n",
       "    <tr>\n",
       "      <th>2007-08-01</th>\n",
       "      <td>0.006042</td>\n",
       "      <td>0.005099</td>\n",
       "      <td>0.003342</td>\n",
       "      <td>0.023240</td>\n",
       "    </tr>\n",
       "    <tr>\n",
       "      <th>2007-09-01</th>\n",
       "      <td>-0.002338</td>\n",
       "      <td>-0.008758</td>\n",
       "      <td>-0.004180</td>\n",
       "      <td>0.001717</td>\n",
       "    </tr>\n",
       "    <tr>\n",
       "      <th>...</th>\n",
       "      <td>...</td>\n",
       "      <td>...</td>\n",
       "      <td>...</td>\n",
       "      <td>...</td>\n",
       "    </tr>\n",
       "    <tr>\n",
       "      <th>2010-12-23</th>\n",
       "      <td>0.000365</td>\n",
       "      <td>-0.010627</td>\n",
       "      <td>-0.001899</td>\n",
       "      <td>-0.011863</td>\n",
       "    </tr>\n",
       "    <tr>\n",
       "      <th>2010-12-27</th>\n",
       "      <td>0.003642</td>\n",
       "      <td>0.019048</td>\n",
       "      <td>0.013923</td>\n",
       "      <td>0.013218</td>\n",
       "    </tr>\n",
       "    <tr>\n",
       "      <th>2010-12-28</th>\n",
       "      <td>0.005438</td>\n",
       "      <td>0.002094</td>\n",
       "      <td>-0.001407</td>\n",
       "      <td>-0.003776</td>\n",
       "    </tr>\n",
       "    <tr>\n",
       "      <th>2010-12-29</th>\n",
       "      <td>-0.013833</td>\n",
       "      <td>-0.002094</td>\n",
       "      <td>-0.005884</td>\n",
       "      <td>-0.009263</td>\n",
       "    </tr>\n",
       "    <tr>\n",
       "      <th>2010-12-30</th>\n",
       "      <td>0.001831</td>\n",
       "      <td>-0.002099</td>\n",
       "      <td>-0.003074</td>\n",
       "      <td>0.000060</td>\n",
       "    </tr>\n",
       "  </tbody>\n",
       "</table>\n",
       "<p>1007 rows × 4 columns</p>\n",
       "</div>"
      ],
      "text/plain": [
       "            Return_MS  Return_Citi  Return_JPM  Return_GS\n",
       "Date                                                     \n",
       "2007-03-01        NaN          NaN         NaN        NaN\n",
       "2007-04-01   0.003547    -0.003445    0.002493  -0.009360\n",
       "2007-05-01  -0.012902    -0.005281   -0.008335   0.001005\n",
       "2007-08-01   0.006042     0.005099    0.003342   0.023240\n",
       "2007-09-01  -0.002338    -0.008758   -0.004180   0.001717\n",
       "...               ...          ...         ...        ...\n",
       "2010-12-23   0.000365    -0.010627   -0.001899  -0.011863\n",
       "2010-12-27   0.003642     0.019048    0.013923   0.013218\n",
       "2010-12-28   0.005438     0.002094   -0.001407  -0.003776\n",
       "2010-12-29  -0.013833    -0.002094   -0.005884  -0.009263\n",
       "2010-12-30   0.001831    -0.002099   -0.003074   0.000060\n",
       "\n",
       "[1007 rows x 4 columns]"
      ]
     },
     "execution_count": 144,
     "metadata": {},
     "output_type": "execute_result"
    }
   ],
   "source": [
    "returns"
   ]
  },
  {
   "cell_type": "code",
   "execution_count": 146,
   "metadata": {},
   "outputs": [
    {
     "data": {
      "text/plain": [
       "{'during':             Close_MS  Close_Citi  JPM_Close  GS_Close\n",
       " Close_MS    0.994390    0.465336   0.298613  0.434874\n",
       " Close_Citi  0.465336    0.713035   0.364848  0.323977\n",
       " JPM_Close   0.298613    0.364848   0.422516  0.224668\n",
       " GS_Close    0.434874    0.323977   0.224668  0.408773,\n",
       " 'after':             Close_MS  Close_Citi  JPM_Close  GS_Close\n",
       " Close_MS    0.388839    0.344939   0.279727  0.231624\n",
       " Close_Citi  0.344939    0.841156   0.356788  0.252684\n",
       " JPM_Close   0.279727    0.356788   0.382494  0.223740\n",
       " GS_Close    0.231624    0.252684   0.223740  0.244539}"
      ]
     },
     "execution_count": 146,
     "metadata": {},
     "output_type": "execute_result"
    }
   ],
   "source": [
    "e_cov"
   ]
  },
  {
   "cell_type": "code",
   "execution_count": 147,
   "metadata": {},
   "outputs": [
    {
     "name": "stderr",
     "output_type": "stream",
     "text": [
      "C:\\Users\\TAN\\Anaconda3\\lib\\site-packages\\pypfopt\\efficient_frontier.py:98: UserWarning:\n",
      "\n",
      "No expected returns provided. You may only use ef.min_volatility()\n",
      "\n"
     ]
    },
    {
     "ename": "AttributeError",
     "evalue": "'EfficientFrontier' object has no attribute 'custom_objective'",
     "output_type": "error",
     "traceback": [
      "\u001b[1;31m---------------------------------------------------------------------------\u001b[0m",
      "\u001b[1;31mAttributeError\u001b[0m                            Traceback (most recent call last)",
      "\u001b[1;32m<ipython-input-147-6b13a74ae9ff>\u001b[0m in \u001b[0;36m<module>\u001b[1;34m\u001b[0m\n\u001b[0;32m      3\u001b[0m \u001b[1;33m\u001b[0m\u001b[0m\n\u001b[0;32m      4\u001b[0m \u001b[1;31m# Find the cVar-minimizing portfolio weights at the default 95% confidence level\u001b[0m\u001b[1;33m\u001b[0m\u001b[1;33m\u001b[0m\u001b[1;33m\u001b[0m\u001b[0m\n\u001b[1;32m----> 5\u001b[1;33m \u001b[0moptimal_weights\u001b[0m \u001b[1;33m=\u001b[0m \u001b[0mef\u001b[0m\u001b[1;33m.\u001b[0m\u001b[0mcustom_objective\u001b[0m\u001b[1;33m(\u001b[0m\u001b[0mL2_reg\u001b[0m\u001b[1;33m,\u001b[0m \u001b[0mreturns\u001b[0m\u001b[1;33m)\u001b[0m\u001b[1;33m\u001b[0m\u001b[1;33m\u001b[0m\u001b[0m\n\u001b[0m\u001b[0;32m      6\u001b[0m \u001b[1;33m\u001b[0m\u001b[0m\n\u001b[0;32m      7\u001b[0m \u001b[1;31m# Display the optimal weights\u001b[0m\u001b[1;33m\u001b[0m\u001b[1;33m\u001b[0m\u001b[1;33m\u001b[0m\u001b[0m\n",
      "\u001b[1;31mAttributeError\u001b[0m: 'EfficientFrontier' object has no attribute 'custom_objective'"
     ]
    }
   ],
   "source": [
    "# Create the efficient frontier instance\n",
    "ef = EfficientFrontier(None, covar_ann)\n",
    "\n",
    "# Find the cVar-minimizing portfolio weights at the default 95% confidence level\n",
    "optimal_weights = ef.custom_objective(L2_reg, returns)\n",
    "\n",
    "# Display the optimal weights\n",
    "print(optimal_weights)"
   ]
  },
  {
   "cell_type": "markdown",
   "metadata": {},
   "source": [
    "# Parametric Estimation VaR\n",
    "\n",
    "# Finding best parameters (Theta - Mean and SD) given portfolio data is called Parametric Estimation"
   ]
  },
  {
   "cell_type": "code",
   "execution_count": 41,
   "metadata": {},
   "outputs": [],
   "source": [
    "# In Parameter Estimation VaR, loss distribution is not given, thereby we fit different distribution and with the help of \n",
    "# Anderson Darling test we check goodness of fit."
   ]
  },
  {
   "cell_type": "code",
   "execution_count": 68,
   "metadata": {},
   "outputs": [],
   "source": [
    "from scipy.stats import norm,anderson"
   ]
  },
  {
   "cell_type": "code",
   "execution_count": null,
   "metadata": {},
   "outputs": [],
   "source": []
  },
  {
   "cell_type": "code",
   "execution_count": 43,
   "metadata": {},
   "outputs": [],
   "source": [
    "#new = filter(lambda x: x < 0, portfolio_returns)"
   ]
  },
  {
   "cell_type": "code",
   "execution_count": 44,
   "metadata": {},
   "outputs": [],
   "source": [
    "#les = []\n",
    "#for i in new:\n",
    "#    les.append(i)"
   ]
  },
  {
   "cell_type": "code",
   "execution_count": 45,
   "metadata": {},
   "outputs": [],
   "source": [
    "#losses = pd.DataFrame(les)"
   ]
  },
  {
   "cell_type": "code",
   "execution_count": 46,
   "metadata": {},
   "outputs": [
    {
     "data": {
      "text/html": [
       "<div>\n",
       "<style scoped>\n",
       "    .dataframe tbody tr th:only-of-type {\n",
       "        vertical-align: middle;\n",
       "    }\n",
       "\n",
       "    .dataframe tbody tr th {\n",
       "        vertical-align: top;\n",
       "    }\n",
       "\n",
       "    .dataframe thead th {\n",
       "        text-align: right;\n",
       "    }\n",
       "</style>\n",
       "<table border=\"1\" class=\"dataframe\">\n",
       "  <thead>\n",
       "    <tr style=\"text-align: right;\">\n",
       "      <th></th>\n",
       "      <th>returns</th>\n",
       "    </tr>\n",
       "    <tr>\n",
       "      <th>Date</th>\n",
       "      <th></th>\n",
       "    </tr>\n",
       "  </thead>\n",
       "  <tbody>\n",
       "    <tr>\n",
       "      <th>2008-03-01</th>\n",
       "      <td>0.005552</td>\n",
       "    </tr>\n",
       "    <tr>\n",
       "      <th>2008-04-01</th>\n",
       "      <td>-0.037493</td>\n",
       "    </tr>\n",
       "    <tr>\n",
       "      <th>2008-07-01</th>\n",
       "      <td>-0.017465</td>\n",
       "    </tr>\n",
       "  </tbody>\n",
       "</table>\n",
       "</div>"
      ],
      "text/plain": [
       "             returns\n",
       "Date                \n",
       "2008-03-01  0.005552\n",
       "2008-04-01 -0.037493\n",
       "2008-07-01 -0.017465"
      ]
     },
     "execution_count": 46,
     "metadata": {},
     "output_type": "execute_result"
    }
   ],
   "source": [
    "df.head(3)"
   ]
  },
  {
   "cell_type": "code",
   "execution_count": 47,
   "metadata": {},
   "outputs": [],
   "source": [
    "df_losses = - df"
   ]
  },
  {
   "cell_type": "code",
   "execution_count": 48,
   "metadata": {},
   "outputs": [
    {
     "data": {
      "text/html": [
       "<div>\n",
       "<style scoped>\n",
       "    .dataframe tbody tr th:only-of-type {\n",
       "        vertical-align: middle;\n",
       "    }\n",
       "\n",
       "    .dataframe tbody tr th {\n",
       "        vertical-align: top;\n",
       "    }\n",
       "\n",
       "    .dataframe thead th {\n",
       "        text-align: right;\n",
       "    }\n",
       "</style>\n",
       "<table border=\"1\" class=\"dataframe\">\n",
       "  <thead>\n",
       "    <tr style=\"text-align: right;\">\n",
       "      <th></th>\n",
       "      <th>returns</th>\n",
       "    </tr>\n",
       "    <tr>\n",
       "      <th>Date</th>\n",
       "      <th></th>\n",
       "    </tr>\n",
       "  </thead>\n",
       "  <tbody>\n",
       "    <tr>\n",
       "      <th>2008-03-01</th>\n",
       "      <td>-0.005552</td>\n",
       "    </tr>\n",
       "    <tr>\n",
       "      <th>2008-04-01</th>\n",
       "      <td>0.037493</td>\n",
       "    </tr>\n",
       "    <tr>\n",
       "      <th>2008-07-01</th>\n",
       "      <td>0.017465</td>\n",
       "    </tr>\n",
       "    <tr>\n",
       "      <th>2008-08-01</th>\n",
       "      <td>0.029839</td>\n",
       "    </tr>\n",
       "    <tr>\n",
       "      <th>2008-09-01</th>\n",
       "      <td>-0.005989</td>\n",
       "    </tr>\n",
       "    <tr>\n",
       "      <th>2008-10-01</th>\n",
       "      <td>-0.015516</td>\n",
       "    </tr>\n",
       "    <tr>\n",
       "      <th>2008-11-01</th>\n",
       "      <td>0.006020</td>\n",
       "    </tr>\n",
       "    <tr>\n",
       "      <th>2008-01-14</th>\n",
       "      <td>-0.029620</td>\n",
       "    </tr>\n",
       "    <tr>\n",
       "      <th>2008-01-15</th>\n",
       "      <td>0.055936</td>\n",
       "    </tr>\n",
       "    <tr>\n",
       "      <th>2008-01-16</th>\n",
       "      <td>0.012001</td>\n",
       "    </tr>\n",
       "  </tbody>\n",
       "</table>\n",
       "</div>"
      ],
      "text/plain": [
       "             returns\n",
       "Date                \n",
       "2008-03-01 -0.005552\n",
       "2008-04-01  0.037493\n",
       "2008-07-01  0.017465\n",
       "2008-08-01  0.029839\n",
       "2008-09-01 -0.005989\n",
       "2008-10-01 -0.015516\n",
       "2008-11-01  0.006020\n",
       "2008-01-14 -0.029620\n",
       "2008-01-15  0.055936\n",
       "2008-01-16  0.012001"
      ]
     },
     "execution_count": 48,
     "metadata": {},
     "output_type": "execute_result"
    }
   ],
   "source": [
    "df_losses.head(10)"
   ]
  },
  {
   "cell_type": "code",
   "execution_count": 49,
   "metadata": {},
   "outputs": [],
   "source": [
    "params = norm.fit(df_losses)"
   ]
  },
  {
   "cell_type": "code",
   "execution_count": 50,
   "metadata": {},
   "outputs": [
    {
     "name": "stdout",
     "output_type": "stream",
     "text": [
      "VaR for 95% confidence interval using parameter estimation is 0.07094514881998516\n"
     ]
    }
   ],
   "source": [
    "VaR_95 = norm.ppf(0.95,*params)\n",
    "print(\"VaR for 95% confidence interval using parameter estimation is\",VaR_95)"
   ]
  },
  {
   "cell_type": "code",
   "execution_count": 51,
   "metadata": {},
   "outputs": [
    {
     "name": "stdout",
     "output_type": "stream",
     "text": [
      "anderson darling test AndersonResult(statistic=14.490773021032055, critical_values=array([0.572, 0.651, 0.781, 0.911, 1.083]), significance_level=array([15. , 10. ,  5. ,  2.5,  1. ]))\n"
     ]
    }
   ],
   "source": [
    "print('anderson darling test',anderson(df_losses['returns']))"
   ]
  },
  {
   "cell_type": "code",
   "execution_count": 52,
   "metadata": {},
   "outputs": [],
   "source": [
    "# Test statistic value of 14.49 from the goodness of fit Anderson Darling fit is greater than the critical value of 1.083 it means that\n",
    "# losses are not normally distributed as the critical value exceeeds the 99% conidence interval\n",
    "\n",
    "# Definition wiki - anderson\n",
    "#In many cases (but not all), you can determine a p value for the Anderson-Darling statistic and use that value to help you \n",
    "#determine if the test is significant are not. Remember the p (\"probability\") value is the probability of getting a result \n",
    "##that is more extreme if the null hypothesis is true. If the p value is low (e.g., <=0.05), you conclude that the data do \n",
    "#not follow the normal distribution. Remember that you chose the significance level even though many people just use 0.05 \n",
    "#the vast majority of the time. We will look at two different data sets and apply the Anderson-Darling test to both sets.\n",
    "\n"
   ]
  },
  {
   "cell_type": "code",
   "execution_count": 53,
   "metadata": {},
   "outputs": [],
   "source": [
    "from scipy.stats import skewnorm,skewtest"
   ]
  },
  {
   "cell_type": "code",
   "execution_count": 54,
   "metadata": {},
   "outputs": [],
   "source": [
    "params_skewed = skewnorm.fit(df_losses)"
   ]
  },
  {
   "cell_type": "code",
   "execution_count": 55,
   "metadata": {},
   "outputs": [],
   "source": [
    "VaR_95_Skewnorm = skewnorm.ppf(0.95,*params_skewed)"
   ]
  },
  {
   "cell_type": "code",
   "execution_count": 56,
   "metadata": {},
   "outputs": [
    {
     "name": "stdout",
     "output_type": "stream",
     "text": [
      "VaR 95 for considerling losses as skewnorm distribution 0.06434919304433127\n"
     ]
    }
   ],
   "source": [
    "print('VaR 95 for considerling losses as skewnorm distribution',VaR_95_Skewnorm)"
   ]
  },
  {
   "cell_type": "code",
   "execution_count": 57,
   "metadata": {},
   "outputs": [
    {
     "name": "stdout",
     "output_type": "stream",
     "text": [
      "Skewtest result:  SkewtestResult(statistic=array([-10.48758803]), pvalue=array([9.85110257e-26]))\n"
     ]
    }
   ],
   "source": [
    "print(\"Skewtest result: \", skewtest(df_losses))"
   ]
  },
  {
   "cell_type": "code",
   "execution_count": 58,
   "metadata": {},
   "outputs": [],
   "source": [
    "#Nice. Note that although the VaR estimate for the \n",
    "#Normal distribution from the previous exercise is larger than the skewed Normal distribution estimate, the Anderson-Darling \n",
    "#and skewtest results show the Normal distribution estimates cannot be relied upon. Skewness matters for loss distributions, \n",
    "#and parameter estimation is one way to quantify this important feature of the financial crisis."
   ]
  },
  {
   "cell_type": "code",
   "execution_count": 59,
   "metadata": {},
   "outputs": [
    {
     "data": {
      "text/plain": [
       "<matplotlib.axes._subplots.AxesSubplot at 0x26970f504a8>"
      ]
     },
     "execution_count": 59,
     "metadata": {},
     "output_type": "execute_result"
    },
    {
     "data": {
      "image/png": "[encoded data removed]",
      "text/plain": [
       "<Figure size 432x288 with 1 Axes>"
      ]
     },
     "metadata": {
      "needs_background": "light"
     },
     "output_type": "display_data"
    }
   ],
   "source": [
    "df_losses.plot(color = 'Red')"
   ]
  },
  {
   "cell_type": "code",
   "execution_count": 60,
   "metadata": {},
   "outputs": [],
   "source": [
    "import matplotlib.pyplot as plt"
   ]
  },
  {
   "cell_type": "code",
   "execution_count": 61,
   "metadata": {},
   "outputs": [
    {
     "data": {
      "image/png": "[encoded data removed]",
      "text/plain": [
       "<Figure size 432x288 with 1 Axes>"
      ]
     },
     "metadata": {
      "needs_background": "light"
     },
     "output_type": "display_data"
    }
   ],
   "source": [
    "plt.hist(df_losses)\n",
    "plt.show()"
   ]
  },
  {
   "cell_type": "markdown",
   "metadata": {},
   "source": [
    "# Historical Simulation\n",
    "# EXAMPLE\n",
    "#weights = [0.25, 0.25, 0.25, 0.25]\n",
    "#portfolio_returns = asset_returns.dot(weights)\n",
    "#losses = - portfolio_returns\n",
    "#VaR_95 = np.quantile(losses, 0.95)"
   ]
  },
  {
   "cell_type": "code",
   "execution_count": 62,
   "metadata": {},
   "outputs": [],
   "source": [
    "#Historical simulation: use past to predict future\n",
    "#No distributional assumption required\n",
    "#Data about previous losses become simulated losses for tomorrow"
   ]
  },
  {
   "cell_type": "code",
   "execution_count": 63,
   "metadata": {},
   "outputs": [],
   "source": [
    "VaR_95_HS = np.quantile(df_losses,0.95)"
   ]
  },
  {
   "cell_type": "code",
   "execution_count": 64,
   "metadata": {},
   "outputs": [
    {
     "name": "stdout",
     "output_type": "stream",
     "text": [
      "0.061718355677259654\n"
     ]
    }
   ],
   "source": [
    "print(VaR_95_HS)"
   ]
  },
  {
   "cell_type": "markdown",
   "metadata": {},
   "source": [
    "# monte carlo simulation VaR_95 "
   ]
  },
  {
   "cell_type": "code",
   "execution_count": 65,
   "metadata": {},
   "outputs": [
    {
     "data": {
      "text/html": [
       "<div>\n",
       "<style scoped>\n",
       "    .dataframe tbody tr th:only-of-type {\n",
       "        vertical-align: middle;\n",
       "    }\n",
       "\n",
       "    .dataframe tbody tr th {\n",
       "        vertical-align: top;\n",
       "    }\n",
       "\n",
       "    .dataframe thead th {\n",
       "        text-align: right;\n",
       "    }\n",
       "</style>\n",
       "<table border=\"1\" class=\"dataframe\">\n",
       "  <thead>\n",
       "    <tr style=\"text-align: right;\">\n",
       "      <th></th>\n",
       "      <th>Adj Close Citi</th>\n",
       "      <th>Adj Close GS</th>\n",
       "      <th>Adj Close JPM</th>\n",
       "      <th>Adj Close_MS</th>\n",
       "    </tr>\n",
       "    <tr>\n",
       "      <th>Date</th>\n",
       "      <th></th>\n",
       "      <th></th>\n",
       "      <th></th>\n",
       "      <th></th>\n",
       "    </tr>\n",
       "  </thead>\n",
       "  <tbody>\n",
       "    <tr>\n",
       "      <th>2008-03-01</th>\n",
       "      <td>0.000346</td>\n",
       "      <td>-0.013294</td>\n",
       "      <td>0.035354</td>\n",
       "      <td>-0.000197</td>\n",
       "    </tr>\n",
       "    <tr>\n",
       "      <th>2008-04-01</th>\n",
       "      <td>-0.023851</td>\n",
       "      <td>-0.023970</td>\n",
       "      <td>-0.069955</td>\n",
       "      <td>-0.032194</td>\n",
       "    </tr>\n",
       "  </tbody>\n",
       "</table>\n",
       "</div>"
      ],
      "text/plain": [
       "            Adj Close Citi  Adj Close GS  Adj Close JPM  Adj Close_MS\n",
       "Date                                                                 \n",
       "2008-03-01        0.000346     -0.013294       0.035354     -0.000197\n",
       "2008-04-01       -0.023851     -0.023970      -0.069955     -0.032194"
      ]
     },
     "execution_count": 65,
     "metadata": {},
     "output_type": "execute_result"
    }
   ],
   "source": [
    "returns.head(2)"
   ]
  },
  {
   "cell_type": "code",
   "execution_count": 66,
   "metadata": {},
   "outputs": [],
   "source": [
    "# Monte Carlo Simulation\n",
    "N = 10000\n",
    "total_steps = 1440\n",
    "e_cov = returns.cov()"
   ]
  },
  {
   "cell_type": "code",
   "execution_count": 67,
   "metadata": {},
   "outputs": [
    {
     "name": "stdout",
     "output_type": "stream",
     "text": [
      "                Adj Close Citi  Adj Close GS  Adj Close JPM  Adj Close_MS\n",
      "Adj Close Citi        0.005866      0.002279      -0.000094      0.003270\n",
      "Adj Close GS          0.002279      0.001990      -0.000185      0.002621\n",
      "Adj Close JPM        -0.000094     -0.000185       0.001767     -0.000221\n",
      "Adj Close_MS          0.003270      0.002621      -0.000221      0.005164\n"
     ]
    }
   ],
   "source": [
    "#Covariance Matrix\n",
    "print(e_cov)"
   ]
  },
  {
   "cell_type": "code",
   "execution_count": 68,
   "metadata": {},
   "outputs": [
    {
     "ename": "SyntaxError",
     "evalue": "invalid syntax (<ipython-input-68-26d8d2402902>, line 2)",
     "output_type": "error",
     "traceback": [
      "\u001b[1;36m  File \u001b[1;32m\"<ipython-input-68-26d8d2402902>\"\u001b[1;36m, line \u001b[1;32m2\u001b[0m\n\u001b[1;33m    print(mu)\u001b[0m\n\u001b[1;37m        ^\u001b[0m\n\u001b[1;31mSyntaxError\u001b[0m\u001b[1;31m:\u001b[0m invalid syntax\n"
     ]
    }
   ],
   "source": [
    "mu = np.mean(returns\n",
    "print(mu)"
   ]
  },
  {
   "cell_type": "code",
   "execution_count": null,
   "metadata": {},
   "outputs": [],
   "source": [
    "mu = [[-0.001412],[0.000579],[0.000937],[0.001331]]\n",
    "mu1 = np.matrix(mu)"
   ]
  },
  {
   "cell_type": "code",
   "execution_count": null,
   "metadata": {},
   "outputs": [],
   "source": [
    "print(mu1)"
   ]
  },
  {
   "cell_type": "code",
   "execution_count": null,
   "metadata": {},
   "outputs": [],
   "source": [
    "daily_loss = np.zeros((4,N))\n",
    "# Create the Monte Carlo simulated runs\n",
    "for n in range(N):\n",
    "    # Compute simulated path of length total_steps for correlated returns\n",
    "    correlated_randomness = e_cov @ norm.rvs(size = (4,total_steps))\n",
    "    steps = 1/total_steps\n",
    "    minute_losses = mu1 *  steps + correlated_randomness * np.sqrt(steps)\n",
    "    daily_loss[:, n] = minute_losses.sum(axis=1)"
   ]
  },
  {
   "cell_type": "code",
   "execution_count": null,
   "metadata": {},
   "outputs": [],
   "source": [
    "VaR_95 = np.quantile(daily_loss,0.95)"
   ]
  },
  {
   "cell_type": "code",
   "execution_count": null,
   "metadata": {},
   "outputs": [],
   "source": [
    "print(\"VaR with 95% condidence interval for 4 major investment banks at the time of financial crisis using Monte Carlo Simulation is \\n\", VaR_95)"
   ]
  },
  {
   "cell_type": "code",
   "execution_count": null,
   "metadata": {},
   "outputs": [],
   "source": [
    "#Ordinary Least Square\n",
    "#Ordinary least squares (OLS) regression is a statistical method of analysis that estimates the relationship between one or more independent variables and a dependent variable; the method estimates the relationship by minimizing the sum of the squares in the difference between the observed and predicted values of the dependent variable configured as a straight line."
   ]
  },
  {
   "cell_type": "markdown",
   "metadata": {},
   "source": [
    "# Structural Breaks - Do from Data Camp"
   ]
  },
  {
   "cell_type": "code",
   "execution_count": null,
   "metadata": {},
   "outputs": [],
   "source": [
    "#Chow Test = Whether or not a structural break has occured in the data\n",
    "# Visualization cannot determine exact structural break in the data\n",
    "#Alternative - Time of structural break concides with time of increasing volatility\n",
    "#Stochastic Volatility Model : Volatility can be analyzed statistically through the random probability distribution but\n",
    "# cannot be predicted precisely\n"
   ]
  },
  {
   "cell_type": "code",
   "execution_count": null,
   "metadata": {},
   "outputs": [],
   "source": [
    "# To check if the volatility is non stationary rolling window volatility is calculated\n"
   ]
  },
  {
   "cell_type": "code",
   "execution_count": null,
   "metadata": {},
   "outputs": [],
   "source": [
    "df.head(10)"
   ]
  },
  {
   "cell_type": "code",
   "execution_count": null,
   "metadata": {},
   "outputs": [],
   "source": [
    "roll = df.rolling(30)"
   ]
  },
  {
   "cell_type": "code",
   "execution_count": null,
   "metadata": {},
   "outputs": [],
   "source": [
    "type(roll)"
   ]
  },
  {
   "cell_type": "code",
   "execution_count": null,
   "metadata": {},
   "outputs": [],
   "source": [
    "volatility = roll.std().dropna()"
   ]
  },
  {
   "cell_type": "code",
   "execution_count": null,
   "metadata": {},
   "outputs": [],
   "source": [
    "volatility.plot(color='red').set_ylabel(\"Losses\")"
   ]
  },
  {
   "cell_type": "code",
   "execution_count": null,
   "metadata": {},
   "outputs": [],
   "source": [
    "df.returns.rolling(10).std()"
   ]
  },
  {
   "cell_type": "code",
   "execution_count": null,
   "metadata": {},
   "outputs": [],
   "source": [
    "# VaR and CVaR estimates that data distribution is same throughout (Stationarity Assumption) but there are structural breaks\n",
    "# in between.\n",
    "\n",
    "# So Assume specific points in time for change\n",
    "# Break up data into sub-periods\n",
    "# Within each sub-period, assume stationarity\n",
    "\n",
    "# Chow TEST: Test for evidence of structural breaks\n",
    "#     1. Null hypothesis - No break\n",
    "#     2. Requires three OLS regressions\n",
    "#     3. Regression for entire period\n",
    "#     4. Two regressions, before and after break\n",
    "#     5. Collect sum-of-squared residuals\n",
    "#     6. Test statistic is distributed according to \"F\" distribution\n",
    "    \n",
    "# Noe sometimes it is not easy to visualize the losses to detect the structural break\n",
    "# Sometimes we can use Rolling window volatility to visualize the rolling volatity in the given time period\n",
    "\n",
    "# std() calculates a single value of volatility\n",
    "# rolling.std calculates rolling volatility and you can plot and see the structural break\n",
    "\n",
    "# # Backtesting - from datacamp\n",
    "# #Backtesting is the process of applying a trading strategy or analytical method to historical data to see how accurately\n",
    "# #the strategy or method would have predicted actual results."
   ]
  }
 ],
 "metadata": {
  "kernelspec": {
   "display_name": "Python 3",
   "language": "python",
   "name": "python3"
  },
  "language_info": {
   "codemirror_mode": {
    "name": "ipython",
    "version": 3
   },
   "file_extension": ".py",
   "mimetype": "text/x-python",
   "name": "python",
   "nbconvert_exporter": "python",
   "pygments_lexer": "ipython3",
   "version": "3.7.1"
  }
 },
 "nbformat": 4,
 "nbformat_minor": 2
}
